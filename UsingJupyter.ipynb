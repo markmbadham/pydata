{
 "cells": [
  {
   "cell_type": "markdown",
   "metadata": {
    "slideshow": {
     "slide_type": "notes"
    }
   },
   "source": [
    "# Jupyter Notebooks\n",
    "\n",
    "\n",
    "\n",
    "### What is The Jupyter Notebook?\n",
    "\n",
    "The Jupyter Notebook is an open source web application that is used to create and share documents that contain live code, equations, visualizations, and text. Jupyter Notebook is maintained by the people at Project Jupyter.\n",
    "\n",
    "The Jupyter Notebook is a powerful tool for interactively developing and presenting data science projects because\n",
    "in this case, a **Notebook** is able to\n",
    "* integrate code and its output into a single document\n",
    "* that combines visualizations, narrative text, mathematical equations, and other rich media.\n",
    "\n",
    "This in-built workflow promotes iterative and rapid development, making Notebooks an increasingly popular choice for modern data science, analysis, and increasingly science at large.\n",
    "\n",
    "Jupyter is a loose acronym representing Julia, Python, and R. These three programming languages were the first target languages of the Jupyter application. Notebook technology has grown since to support many other programming languages.\n",
    "\n",
    "\n",
    "### What is The Jupyter Notebook app?\n",
    "\n",
    "As a server-client application, the Jupyter Notebook app allows you to edit and run your Notebooks via a web browser. The application a) can be executed on a PC without Internet access or b) it can be installed on a remote server making it accessible through the Internet.\n",
    "\n",
    "There are two main components:\n",
    "\n",
    "1. A **kernel** is a program that runs and introspects the user’s code. The Jupyter Notebook App has a kernel for Python code, but there are also kernels available for multiple other programming languages.\n",
    "\n",
    "2. The **dashboard** is specifically designed for managing Jupyter Notebooks by facilitating exploring, editing and creating. And is also used to manage the kernels - identifying which ones are running and allowing for them to be shut down if necessary.\n"
   ]
  },
  {
   "cell_type": "markdown",
   "metadata": {
    "slideshow": {
     "slide_type": "notes"
    }
   },
   "source": [
    "## Installing The Jupyter Notebook\n",
    "\n",
    "Jupyter Notebooks is packaged with The Anaconda Python Distribution.\n",
    "\n",
    "Anaconda is the most widely used Python distribution for data science and comes pre-loaded with the most popular libraries and tools. Some of the biggest Python libraries wrapped up in Anaconda include NumPy, pandas and Matplotlib, though the full 1000+ list is exhaustive. \n",
    "\n",
    "One of the requirements to run The Jupyter Notebook is either Python 2.7, or Python 3.3 or greater. The general recommendation is to use the Anaconda distribution to install both Python and the Jupyter Notebook application. \n",
    "\n",
    "### Download and install Anaconda\n",
    "\n",
    "You can download and follow the instructions for the installation of Anaconda [HERE](https://www.anaconda.com/)\n",
    "\n",
    "### The Pythonic Way: pip\n",
    "\n",
    "This Python package-management system may be appropriate for more advanced users with Python already installed and who prefer to manage their packages manually.\n",
    "\n",
    "**On Windows**\n",
    "\n",
    "`python -m pip install -U pip setuptools`\n",
    "\n",
    "**On OS X or Linux**\n",
    "\n",
    "`pip install -U pip setuptools`\n",
    "\n",
    "**Python 2**\n",
    "\n",
    "`pip install jupyter`\n",
    "\n",
    "**Python 3**\n",
    "\n",
    "`pip3 install jupyter`\n",
    "\n",
    "\n",
    "For more information about installing packages, visit: [Running Jupyter Notebooks in Docker Containers](https://jupyter-docker-stacks.readthedocs.io/en/latest/using/running.html)\n"
   ]
  },
  {
   "cell_type": "markdown",
   "metadata": {
    "slideshow": {
     "slide_type": "notes"
    }
   },
   "source": [
    "## Starting The Jupyter Notebook Server\n",
    "\n",
    "It is recommended using the default local Documents folder to store Jupyter Notebooks. Before starting for the first time, create a subfolder: *Notebooks*\n",
    "\n",
    "\n",
    "\n",
    "Then...\n",
    "\n",
    "In Windows, Jupyter can be run via the shortcut Anaconda adds to the Start Menu\n",
    "\n",
    "Or it is also possible to access on any system via the command prompt (or terminal on Unix systems) by entering the command: `jupyter notebook`\n",
    "\n",
    "\n",
    "\n",
    "Resulting in...\n",
    "\n",
    "The application opening in the default web browser on the following address: http://localhost:8888\n",
    "\n",
    "![jupyter-dashboard.jpg](images/jupyter-dashboard.jpg)\n",
    "\n"
   ]
  },
  {
   "cell_type": "markdown",
   "metadata": {
    "slideshow": {
     "slide_type": "notes"
    }
   },
   "source": [
    "## Creating a Jupyter Notebook document\n",
    "\n",
    "In the Jupyter dashboard...\n",
    "\n",
    "1. Browse to the Notebooks subfolder\n",
    "\n",
    "2. Select the `New` labelled drop-down button in the top-right corner of the menu bar\n",
    "\n",
    "![new-notebook-menu.jpg](images/new-notebook-menu.jpg)\n",
    "\n",
    "\n",
    "3. Select `Python 3` (or version of choice) from the drop-down list\n",
    "\n",
    "![02_new_notebook.webp](images/02_new_notebook.webp)\n",
    "\n",
    "\n",
    "In the top left corner of the page, next to the Jupyter logo, is the word: *Untitled* This is the current title for the page and the name of the Jupyter Notebook.\n",
    "\n",
    "4. Click on the title to activate the in-browser dialog box titled: `Rename Notebook`\n",
    "\n",
    "5. Type *Hello Jupyter* in the textbox and select `OK`\n",
    "\n",
    "![03_hello_jupyter.webp](images/03_hello_jupyter.webp)\n",
    "\n",
    "\n",
    "Each Jupyter Notebook is saved as a **.ipynb** file. This is essentially a text file that describes the contents of the Notebook in the format: JSON. Each cell and its contents, including image attachments that have been converted into strings of text, are listed therein along with some metadata.\n"
   ]
  },
  {
   "cell_type": "markdown",
   "metadata": {
    "slideshow": {
     "slide_type": "notes"
    }
   },
   "source": [
    "## Cells\n",
    "\n",
    "Cells form the body of a Jupyter Notebook.\n",
    "\n",
    "1. A **code cell** contains code to be executed in the kernel and displays its output directly below. The first cell in a new Jupyter Notebook is always a code cell. \n",
    "\n",
    "2. A **Markdown cell** contains text formatted using Markdown and displays its output in-place when it is run.\n",
    "\n",
    "All Jupyter Notebook cells default as code cell when first created/inserted, applying the selected kernel such as Python 3. To change the cell type, whilst in the cell, select the **Cell** drop-down menu. And the select the preferred type from the options presented under *Cell Type*\n",
    "\n",
    "\n",
    "**Running a cell** means executing the cell’s contents.\n",
    "This is done by selecting the cell and clicking the `Run` button on the toolbar of by using the keyboard shortcut: `Shift` + `Enter` or `Ctrl` + `Enter`\n",
    "\n",
    "When multiple cells in a Jupyter Notebook are run in order, variables and imports will be shared across the cells where applicable. Making it easier to separate code into logical chunks without the need to reimport libraries nor recreate variables or functions in every cell.\n",
    "\n",
    "When running cells, their specific border will be turned blue: **command mode**, whereas it will be green during authoring: **edit mode**  There is always one active cell highlighted in the Jupyter Notebook with a border colour denoting its current mode.\n",
    "\n",
    "Also, when a code cell is run, a label with square braces with the word: `In` appear in the left margin of the cell. This is simply short for *Input*.\n",
    "\n",
    "These square braces will be blank until auto filled with a number. This number indicates that specific cell's index in the order of all of the cells being run. For example, running the first cell at the top of a Jupyter Notebook will result in the square braces being filled with the number: `1` once the instruction has been completely processed. If this same cell is run again, the square braces will update to reflect the number: `2` on completion.\n",
    "\n",
    "While a code cell is still running, the braces will be filled with an asterisk symbol: `*`\n",
    "\n",
    "\n",
    "The difference between code and Markdown cells is obvious at a glance as code cells have the Input label reflecting in the left margin and Markdown cells do not.\n"
   ]
  },
  {
   "cell_type": "markdown",
   "metadata": {
    "slideshow": {
     "slide_type": "notes"
    }
   },
   "source": [
    "### Exercise 1\n",
    "Type as below in the first cell of the new Jupyter Notebook and run the cell.\n",
    "The result should appear directly below the first cell.\n"
   ]
  },
  {
   "cell_type": "code",
   "execution_count": 2,
   "metadata": {},
   "outputs": [
    {
     "name": "stdout",
     "output_type": "stream",
     "text": [
      "Hello World!\n"
     ]
    }
   ],
   "source": [
    "print('Hello World!')"
   ]
  },
  {
   "cell_type": "markdown",
   "metadata": {
    "slideshow": {
     "slide_type": "notes"
    }
   },
   "source": [
    "### Exercise 2\n",
    "Type as below in a new cell of the same Jupyter Notebook and run the cell.\n",
    "Identify and discuss the different result.\n"
   ]
  },
  {
   "cell_type": "code",
   "execution_count": 7,
   "metadata": {},
   "outputs": [],
   "source": [
    "import time\n",
    "time.sleep(10)"
   ]
  },
  {
   "cell_type": "markdown",
   "metadata": {},
   "source": [
    "## The Menus\n",
    "\n",
    "### File menu\n",
    "Options to create a new Jupyter Notebook or rename or open a pre-existing one. The `Save and Checkpoint` option allows to create checkpoints that can be rolled back to if needed.\n",
    "\n",
    "\n",
    "### Edit menu\n",
    "Options to `Cut`, `Copy`, and `Paste` cells. Also, to `Delete`, `Split`, or `Merge` a cell. As well as reorder cells.\n",
    "\n",
    "Items on this menu will be greyed out if they are not applicable to the cell type of the currently selected cell. For example, a code cell cannot have an image inserted.\n",
    "\n",
    "\n",
    "### View menu\n",
    "Options are useful for toggling the visibility of the app header and toolbar, as well as the cell's toolbar. It is also possible to `Toggle Line Numbers` within cells on or off.\n",
    "\n",
    "\n",
    "### Insert menu\n",
    "Option for inserting cells above or below the currently selected cell.\n",
    "\n",
    "\n",
    "### Cell menu\n",
    "Options to run one cell, a group of cells, or all the cells. As well as change a cell’s type.\n",
    "\n",
    "There is also the ability to clear the cells' `Current Outputs` or `All Output` on this menu. This is most useful when planning to share the Jupyter Notebook with others so that they may run the cells themselves.\n",
    "\n",
    "\n",
    "### Kernel menu\n",
    "Options for working with the kernel that is running in the background. It is possible to `Interupt`, `Restart`or `Reconnect` to or `Shutdown` the kernel. As well as change which kernel the Jupyter Notebook is using. This is most useful if when debugging, it is necessary to work directly with the kernel.\n",
    "\n",
    "\n",
    "### Widgets menu\n",
    "Options for saving and clearing widget states. Widgets are JavaScript widgets that can be added to cells to create dynamic content using Python (or another kernel).\n",
    "\n",
    "\n",
    "### Help menu\n",
    "Option to learn more about the Jupyter Notebook’s `Keyboard Shortcuts`. There is also a `User Interface Tour`, and much reference material.\n"
   ]
  },
  {
   "cell_type": "markdown",
   "metadata": {},
   "source": [
    "## Markdown\n",
    "\n",
    "Markdown is a lightweight, easy to learn mark-up language for formatting plain text.\n",
    "\n",
    "Its syntax has a one-to-one correspondence with HTML tags, so some prior knowledge here would be helpful but is not a prerequisite.\n",
    "\n",
    "### Exercise 3\n",
    "Recreate the following in a new cell of the same Jupyter Notebook in order to experience a basic understanding of formatting options available in Jupyter Notebook.\n"
   ]
  },
  {
   "cell_type": "code",
   "execution_count": null,
   "metadata": {},
   "outputs": [],
   "source": [
    "# This is a Level 1 Heading\n",
    "## This is a Level 2 Heading\n",
    "### This is Level 3 Heading\n",
    "\n",
    "This is some plain text that forms a paragraph.\n",
    "\n",
    "Add emphasis via **bold** and __bold__, or *italic* and _italic_\n",
    "\n",
    "Paragraphs must be separated by an empty line.\n",
    "\n",
    "* Sometimes we want to include lists.\n",
    "    + Very\n",
    "    + Good\n",
    "        - To\n",
    "        - Know\n",
    "* Which can be indented.\n",
    "\n",
    "1. Lists can also be numbered.\n",
    "2. For ordered lists.\n",
    "\n",
    "[It is possible to include hyperlinks](https://www.example.com)\n",
    "\n",
    "For code that is not actually going to run...\n",
    "\n",
    "Inline code uses single backticks: `foo()`\n",
    "    \n",
    "and code blocks use triple backticks:\n",
    "```\n",
    "bar()\n",
    "```\n",
    "\n",
    "or can be indented by 4 spaces:\n",
    "    foo()\n",
    "\n",
    "And finally, adding images: ![Alt text](https://www.example.com/image.jpg)"
   ]
  },
  {
   "cell_type": "markdown",
   "metadata": {
    "slideshow": {
     "slide_type": "notes"
    }
   },
   "source": [
    "## Keyboard Shortcuts\n",
    "\n",
    "These keyboard shortcuts are for Jupyter version 4.1.0 and Mac OSX.\n",
    "For most shortcuts below, it is possible to replace `Cmd` with `Ctrl` for Windows or Linux.\n",
    "\n",
    "Make use of the `H` keyboard shortcut in Windows or Linux to confirm the operating system appropriate keyboard shortcuts.\n",
    "\n",
    "![jupyter_keyboard_shortcuts.png](images/jupyter_keyboard_shortcuts.png)\n",
    "\n",
    "\n",
    "And/or make use `Cmd` + `Shift` + `P` to open the command palette in order to search all the available commands.\n",
    "\n",
    "![jupyter_command_palette.png](images/jupyter_command_palette.png)\n",
    "\n",
    "\n",
    "### Command Mode\n",
    "\n",
    "   - `shift` + `enter` run cell, select below\n",
    "   - `ctrl` + `enter` run cell\n",
    "   - `option` + `enter` run cell, insert below\n",
    "   - `A` insert cell above\n",
    "   - `B` insert cell below\n",
    "   - `C` copy cell\n",
    "   - `V` paste cell\n",
    "   - `D` , `D` delete selected cell\n",
    "   - `shift` + `M` merge selected cells, or current cell with cell below if only one cell selected\n",
    "   - `I` , `I` interrupt kernel\n",
    "   - `0` , `0` restart kernel (with dialog)\n",
    "   - `Y` change cell to `code` mode\n",
    "   - `M` change cell to `Markdown` mode (good for documentation)\n",
    "\n",
    "### Edit Mode\n",
    "\n",
    "   - `cmd` + `click` for multi-cursor editing\n",
    "   - `option` + `scrolling click` for column editing\n",
    "   - `cmd` + `/` toggle comment lines\n",
    "   - `tab` code completion or indent\n",
    "   - `shift` + `tab` tooltip\n",
    "   - `ctrl` + `shift` + `-` split cell\n"
   ]
  },
  {
   "cell_type": "markdown",
   "metadata": {
    "slideshow": {
     "slide_type": "notes"
    }
   },
   "source": [
    "## Extensions\n",
    "\n",
    "One of the most popular extension sets is called `Jupyter Notebook Extensions` available for download here from [GitHub](https://github.com/ipython-contrib/jupyter_contrib_nbextensions)\n",
    "\n",
    "This is actually a collection of extensions that is provided by the Jupyter community. It is also possible to search for other Jupyter Notebook extensions on-line.\n",
    "\n",
    "\n",
    "Most Jupyter Notebook extensions can be installed using Python’s pip tool.\n",
    "\n",
    "If this install option is not compatible, then use the following command:\n",
    "$ jupyter nbextension install EXTENSION_NAME\n",
    "\n",
    "After installing, enable the extension by running the following:\n",
    "$ jupyter nbextension enable EXTENSION_NAME\n",
    "\n",
    "It may be necessary to restart the Jupyter Notebook kernel to see the extension.\n",
    "\n",
    "\n",
    "There is a meta extension called `Jupyter NbExtensions Configurator` that available to manage other extensions alas available for download here from [GitHub](https://github.com/Jupyter-contrib/jupyter_nbextensions_configurator)\n",
    "\n",
    "This allows for the enabling and disabling of extensions from within the Jupyter Notebook’s user interface and also shows all the currently installed extensions.\n"
   ]
  },
  {
   "cell_type": "markdown",
   "metadata": {
    "slideshow": {
     "slide_type": "notes"
    }
   },
   "source": [
    "## Snippets menu\n",
    "\n",
    "This extension adds a customisable drop-down menu to the toolbar after the `Help` menu that allows for easy insertion of code cells with Snippets, boilerplate and examples of code into the current Jupyter Notebook.\n",
    "\n",
    "Snippets are those pieces of code that may be required from time to time, especially when\n",
    "a) the details may be forgotten, or\n",
    "b) a web search may be too time consuming, or\n",
    "c) consistency needs to be maintained throughout, or\n",
    "d) typing out again seems counter-productive or\n",
    "e) there is a general lack of experience and knowledge.\n",
    "\n",
    "It can also be most helpful when just starting out with a programming language for ideas on how to how to construct logical order and syntax such as importing a module, defining variables, or calling functions.\n",
    "\n",
    "The default menu is named `Snippets` and contains sub-menus with Snippets for a few popular Python packages, as well as Python itself, and some Jupyter Notebook Markdown.\n",
    "\n",
    "For more information and installation instructions, click [HERE](https://jupyter-contrib-nbextensions.readthedocs.io/en/latest/nbextensions/snippets_menu/readme.html)\n",
    "\n",
    "![TestSnippets.png](images/TestSnippets.png.png)\n",
    "\n"
   ]
  },
  {
   "cell_type": "markdown",
   "metadata": {
    "slideshow": {
     "slide_type": "notes"
    }
   },
   "source": [
    "The Snippets are defined in a JSON file in nbextensions/snippets/snippets.json with an example snippet included.\n",
    "\n",
    "It is possible use `Textexpander` (Mac OSX) or `PhraseExpress` (Windows) to create customised Snippets.\n",
    "\n",
    "\n",
    "### Example\n",
    "\n",
    "`;imp` becomes:"
   ]
  },
  {
   "cell_type": "code",
   "execution_count": 8,
   "metadata": {},
   "outputs": [],
   "source": [
    "from pprint import pprint"
   ]
  },
  {
   "cell_type": "code",
   "execution_count": 12,
   "metadata": {
    "slideshow": {
     "slide_type": "notes"
    }
   },
   "outputs": [],
   "source": [
    "from __future__ import division\n",
    "\n",
    "import numpy as np\n",
    "\n",
    "import pandas as pd\n",
    "\n",
    "from pandas import Series, DataFrame\n",
    "\n",
    "from numpy.random import randn\n",
    "\n",
    "from scipy import stats\n",
    "\n",
    "import matplotlib as mpl\n",
    "import matplotlib.pyplot as plt\n",
    "import seaborn as sns\n",
    "sns.set_style('whitegrid')\n",
    "\n",
    "%matplotlib inline\n",
    "\n",
    "import math\n",
    "\n",
    "from sklearn.linear_model import LogisticRegression\n",
    "from sklearn.linear_model import LinearRegression\n",
    "#from sklearn.cross_validation import train_test_split (Old SKLearn Version)\n",
    "from sklearn.model_selection import train_test_split\n",
    "\n",
    "from sklearn import metrics\n",
    "\n",
    "import statsmodels.api as sm\n",
    "\n",
    "from pprint import pprint"
   ]
  },
  {
   "cell_type": "markdown",
   "metadata": {},
   "source": [
    "## Sharing Notebooks\n",
    "\n",
    "Mostly individuals share the end-result of their work, which means sharing non-interactive, pre-rendered versions of the Jupyter Notebook. However, it is also possible to collaborate on Jupyter Notebooks with the aid version control systems such as `Git`.\n",
    "\n",
    "Recently, it has been noticed that some organisations are advertising a service to run interactive Jupyter Notebooks in the Cloud.\n",
    "\n",
    "A shared Jupyter Notebook will appear exactly in the same state as was when exported or saved, including the output of any code cells. Therefore, to ensure that a Jupyter Notebook is share-ready, there are a few steps that should be taken before sharing:\n",
    "\n",
    "1. Select `Cell` > `All Output` > `Clear`\n",
    "2. Select `Kernel` > `Restart & Run All`\n",
    "3. Wait for all of the code cells to finish executing and check they did so as was expected\n",
    "\n",
    "This will ensure that the Jupyter Notebook doesn't contain any intermediary output, has a stale state, and will be executed in order at the time of sharing.\n"
   ]
  },
  {
   "cell_type": "markdown",
   "metadata": {},
   "source": [
    "## Exporting Notebooks\n",
    "\n",
    "The Jupyter Notebook has built-in support for exporting to HTML and PDF as well as several other formats.\n",
    "\n",
    "All options to export may be found under the `File` menu on the drop-down `Download as`\n",
    "\n",
    "As many researchers in academic institutions are given some public or internal webspace, Jupyter Notebooks can be an especially convenient way to share results with peers when exported as a HTML file.\n",
    "\n",
    "There are also some popular methods of sharing **.ipynb** files more directly on the web.\n"
   ]
  },
  {
   "cell_type": "markdown",
   "metadata": {},
   "source": [
    "References\n",
    "- https://www.datacamp.com/community/tutorials/tutorial-jupyter-notebook\n",
    "- https://realpython.com/jupyter-notebook-introduction/\n",
    "- https://www.dataquest.io/blog/jupyter-notebook-tutorial/\n",
    "- http://maxmelnick.com/2016/04/19/python-beginner-tips-and-tricks.html"
   ]
  }
 ],
 "metadata": {
  "kernelspec": {
   "display_name": "Python 3",
   "language": "python",
   "name": "python3"
  },
  "language_info": {
   "codemirror_mode": {
    "name": "ipython",
    "version": 3
   },
   "file_extension": ".py",
   "mimetype": "text/x-python",
   "name": "python",
   "nbconvert_exporter": "python",
   "pygments_lexer": "ipython3",
   "version": "3.7.4"
  }
 },
 "nbformat": 4,
 "nbformat_minor": 2
}
