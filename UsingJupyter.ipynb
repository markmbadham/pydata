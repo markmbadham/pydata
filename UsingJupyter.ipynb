{
 "cells": [
  {
   "cell_type": "markdown",
   "metadata": {
    "slideshow": {
     "slide_type": "notes"
    }
   },
   "source": [
    "# Jupyter Notebooks\n",
    "\n",
    "Based on https://www.datacamp.com/community/tutorials/tutorial-jupyter-notebook\n",
    "\n",
    "### What Is A Jupyter Notebook?\n",
    "\n",
    "In this case, \"notebook\" or \"notebook documents\" denote documents that contain both code and rich text elements, such as figures, links, equations, ... Because of the mix of code and text elements, these documents are the ideal place to bring together an analysis description and its results as well as they can be executed perform the data analysis in real time.\n",
    "\n",
    "Jupyter is a loose acronym meaning Julia, Python, and R. These programming languages were the first target languages of the Jupyter application, but nowadays, the notebook technology also supports many other languages. \n",
    "\n",
    "### What Is The Jupyter Notebook App?\n",
    "\n",
    "As a server-client application, the Jupyter Notebook App allows you to edit and run your notebooks via a web browser. The application can be executed on a PC without Internet access or it can be installed on a remote server, where you can access it through the Internet.\n",
    "\n",
    "Its two main components are the kernels and a dashboard.\n",
    "\n",
    "A **kernel** is a program that runs and introspects the user’s code. The Jupyter Notebook App has a kernel for Python code, but there are also kernels available for other programming languages.\n",
    "\n",
    "The **dashboard** of the application not only shows you the notebook documents that you have made and can reopen but can also be used to manage the kernels: you can which ones are running and shut them down if necessary.\n",
    "\n",
    "\n",
    "## Installing Jupyter Notebook\n",
    "\n",
    "Jupyter Notebooks is packaged with The Anaconda Python Distribution\n",
    "\n",
    "One of the requirements here is Python, either Python 3.3 or greater or Python 2.7. The general recommendation is that you use the Anaconda distribution to install both Python and the notebook application. \n",
    "\n",
    "The advantage of Anaconda is that you have access to over 720 packages that can easily be installed with Anaconda's conda, a package, dependency, and environment manager. You can download and follow the instructions for the installation of Anaconda here. \n",
    "\n",
    "Running Jupyter Notebook The Pythonic Way: Pip\n",
    "\n",
    "If you don't want to install Anaconda, you just have to make sure that you have the latest version of pip. If you have installed Python, you will normally already have it.\n",
    "\n",
    "What you do need to do is upgrading pip:\n",
    "\n",
    "### On Windows\n",
    "\n",
    "`python -m pip install -U pip setuptools`\n",
    "\n",
    "### On OS X or Linux\n",
    "\n",
    "`pip install -U pip setuptools`\n",
    "\n",
    "Once you have pip, you can just run\n",
    "\n",
    "### Python2\n",
    "\n",
    "`pip install jupyter`\n",
    "\n",
    "### Python 3\n",
    "\n",
    "`pip3 install jupyter`\n",
    "\n",
    "If you need more information about installing packages in Python, you can go to this page. \n",
    "Running Jupyter Notebooks in Docker Containers\n",
    "\n",
    "\n",
    "Now that you know what you'll be working with and you have installed it, it's time to get started for real!\n",
    "Getting Started With Jupyter Notebooks\n",
    "\n",
    "Run the following command to open up the application:\n",
    "\n",
    "jupyter notebook\n",
    "\n",
    "Then you'll see the application opening in the web browser on the following address: http://localhost:8888. "
   ]
  },
  {
   "cell_type": "markdown",
   "metadata": {
    "slideshow": {
     "slide_type": "notes"
    }
   },
   "source": [
    "## Keyboard Shortcuts\n",
    "\n",
    "from: http://maxmelnick.com/2016/04/19/python-beginner-tips-and-tricks.html\n",
    "\n",
    "**NOTE** these keyboard shortcuts are for Jupyter version 4.1.0 and Mac OSX. For most shortcuts below, you can replace cmd for ctrl for Windows or Linux. Or, you can use the H keyboard shortcut in Windows or Linux to confirm the appropriate keyboard shortcuts for those operating systems.\n",
    "\n",
    "**Command mode vs. Edit mode**\n",
    "\n",
    "But first… something key to be aware of: Jupyter Notebooks have two different keyboard input modes:\n",
    "\n",
    "   1. Command mode - binds the keyboard to notebook level actions. Indicated by a grey cell border with a blue left margin.\n",
    "   2. Edit mode - when you’re typing in a cell. Indicated by a green cell border\n",
    "\n",
    "### Command Mode\n",
    "\n",
    "   - `shift` + `enter` run cell, select below\n",
    "   - `ctrl` + `enter` run cell\n",
    "   - `option` + `enter` run cell, insert below\n",
    "   - `A` insert cell above\n",
    "   - `B` insert cell below\n",
    "   - `C` copy cell\n",
    "   - `V` paste cell\n",
    "   - `D` , `D` delete selected cell\n",
    "   - `shift` + `M` merge selected cells, or current cell with cell below if only one cell selected\n",
    "   - `I` , `I` interrupt kernel\n",
    "   - `0` , `0` restart kernel (with dialog)\n",
    "   - `Y` change cell to `code` mode\n",
    "   - `M` change cell to `markdown` mode (good for documentation)\n",
    "\n",
    "### Edit Mode\n",
    "\n",
    "   - `cmd` + `click` for multi-cursor editing\n",
    "   - `option` + `scrolling click` for column editing\n",
    "   - `cmd` + `/` toggle comment lines\n",
    "   - `tab` code completion or indent\n",
    "   - `shift` + `tab` tooltip\n",
    "   - `ctrl` + `shift` + `-` split cell\n",
    "\n",
    "### Command Palette\n",
    "\n",
    "`cmd` + `shift` + `p`\n",
    "\n",
    "Want quick access to all the commands in Jupyter Notebooks? Open the command palette with `cmd + shift + p` and you’ll quickly be able to search all the commands!\n",
    "\n",
    "![jupyter_command_palette.png](images/jupyter_command_palette.png)\n",
    "\n",
    "### View all keyboard shortcuts\n",
    "\n",
    "`H` (in Command mode)\n",
    "\n",
    "Forget what that keyboard shortcut is? Type `H` in Command mode for a list of all available keyboard shortcuts.\n",
    "\n",
    "![jupyter_keyboard_shortcuts.png](images/jupyter_keyboard_shortcuts.png)\n",
    "\n",
    "### Text snippets\n",
    "\n",
    "Text snippets allow me to save time typing and keep things consistent.\n",
    "\n",
    "For my text snippets, I use Textexpander which is Mac OSX only. However, for Windows I’ve used PhraseExpress in the past which works well too.\n",
    "Quick imports for all your favorite packages\n",
    "\n",
    "Constantly importing the same packages and/or forget what that package you always use is named? I like to store my default imports in a snippet such as the following. I’d recommend you create a similar snippet and tune it to your preferences.\n",
    "\n",
    "`;imp` becomes:"
   ]
  },
  {
   "cell_type": "code",
   "execution_count": 21,
   "metadata": {},
   "outputs": [],
   "source": [
    "from pprint import pprint"
   ]
  },
  {
   "cell_type": "code",
   "execution_count": 1,
   "metadata": {
    "slideshow": {
     "slide_type": "notes"
    }
   },
   "outputs": [
    {
     "ename": "ModuleNotFoundError",
     "evalue": "No module named 'sklearn'",
     "output_type": "error",
     "traceback": [
      "\u001b[1;31m---------------------------------------------------------------------------\u001b[0m",
      "\u001b[1;31mModuleNotFoundError\u001b[0m                       Traceback (most recent call last)",
      "\u001b[1;32m<ipython-input-1-0b54531687e2>\u001b[0m in \u001b[0;36m<module>\u001b[1;34m\u001b[0m\n\u001b[0;32m     20\u001b[0m \u001b[1;32mimport\u001b[0m \u001b[0mmath\u001b[0m\u001b[1;33m\u001b[0m\u001b[1;33m\u001b[0m\u001b[0m\n\u001b[0;32m     21\u001b[0m \u001b[1;33m\u001b[0m\u001b[0m\n\u001b[1;32m---> 22\u001b[1;33m \u001b[1;32mfrom\u001b[0m \u001b[0msklearn\u001b[0m\u001b[1;33m.\u001b[0m\u001b[0mlinear_model\u001b[0m \u001b[1;32mimport\u001b[0m \u001b[0mLogisticRegression\u001b[0m\u001b[1;33m\u001b[0m\u001b[1;33m\u001b[0m\u001b[0m\n\u001b[0m\u001b[0;32m     23\u001b[0m \u001b[1;32mfrom\u001b[0m \u001b[0msklearn\u001b[0m\u001b[1;33m.\u001b[0m\u001b[0mlinear_model\u001b[0m \u001b[1;32mimport\u001b[0m \u001b[0mLinearRegression\u001b[0m\u001b[1;33m\u001b[0m\u001b[1;33m\u001b[0m\u001b[0m\n\u001b[0;32m     24\u001b[0m \u001b[1;32mfrom\u001b[0m \u001b[0msklearn\u001b[0m\u001b[1;33m.\u001b[0m\u001b[0mcross_validation\u001b[0m \u001b[1;32mimport\u001b[0m \u001b[0mtrain_test_split\u001b[0m\u001b[1;33m\u001b[0m\u001b[1;33m\u001b[0m\u001b[0m\n",
      "\u001b[1;31mModuleNotFoundError\u001b[0m: No module named 'sklearn'"
     ]
    }
   ],
   "source": [
    "from __future__ import division\n",
    "\n",
    "import numpy as np\n",
    "\n",
    "import pandas as pd\n",
    "\n",
    "from pandas import Series, DataFrame\n",
    "\n",
    "from numpy.random import randn\n",
    "\n",
    "from scipy import stats\n",
    "\n",
    "import matplotlib as mpl\n",
    "import matplotlib.pyplot as plt\n",
    "import seaborn as sns\n",
    "sns.set_style('whitegrid')\n",
    "\n",
    "%matplotlib inline\n",
    "\n",
    "import math\n",
    "\n",
    "from sklearn.linear_model import LogisticRegression\n",
    "from sklearn.linear_model import LinearRegression\n",
    "from sklearn.cross_validation import train_test_split\n",
    "\n",
    "from sklearn import metrics\n",
    "\n",
    "import statsmodels.api as sm\n",
    "\n",
    "from pprint import pprint"
   ]
  },
  {
   "cell_type": "markdown",
   "metadata": {
    "slideshow": {
     "slide_type": "notes"
    }
   },
   "source": [
    "Making writing functions and documentation less painful\n",
    "\n",
    "I like to remind myself to write a function DocString every time I write a function by using the following snippet.\n",
    "\n",
    "`;def` becomes:"
   ]
  },
  {
   "cell_type": "code",
   "execution_count": 4,
   "metadata": {},
   "outputs": [
    {
     "ename": "NameError",
     "evalue": "name 'imp' is not defined",
     "output_type": "error",
     "traceback": [
      "\u001b[1;31m---------------------------------------------------------------------------\u001b[0m",
      "\u001b[1;31mNameError\u001b[0m                                 Traceback (most recent call last)",
      "\u001b[1;32m<ipython-input-4-0dfb13e08e34>\u001b[0m in \u001b[0;36m<module>\u001b[1;34m\u001b[0m\n\u001b[1;32m----> 1\u001b[1;33m \u001b[0mimp\u001b[0m\u001b[1;33m(\u001b[0m\u001b[1;34m\"\"\u001b[0m\u001b[1;33m)\u001b[0m\u001b[1;33m\u001b[0m\u001b[1;33m\u001b[0m\u001b[0m\n\u001b[0m",
      "\u001b[1;31mNameError\u001b[0m: name 'imp' is not defined"
     ]
    }
   ],
   "source": []
  },
  {
   "cell_type": "code",
   "execution_count": null,
   "metadata": {},
   "outputs": [],
   "source": []
  }
 ],
 "metadata": {
  "kernelspec": {
   "display_name": "Python 3",
   "language": "python",
   "name": "python3"
  },
  "language_info": {
   "codemirror_mode": {
    "name": "ipython",
    "version": 3
   },
   "file_extension": ".py",
   "mimetype": "text/x-python",
   "name": "python",
   "nbconvert_exporter": "python",
   "pygments_lexer": "ipython3",
   "version": "3.7.3"
  }
 },
 "nbformat": 4,
 "nbformat_minor": 2
}
