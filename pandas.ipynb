{
 "cells": [
  {
   "cell_type": "markdown",
   "metadata": {},
   "source": [
    "# pandas\n",
    "\n",
    "*Pandas is derived from the term \"panel data\", an econometrics term for data sets that include observations over multiple time periods for the same individuals. — Wikipedia*\n",
    "\n",
    "It is said that the pandas package is the most important tool at the disposal of Data Scientists and Analysts working in Python today. It is a Python Library that is highly optimized for performance, with critical code paths written in Cython or C.\n",
    "\n",
    "The pandas library a central component of the data science toolkit, used in conjunction with other libraries:\n",
    "\n",
    "1. pandas is built on top of the **NumPy** package\n",
    "2. data in pandas is often used to feed\n",
    "- statistical analysis in **SciPy**\n",
    "- plotting functions from **Matplotlib**\n",
    "- machine learning algorithms in **Scikit-learn**\n",
    "3. **Jupyter Notebooks** offer a worthy environment for using pandas to do data exploration and modelling\n",
    "\n",
    "pandas provides tools for reading and writing data, between in-memory data structures and various formats including: \n",
    "- CSV and text files\n",
    "- Microsoft Excel\n",
    "- SQL databases\n",
    "- and the fast HDF5 format\n",
    "\n",
    "\n",
    "### DataFrames and Series\n",
    "\n",
    "The primary two components of pandas are the Series and Data Frame.\n",
    "\n",
    "The core feature is the fast and efficient **DataFrame** object, a two-dimensional table structure consisting of rows and columns. Essentially a collection of Series.\n",
    "\n",
    "Each column is an object known as a **Series**, a one-dimensional labelled array capable of holding any data type (Integers, Strings, floating point numbers, Python objects, etc.). The axis labels are collectively referred to as the Index.\n",
    "\n",
    "Both DataFrames and Series support several methods for data manipulation with integrated indexing.\n",
    "\n",
    "DataFrames support:\n",
    "- sub setting of large data sets\n",
    "- hierarchical axis indexing provides an intuitive way of working with high-dimensional data in a lower-dimensional data structure\n",
    "- intelligent label-based slicing\n",
    "- variability Columns can be inserted and deleted\n",
    "- high performance merging and joining of data sets\n",
    "- collection with a powerful group-by engine allowing split-apply-combine operations on data sets\n",
    "\n",
    "Time series-functionality includes: \n",
    "- date range generation and frequency conversion\n",
    "- moving window statistics, moving window linear regressions\n",
    "- date shifting and lagging\n",
    "\n",
    "\n",
    "### Module structure\n",
    "\n",
    "For purposes of this training, we will follow this outline:\n",
    "\n",
    "1. Install or Import pandas\n",
    "\n",
    "\n",
    "2. Loading data into DataFrames\n",
    "    - from a File\n",
    "    - from a String (Delimited)\n",
    "    - Using a List\n",
    "    - Using a Date Range\n",
    "    - Using other series-like options\n",
    "\n",
    "\n",
    "3. Operations in DataFrames\n",
    "    - Visual References (Transposing, Sorting, DataFrame Information and Statistics)\n",
    "    - Selection by Indexing (by Label, by Position and Boolean Indexing)\n",
    "    - Setting (Adding, Replacing, Appending, Concatenating and Merging)\n",
    "    - Missing Data (Reindexing, Subsitituting and Applying)\n",
    "    - String Methods\n",
    "    - Summarising (Grouping, Stacking, PivotTables, Time Series and Categoricals)\n",
    "    - Statistical Functions (Percent change, Covariance and Correlation)\n",
    "\n",
    "\n",
    "4. Presenting Results\n",
    "    - Plotting (Linear, Histogram and Box)\n",
    "    - File I/O (.csv, HDF5, and Excel)\n",
    "    - Gotchas\n"
   ]
  },
  {
   "cell_type": "code",
   "execution_count": 1116,
   "metadata": {},
   "outputs": [],
   "source": [
    "# an example of how to ask for help in pandas\n",
    "\n",
    "# help(pd.Series.loc)"
   ]
  },
  {
   "cell_type": "markdown",
   "metadata": {},
   "source": [
    "## Install or Import pandas\n",
    "\n",
    "\n",
    "### Install\n",
    "In the terminal program (for Mac users) or command line (for PC users), use either of the following commands:\n",
    "\n",
    "`conda install pandas`\n",
    "\n",
    "OR\n",
    "\n",
    "`pip install pandas`\n",
    "\n",
    "\n",
    "### Import\n",
    "Customarily, we import as follows:"
   ]
  },
  {
   "cell_type": "code",
   "execution_count": 1117,
   "metadata": {},
   "outputs": [],
   "source": [
    "import pandas as pd\n",
    "\n",
    "import numpy as np\n",
    "\n",
    "import matplotlib.pyplot as plt\n",
    "\n"
   ]
  },
  {
   "cell_type": "markdown",
   "metadata": {},
   "source": [
    "## Loading Data into DataFrames\n",
    "\n",
    "pandas loads data by loading data sets into a DataFrame.\n",
    "\n",
    "Data sets may be loaded from existing storage such as from a SQL Database, .csv file, or Excel file.\n",
    "pandas I/O API is a set of top level reader functions that generally return a pandas object (for example: `read_csv`). The corresponding writer functions are object methods (for example: `to_csv`).\n",
    "\n",
    "pandas DataFrames can also be created from a single list or a list of lists, dictionary, and from a list of dictionary etc.\n",
    "\n",
    "![pandas dtypes.png](images/pandas dtypes.png)\n",
    "\n",
    "\n",
    "### From a File\n",
    "\n",
    "With .csv files, a single line is required to load data into a DataFrame:\n",
    "\n",
    "`df = pd.read_csv(file_path, sep=’,’, header=0, index_col=False, names=None)`\n",
    "\n",
    "- `df` would be replaced by the unique name of the DataFrame\n",
    "\n",
    "The pandas function: `read_csv` has a plethora of parameters.\n",
    "The most commonly used parameters include:\n",
    "\n",
    "- `file_path` would be replaced by the required specific path to a file (a str, pathlib.Path, or *py._path.local.LocalPath*), URL (including http, ftp, and S3 locations), or any object with a read() method (such as an open file or StringIO)\n",
    "\n",
    "- `sep=’,’` indicates that the data being read is separated by commas (,). If this is not the case, specify: `sep =\" \"` (if separated by a blank space) or `sep='\\t'` (if separated by a tab)\n",
    "\n",
    "- `header=0` indicates that the names of the columns are in the first row in the file. If this is not the case, specify: `header=None`\n",
    "\n",
    "- `index_col=False` indicates that the first column of the data is not the Index for the DataFrame, If the first column is an Index, specify: `index_col=True`\n",
    "\n",
    "- `names=None` indicates that the column names are not being specified and will be inferred from the .csv file. If this is not the case, specify: `header=some_number` so that the specified column names are read and loaded correctly. Alternatively, specify the names in order as this value, separated by commas\n"
   ]
  },
  {
   "cell_type": "markdown",
   "metadata": {},
   "source": [
    "### From a String (Delimited)\n",
    "\n",
    "It is also possible to load data using a Delimited String.\n",
    "\n",
    "This is done by making use of the pandas API compatibility layer: `pandas.compat` and importing the I/O class: `StringIO`\n",
    "\n",
    "When using the `StringIO` class, ensure imports are according to the Python version in use:\n",
    "- `from StringIO import StringIO` for Python 2\n",
    "- `from io import StringIO` for Python 3\n",
    "\n",
    "\n",
    "_**See example below:**_\n"
   ]
  },
  {
   "cell_type": "code",
   "execution_count": 1118,
   "metadata": {},
   "outputs": [],
   "source": [
    "from io import StringIO\n",
    "gen_load = pd.read_csv(StringIO(\n",
    "\"\"\"\n",
    "Number,Name,Area Name,Nom kV,Load MW,Gen MW\n",
    "1,ONE,ESKOM,400,0,90\n",
    "2,TWO,ESKOM,400,0,90\n",
    "3,THREE,NAMPOWER,400,180,0\n",
    "\"\"\"), index_col = \"Number\")"
   ]
  },
  {
   "cell_type": "markdown",
   "metadata": {},
   "source": [
    "\n",
    "Once loaded, the DataFrame can be called by it's name.\n",
    "\n",
    "\n",
    "_**See example below:**_\n"
   ]
  },
  {
   "cell_type": "code",
   "execution_count": 1119,
   "metadata": {},
   "outputs": [
    {
     "data": {
      "text/html": [
       "<div>\n",
       "<style scoped>\n",
       "    .dataframe tbody tr th:only-of-type {\n",
       "        vertical-align: middle;\n",
       "    }\n",
       "\n",
       "    .dataframe tbody tr th {\n",
       "        vertical-align: top;\n",
       "    }\n",
       "\n",
       "    .dataframe thead th {\n",
       "        text-align: right;\n",
       "    }\n",
       "</style>\n",
       "<table border=\"1\" class=\"dataframe\">\n",
       "  <thead>\n",
       "    <tr style=\"text-align: right;\">\n",
       "      <th></th>\n",
       "      <th>Name</th>\n",
       "      <th>Area Name</th>\n",
       "      <th>Nom kV</th>\n",
       "      <th>Load MW</th>\n",
       "      <th>Gen MW</th>\n",
       "    </tr>\n",
       "    <tr>\n",
       "      <th>Number</th>\n",
       "      <th></th>\n",
       "      <th></th>\n",
       "      <th></th>\n",
       "      <th></th>\n",
       "      <th></th>\n",
       "    </tr>\n",
       "  </thead>\n",
       "  <tbody>\n",
       "    <tr>\n",
       "      <td>1</td>\n",
       "      <td>ONE</td>\n",
       "      <td>ESKOM</td>\n",
       "      <td>400</td>\n",
       "      <td>0</td>\n",
       "      <td>90</td>\n",
       "    </tr>\n",
       "    <tr>\n",
       "      <td>2</td>\n",
       "      <td>TWO</td>\n",
       "      <td>ESKOM</td>\n",
       "      <td>400</td>\n",
       "      <td>0</td>\n",
       "      <td>90</td>\n",
       "    </tr>\n",
       "    <tr>\n",
       "      <td>3</td>\n",
       "      <td>THREE</td>\n",
       "      <td>NAMPOWER</td>\n",
       "      <td>400</td>\n",
       "      <td>180</td>\n",
       "      <td>0</td>\n",
       "    </tr>\n",
       "  </tbody>\n",
       "</table>\n",
       "</div>"
      ],
      "text/plain": [
       "         Name Area Name  Nom kV  Load MW  Gen MW\n",
       "Number                                          \n",
       "1         ONE     ESKOM     400        0      90\n",
       "2         TWO     ESKOM     400        0      90\n",
       "3       THREE  NAMPOWER     400      180       0"
      ]
     },
     "execution_count": 1119,
     "metadata": {},
     "output_type": "execute_result"
    }
   ],
   "source": [
    "gen_load"
   ]
  },
  {
   "cell_type": "markdown",
   "metadata": {},
   "source": [
    "### Using a List\n",
    "\n",
    "pandas also facilitates the creation of a Series by passing a list of values.\n",
    "\n",
    "For this, the pandas function `Series` is called.\n",
    "The result will include a default Integer Index for this Series.\n",
    "This function will also return identification of the datatype (`dtype`) at the end of the DataFrame.\n",
    "\n",
    "Some frequently used _**Series function**_ parameters include:\n",
    "\n",
    "- `data` : array-like, dictionary, or scalar value. Contains data stored in Series, separated by a comma, and enclosed with braces `[]`\n",
    "\n",
    "- `index` : array-like or Index (1d). Values must be hashable and have the same length as data. Non-unique index values are allowed.\n",
    "\n",
    "- `dtype` : numpy.dtype or None. If None, dtype will be inferred\n",
    "\n",
    "\n",
    "pandas treats `None` and `NaN` as interchangeable for indicating missing or null values.\n",
    "By default these missing or null values not included in computations.\n",
    "To list a null value, use: `np.nan`\n",
    "\n",
    "\n",
    "_**See example below:**_\n"
   ]
  },
  {
   "cell_type": "code",
   "execution_count": 1120,
   "metadata": {},
   "outputs": [
    {
     "data": {
      "text/plain": [
       "0    1.0\n",
       "1    3.0\n",
       "2    5.0\n",
       "3    NaN\n",
       "4    6.0\n",
       "5    8.0\n",
       "dtype: float64"
      ]
     },
     "execution_count": 1120,
     "metadata": {},
     "output_type": "execute_result"
    }
   ],
   "source": [
    "sFirst = pd.Series([1,3,5,np.nan,6,8])\n",
    "sFirst"
   ]
  },
  {
   "cell_type": "markdown",
   "metadata": {},
   "source": [
    "### Using a Date Range\n",
    "\n",
    "pandas also facilitates the creation of a DateTime Index by passing a NumPy array.\n",
    "\n",
    "For this, the pandas function `date_range` is called.\n",
    "The resulting Series is named `DateTimeIndex` by default.\n",
    "This function will also return identification of the datatype (`dtype`) as well as the frequency of the values (`freq`).\n",
    "\n",
    "Some frequently used **_Date Range function_** parameters:\n",
    "\n",
    "- `start` : String or datetime-like, optional. Left bound for generating dates\n",
    "\n",
    "- `end` : String or datetime-like, optional. Right bound for generating dates\n",
    "\n",
    "- `periods` : Integer, optional. Number of periods to generate\n",
    "\n",
    "- `freq` : String or DateOffset, default ‘D’ (calendar daily) String can be updated for all calendar options, and also multiples like 7D or 3M\n",
    "\n",
    "\n",
    "_**See example below:**_\n"
   ]
  },
  {
   "cell_type": "code",
   "execution_count": 1121,
   "metadata": {},
   "outputs": [
    {
     "data": {
      "text/plain": [
       "DatetimeIndex(['2019-01-01', '2019-01-02', '2019-01-03', '2019-01-04',\n",
       "               '2019-01-05', '2019-01-06'],\n",
       "              dtype='datetime64[ns]', freq='D')"
      ]
     },
     "execution_count": 1121,
     "metadata": {},
     "output_type": "execute_result"
    }
   ],
   "source": [
    "dates = pd.date_range('20190101', periods=6)\n",
    "\n",
    "dates"
   ]
  },
  {
   "cell_type": "markdown",
   "metadata": {},
   "source": [
    "\n",
    "It is now possible to create a DataFrame with a DateTime Index and labeled columns.\n",
    "\n",
    "\n",
    "_**See example below:**_\n"
   ]
  },
  {
   "cell_type": "code",
   "execution_count": 1122,
   "metadata": {},
   "outputs": [
    {
     "data": {
      "text/html": [
       "<div>\n",
       "<style scoped>\n",
       "    .dataframe tbody tr th:only-of-type {\n",
       "        vertical-align: middle;\n",
       "    }\n",
       "\n",
       "    .dataframe tbody tr th {\n",
       "        vertical-align: top;\n",
       "    }\n",
       "\n",
       "    .dataframe thead th {\n",
       "        text-align: right;\n",
       "    }\n",
       "</style>\n",
       "<table border=\"1\" class=\"dataframe\">\n",
       "  <thead>\n",
       "    <tr style=\"text-align: right;\">\n",
       "      <th></th>\n",
       "      <th>A</th>\n",
       "      <th>B</th>\n",
       "      <th>C</th>\n",
       "      <th>D</th>\n",
       "    </tr>\n",
       "  </thead>\n",
       "  <tbody>\n",
       "    <tr>\n",
       "      <td>2019-01-01</td>\n",
       "      <td>-0.018862</td>\n",
       "      <td>0.506884</td>\n",
       "      <td>0.002931</td>\n",
       "      <td>-0.134582</td>\n",
       "    </tr>\n",
       "    <tr>\n",
       "      <td>2019-01-02</td>\n",
       "      <td>0.160282</td>\n",
       "      <td>1.263459</td>\n",
       "      <td>-0.304879</td>\n",
       "      <td>0.063906</td>\n",
       "    </tr>\n",
       "    <tr>\n",
       "      <td>2019-01-03</td>\n",
       "      <td>-0.489581</td>\n",
       "      <td>-0.140495</td>\n",
       "      <td>-1.804682</td>\n",
       "      <td>-0.830140</td>\n",
       "    </tr>\n",
       "    <tr>\n",
       "      <td>2019-01-04</td>\n",
       "      <td>0.533439</td>\n",
       "      <td>1.288184</td>\n",
       "      <td>0.830266</td>\n",
       "      <td>0.693305</td>\n",
       "    </tr>\n",
       "    <tr>\n",
       "      <td>2019-01-05</td>\n",
       "      <td>0.392912</td>\n",
       "      <td>-0.643530</td>\n",
       "      <td>1.619957</td>\n",
       "      <td>0.316364</td>\n",
       "    </tr>\n",
       "    <tr>\n",
       "      <td>2019-01-06</td>\n",
       "      <td>0.297479</td>\n",
       "      <td>-0.755912</td>\n",
       "      <td>2.391173</td>\n",
       "      <td>2.099550</td>\n",
       "    </tr>\n",
       "  </tbody>\n",
       "</table>\n",
       "</div>"
      ],
      "text/plain": [
       "                   A         B         C         D\n",
       "2019-01-01 -0.018862  0.506884  0.002931 -0.134582\n",
       "2019-01-02  0.160282  1.263459 -0.304879  0.063906\n",
       "2019-01-03 -0.489581 -0.140495 -1.804682 -0.830140\n",
       "2019-01-04  0.533439  1.288184  0.830266  0.693305\n",
       "2019-01-05  0.392912 -0.643530  1.619957  0.316364\n",
       "2019-01-06  0.297479 -0.755912  2.391173  2.099550"
      ]
     },
     "execution_count": 1122,
     "metadata": {},
     "output_type": "execute_result"
    }
   ],
   "source": [
    "dfData1 = pd.DataFrame(np.random.randn(6,4), index=dates, columns=list('ABCD'))\n",
    "\n",
    "dfData1"
   ]
  },
  {
   "cell_type": "markdown",
   "metadata": {},
   "source": [
    "### Using other series-like options\n",
    "\n",
    "pandas also facilitates the creation of a DataFrame by passing a dictionary of objects that can be converted to series-like.\n",
    "\n",
    "For this, the pandas function `DataFrame` is called.\n",
    "\n",
    "Some frequently used _**DataFrame function**_ parameters include:\n",
    "\n",
    "- `data` : numpy ndarray (structured or homogeneous), dictionary, or DataFrame. Dictionary can contain Series, arrays, constants, or list-like objects\n",
    "\n",
    "- `index` : Index or array-like. Index to use for resulting DataFrame. Will default to RangeIndex if not provided\n",
    "\n",
    "- `columns` : Index or array-like. Column labels to use for resulting DataFrame. Will default to RangeIndex if not provided\n",
    "\n",
    "- `dtype` : dtype, default None. Data type to force. Only a single dtype is allowed. If None, it is inferred\n",
    "\n",
    "\n",
    "_**See example below:**_\n"
   ]
  },
  {
   "cell_type": "code",
   "execution_count": 1123,
   "metadata": {},
   "outputs": [
    {
     "data": {
      "text/html": [
       "<div>\n",
       "<style scoped>\n",
       "    .dataframe tbody tr th:only-of-type {\n",
       "        vertical-align: middle;\n",
       "    }\n",
       "\n",
       "    .dataframe tbody tr th {\n",
       "        vertical-align: top;\n",
       "    }\n",
       "\n",
       "    .dataframe thead th {\n",
       "        text-align: right;\n",
       "    }\n",
       "</style>\n",
       "<table border=\"1\" class=\"dataframe\">\n",
       "  <thead>\n",
       "    <tr style=\"text-align: right;\">\n",
       "      <th></th>\n",
       "      <th>StartValue</th>\n",
       "      <th>StartDate</th>\n",
       "      <th>EndValue</th>\n",
       "      <th>Activity</th>\n",
       "      <th>Action</th>\n",
       "      <th>Response</th>\n",
       "    </tr>\n",
       "  </thead>\n",
       "  <tbody>\n",
       "    <tr>\n",
       "      <td>0</td>\n",
       "      <td>1.0</td>\n",
       "      <td>2019-01-02</td>\n",
       "      <td>1.0</td>\n",
       "      <td>3</td>\n",
       "      <td>test</td>\n",
       "      <td>foo</td>\n",
       "    </tr>\n",
       "    <tr>\n",
       "      <td>1</td>\n",
       "      <td>1.0</td>\n",
       "      <td>2019-01-02</td>\n",
       "      <td>1.0</td>\n",
       "      <td>3</td>\n",
       "      <td>train</td>\n",
       "      <td>foo</td>\n",
       "    </tr>\n",
       "    <tr>\n",
       "      <td>2</td>\n",
       "      <td>1.0</td>\n",
       "      <td>2019-01-02</td>\n",
       "      <td>1.0</td>\n",
       "      <td>3</td>\n",
       "      <td>test</td>\n",
       "      <td>foo</td>\n",
       "    </tr>\n",
       "    <tr>\n",
       "      <td>3</td>\n",
       "      <td>1.0</td>\n",
       "      <td>2019-01-02</td>\n",
       "      <td>1.0</td>\n",
       "      <td>3</td>\n",
       "      <td>train</td>\n",
       "      <td>foo</td>\n",
       "    </tr>\n",
       "  </tbody>\n",
       "</table>\n",
       "</div>"
      ],
      "text/plain": [
       "   StartValue  StartDate  EndValue  Activity Action Response\n",
       "0         1.0 2019-01-02       1.0         3   test      foo\n",
       "1         1.0 2019-01-02       1.0         3  train      foo\n",
       "2         1.0 2019-01-02       1.0         3   test      foo\n",
       "3         1.0 2019-01-02       1.0         3  train      foo"
      ]
     },
     "execution_count": 1123,
     "metadata": {},
     "output_type": "execute_result"
    }
   ],
   "source": [
    "dfData2 = pd.DataFrame({ 'StartValue' : 1.,\n",
    "                     'StartDate' : pd.Timestamp('20190102'),\n",
    "                     'EndValue' : pd.Series(1,index=list(range(4)),dtype='float32'),\n",
    "                     'Activity' : np.array([3] * 4,dtype='int32'),\n",
    "                     'Action' : pd.Categorical([\"test\",\"train\",\"test\",\"train\"]),\n",
    "                     'Response' : 'foo' })\n",
    "dfData2"
   ]
  },
  {
   "cell_type": "markdown",
   "metadata": {},
   "source": [
    "## Operations in DataFrames\n",
    "\n",
    "IMPORTANT: Some of the pandas methods are **passed inplace**, others not by default. For this reason, pandas has the inplace keyword argument as a parameter in many of its methods. Using `inplace=True` will modify the DataFrame object in place, in other words update and overwrite the DataFrame object variable.\n",
    "\n",
    "### Visual References\n",
    "\n",
    "Especially when working with a new large data set, it is best practice to print out a few attributes of the data set to keep as a visual reference.\n",
    "\n",
    "A good place to start is with an idea/extract of the DataFrame structure.\n",
    "\n",
    "It is possible to request either the **top (`.head`) or bottom (`.tail`) rows.**\n",
    "pandas outputs the first five rows of the DataFrame by default, however the required count may be set as a parameter.\n",
    "\n",
    "\n",
    "_**See examples below:**_\n"
   ]
  },
  {
   "cell_type": "code",
   "execution_count": 1124,
   "metadata": {},
   "outputs": [
    {
     "data": {
      "text/html": [
       "<div>\n",
       "<style scoped>\n",
       "    .dataframe tbody tr th:only-of-type {\n",
       "        vertical-align: middle;\n",
       "    }\n",
       "\n",
       "    .dataframe tbody tr th {\n",
       "        vertical-align: top;\n",
       "    }\n",
       "\n",
       "    .dataframe thead th {\n",
       "        text-align: right;\n",
       "    }\n",
       "</style>\n",
       "<table border=\"1\" class=\"dataframe\">\n",
       "  <thead>\n",
       "    <tr style=\"text-align: right;\">\n",
       "      <th></th>\n",
       "      <th>A</th>\n",
       "      <th>B</th>\n",
       "      <th>C</th>\n",
       "      <th>D</th>\n",
       "    </tr>\n",
       "  </thead>\n",
       "  <tbody>\n",
       "    <tr>\n",
       "      <td>2019-01-01</td>\n",
       "      <td>-0.018862</td>\n",
       "      <td>0.506884</td>\n",
       "      <td>0.002931</td>\n",
       "      <td>-0.134582</td>\n",
       "    </tr>\n",
       "    <tr>\n",
       "      <td>2019-01-02</td>\n",
       "      <td>0.160282</td>\n",
       "      <td>1.263459</td>\n",
       "      <td>-0.304879</td>\n",
       "      <td>0.063906</td>\n",
       "    </tr>\n",
       "    <tr>\n",
       "      <td>2019-01-03</td>\n",
       "      <td>-0.489581</td>\n",
       "      <td>-0.140495</td>\n",
       "      <td>-1.804682</td>\n",
       "      <td>-0.830140</td>\n",
       "    </tr>\n",
       "    <tr>\n",
       "      <td>2019-01-04</td>\n",
       "      <td>0.533439</td>\n",
       "      <td>1.288184</td>\n",
       "      <td>0.830266</td>\n",
       "      <td>0.693305</td>\n",
       "    </tr>\n",
       "    <tr>\n",
       "      <td>2019-01-05</td>\n",
       "      <td>0.392912</td>\n",
       "      <td>-0.643530</td>\n",
       "      <td>1.619957</td>\n",
       "      <td>0.316364</td>\n",
       "    </tr>\n",
       "  </tbody>\n",
       "</table>\n",
       "</div>"
      ],
      "text/plain": [
       "                   A         B         C         D\n",
       "2019-01-01 -0.018862  0.506884  0.002931 -0.134582\n",
       "2019-01-02  0.160282  1.263459 -0.304879  0.063906\n",
       "2019-01-03 -0.489581 -0.140495 -1.804682 -0.830140\n",
       "2019-01-04  0.533439  1.288184  0.830266  0.693305\n",
       "2019-01-05  0.392912 -0.643530  1.619957  0.316364"
      ]
     },
     "execution_count": 1124,
     "metadata": {},
     "output_type": "execute_result"
    }
   ],
   "source": [
    "dfData1.head()"
   ]
  },
  {
   "cell_type": "code",
   "execution_count": 1125,
   "metadata": {},
   "outputs": [
    {
     "data": {
      "text/html": [
       "<div>\n",
       "<style scoped>\n",
       "    .dataframe tbody tr th:only-of-type {\n",
       "        vertical-align: middle;\n",
       "    }\n",
       "\n",
       "    .dataframe tbody tr th {\n",
       "        vertical-align: top;\n",
       "    }\n",
       "\n",
       "    .dataframe thead th {\n",
       "        text-align: right;\n",
       "    }\n",
       "</style>\n",
       "<table border=\"1\" class=\"dataframe\">\n",
       "  <thead>\n",
       "    <tr style=\"text-align: right;\">\n",
       "      <th></th>\n",
       "      <th>A</th>\n",
       "      <th>B</th>\n",
       "      <th>C</th>\n",
       "      <th>D</th>\n",
       "    </tr>\n",
       "  </thead>\n",
       "  <tbody>\n",
       "    <tr>\n",
       "      <td>2019-01-04</td>\n",
       "      <td>0.533439</td>\n",
       "      <td>1.288184</td>\n",
       "      <td>0.830266</td>\n",
       "      <td>0.693305</td>\n",
       "    </tr>\n",
       "    <tr>\n",
       "      <td>2019-01-05</td>\n",
       "      <td>0.392912</td>\n",
       "      <td>-0.643530</td>\n",
       "      <td>1.619957</td>\n",
       "      <td>0.316364</td>\n",
       "    </tr>\n",
       "    <tr>\n",
       "      <td>2019-01-06</td>\n",
       "      <td>0.297479</td>\n",
       "      <td>-0.755912</td>\n",
       "      <td>2.391173</td>\n",
       "      <td>2.099550</td>\n",
       "    </tr>\n",
       "  </tbody>\n",
       "</table>\n",
       "</div>"
      ],
      "text/plain": [
       "                   A         B         C         D\n",
       "2019-01-04  0.533439  1.288184  0.830266  0.693305\n",
       "2019-01-05  0.392912 -0.643530  1.619957  0.316364\n",
       "2019-01-06  0.297479 -0.755912  2.391173  2.099550"
      ]
     },
     "execution_count": 1125,
     "metadata": {},
     "output_type": "execute_result"
    }
   ],
   "source": [
    "dfData1.tail(3)"
   ]
  },
  {
   "cell_type": "markdown",
   "metadata": {},
   "source": [
    "#### Transposing\n",
    "\n",
    "By reviewing the top and/or bottom rows of the data set, it may appear that the DataFrame has not been created as expected and/or could be better structured for anticipated analysis. \n",
    "\n",
    "To assist, pandas facilitates **transposing** of the data set.\n",
    "\n",
    "Transpose is the action of writing rows as columns and vice-versa.\n",
    "\n",
    "\n",
    "_**See example below:**_\n"
   ]
  },
  {
   "cell_type": "code",
   "execution_count": 1126,
   "metadata": {},
   "outputs": [
    {
     "data": {
      "text/html": [
       "<div>\n",
       "<style scoped>\n",
       "    .dataframe tbody tr th:only-of-type {\n",
       "        vertical-align: middle;\n",
       "    }\n",
       "\n",
       "    .dataframe tbody tr th {\n",
       "        vertical-align: top;\n",
       "    }\n",
       "\n",
       "    .dataframe thead th {\n",
       "        text-align: right;\n",
       "    }\n",
       "</style>\n",
       "<table border=\"1\" class=\"dataframe\">\n",
       "  <thead>\n",
       "    <tr style=\"text-align: right;\">\n",
       "      <th></th>\n",
       "      <th>2019-01-01</th>\n",
       "      <th>2019-01-02</th>\n",
       "      <th>2019-01-03</th>\n",
       "      <th>2019-01-04</th>\n",
       "      <th>2019-01-05</th>\n",
       "      <th>2019-01-06</th>\n",
       "    </tr>\n",
       "  </thead>\n",
       "  <tbody>\n",
       "    <tr>\n",
       "      <td>A</td>\n",
       "      <td>-0.018862</td>\n",
       "      <td>0.160282</td>\n",
       "      <td>-0.489581</td>\n",
       "      <td>0.533439</td>\n",
       "      <td>0.392912</td>\n",
       "      <td>0.297479</td>\n",
       "    </tr>\n",
       "    <tr>\n",
       "      <td>B</td>\n",
       "      <td>0.506884</td>\n",
       "      <td>1.263459</td>\n",
       "      <td>-0.140495</td>\n",
       "      <td>1.288184</td>\n",
       "      <td>-0.643530</td>\n",
       "      <td>-0.755912</td>\n",
       "    </tr>\n",
       "    <tr>\n",
       "      <td>C</td>\n",
       "      <td>0.002931</td>\n",
       "      <td>-0.304879</td>\n",
       "      <td>-1.804682</td>\n",
       "      <td>0.830266</td>\n",
       "      <td>1.619957</td>\n",
       "      <td>2.391173</td>\n",
       "    </tr>\n",
       "    <tr>\n",
       "      <td>D</td>\n",
       "      <td>-0.134582</td>\n",
       "      <td>0.063906</td>\n",
       "      <td>-0.830140</td>\n",
       "      <td>0.693305</td>\n",
       "      <td>0.316364</td>\n",
       "      <td>2.099550</td>\n",
       "    </tr>\n",
       "  </tbody>\n",
       "</table>\n",
       "</div>"
      ],
      "text/plain": [
       "   2019-01-01  2019-01-02  2019-01-03  2019-01-04  2019-01-05  2019-01-06\n",
       "A   -0.018862    0.160282   -0.489581    0.533439    0.392912    0.297479\n",
       "B    0.506884    1.263459   -0.140495    1.288184   -0.643530   -0.755912\n",
       "C    0.002931   -0.304879   -1.804682    0.830266    1.619957    2.391173\n",
       "D   -0.134582    0.063906   -0.830140    0.693305    0.316364    2.099550"
      ]
     },
     "execution_count": 1126,
     "metadata": {},
     "output_type": "execute_result"
    }
   ],
   "source": [
    "dfData1.T"
   ]
  },
  {
   "cell_type": "code",
   "execution_count": 1127,
   "metadata": {},
   "outputs": [
    {
     "data": {
      "text/plain": [
       "['A', 'B', 'C', 'D']"
      ]
     },
     "execution_count": 1127,
     "metadata": {},
     "output_type": "execute_result"
    }
   ],
   "source": [
    "# For interest, pandas facilitates the pulling of a list of the Column labels\n",
    "\n",
    "dfData1.columns.tolist()"
   ]
  },
  {
   "cell_type": "code",
   "execution_count": 1128,
   "metadata": {},
   "outputs": [
    {
     "data": {
      "text/plain": [
       "Index(['A', 'B', 'C', 'D'], dtype='object')"
      ]
     },
     "execution_count": 1128,
     "metadata": {},
     "output_type": "execute_result"
    }
   ],
   "source": [
    "# For interest, to return the Column labels as an index object\n",
    "\n",
    "dfData1.columns"
   ]
  },
  {
   "cell_type": "code",
   "execution_count": 1129,
   "metadata": {},
   "outputs": [
    {
     "data": {
      "text/html": [
       "<div>\n",
       "<style scoped>\n",
       "    .dataframe tbody tr th:only-of-type {\n",
       "        vertical-align: middle;\n",
       "    }\n",
       "\n",
       "    .dataframe tbody tr th {\n",
       "        vertical-align: top;\n",
       "    }\n",
       "\n",
       "    .dataframe thead th {\n",
       "        text-align: right;\n",
       "    }\n",
       "</style>\n",
       "<table border=\"1\" class=\"dataframe\">\n",
       "  <thead>\n",
       "    <tr style=\"text-align: right;\">\n",
       "      <th></th>\n",
       "      <th>newA</th>\n",
       "      <th>newB</th>\n",
       "      <th>C</th>\n",
       "      <th>D</th>\n",
       "    </tr>\n",
       "  </thead>\n",
       "  <tbody>\n",
       "    <tr>\n",
       "      <td>2019-01-01</td>\n",
       "      <td>-0.018862</td>\n",
       "      <td>0.506884</td>\n",
       "      <td>0.002931</td>\n",
       "      <td>-0.134582</td>\n",
       "    </tr>\n",
       "    <tr>\n",
       "      <td>2019-01-02</td>\n",
       "      <td>0.160282</td>\n",
       "      <td>1.263459</td>\n",
       "      <td>-0.304879</td>\n",
       "      <td>0.063906</td>\n",
       "    </tr>\n",
       "    <tr>\n",
       "      <td>2019-01-03</td>\n",
       "      <td>-0.489581</td>\n",
       "      <td>-0.140495</td>\n",
       "      <td>-1.804682</td>\n",
       "      <td>-0.830140</td>\n",
       "    </tr>\n",
       "    <tr>\n",
       "      <td>2019-01-04</td>\n",
       "      <td>0.533439</td>\n",
       "      <td>1.288184</td>\n",
       "      <td>0.830266</td>\n",
       "      <td>0.693305</td>\n",
       "    </tr>\n",
       "    <tr>\n",
       "      <td>2019-01-05</td>\n",
       "      <td>0.392912</td>\n",
       "      <td>-0.643530</td>\n",
       "      <td>1.619957</td>\n",
       "      <td>0.316364</td>\n",
       "    </tr>\n",
       "    <tr>\n",
       "      <td>2019-01-06</td>\n",
       "      <td>0.297479</td>\n",
       "      <td>-0.755912</td>\n",
       "      <td>2.391173</td>\n",
       "      <td>2.099550</td>\n",
       "    </tr>\n",
       "  </tbody>\n",
       "</table>\n",
       "</div>"
      ],
      "text/plain": [
       "                newA      newB         C         D\n",
       "2019-01-01 -0.018862  0.506884  0.002931 -0.134582\n",
       "2019-01-02  0.160282  1.263459 -0.304879  0.063906\n",
       "2019-01-03 -0.489581 -0.140495 -1.804682 -0.830140\n",
       "2019-01-04  0.533439  1.288184  0.830266  0.693305\n",
       "2019-01-05  0.392912 -0.643530  1.619957  0.316364\n",
       "2019-01-06  0.297479 -0.755912  2.391173  2.099550"
      ]
     },
     "execution_count": 1129,
     "metadata": {},
     "output_type": "execute_result"
    }
   ],
   "source": [
    "# For interest, it is also possible to change the Column labels\n",
    "# It is important to store the result as a new DataFrame as this renaming function does not occur in-place.\n",
    "\n",
    "dfData1Copy = dfData1.copy()\n",
    "dfData1Copy.rename(columns={'A':'newA','B':'newB'}, inplace=True)\n",
    "dfData1Copy"
   ]
  },
  {
   "cell_type": "markdown",
   "metadata": {},
   "source": [
    "#### Sorting\n",
    "\n",
    "To further assist for presentation, pandas facilitates **sorting** of the data set.\n",
    "\n",
    "It is possible to sort either by the Index (`.sort_index`) or by values (`.sort_values`)\n",
    "\n",
    "Some frequently used **_Sort function_** parameters include:\n",
    "\n",
    "- `by` : string or list of string.\n",
    "\n",
    "- `axis` : {0 or ‘index’, 1 or ‘columns’}, default 0 Axis to be sorted.\n",
    "\n",
    "- `ascending` : Boolean or list of Boolean, default True. Sort ascending vs. descending. Able to specify a list for multiple sort orders.\n",
    "\n",
    "- `inplace` : Boolean, default False. If True, perform operation in-place.\n",
    "\n",
    "\n",
    "\n",
    "_**See examples below:**_\n"
   ]
  },
  {
   "cell_type": "code",
   "execution_count": 1130,
   "metadata": {},
   "outputs": [
    {
     "data": {
      "text/html": [
       "<div>\n",
       "<style scoped>\n",
       "    .dataframe tbody tr th:only-of-type {\n",
       "        vertical-align: middle;\n",
       "    }\n",
       "\n",
       "    .dataframe tbody tr th {\n",
       "        vertical-align: top;\n",
       "    }\n",
       "\n",
       "    .dataframe thead th {\n",
       "        text-align: right;\n",
       "    }\n",
       "</style>\n",
       "<table border=\"1\" class=\"dataframe\">\n",
       "  <thead>\n",
       "    <tr style=\"text-align: right;\">\n",
       "      <th></th>\n",
       "      <th>D</th>\n",
       "      <th>C</th>\n",
       "      <th>B</th>\n",
       "      <th>A</th>\n",
       "    </tr>\n",
       "  </thead>\n",
       "  <tbody>\n",
       "    <tr>\n",
       "      <td>2019-01-01</td>\n",
       "      <td>-0.134582</td>\n",
       "      <td>0.002931</td>\n",
       "      <td>0.506884</td>\n",
       "      <td>-0.018862</td>\n",
       "    </tr>\n",
       "    <tr>\n",
       "      <td>2019-01-02</td>\n",
       "      <td>0.063906</td>\n",
       "      <td>-0.304879</td>\n",
       "      <td>1.263459</td>\n",
       "      <td>0.160282</td>\n",
       "    </tr>\n",
       "    <tr>\n",
       "      <td>2019-01-03</td>\n",
       "      <td>-0.830140</td>\n",
       "      <td>-1.804682</td>\n",
       "      <td>-0.140495</td>\n",
       "      <td>-0.489581</td>\n",
       "    </tr>\n",
       "    <tr>\n",
       "      <td>2019-01-04</td>\n",
       "      <td>0.693305</td>\n",
       "      <td>0.830266</td>\n",
       "      <td>1.288184</td>\n",
       "      <td>0.533439</td>\n",
       "    </tr>\n",
       "    <tr>\n",
       "      <td>2019-01-05</td>\n",
       "      <td>0.316364</td>\n",
       "      <td>1.619957</td>\n",
       "      <td>-0.643530</td>\n",
       "      <td>0.392912</td>\n",
       "    </tr>\n",
       "    <tr>\n",
       "      <td>2019-01-06</td>\n",
       "      <td>2.099550</td>\n",
       "      <td>2.391173</td>\n",
       "      <td>-0.755912</td>\n",
       "      <td>0.297479</td>\n",
       "    </tr>\n",
       "  </tbody>\n",
       "</table>\n",
       "</div>"
      ],
      "text/plain": [
       "                   D         C         B         A\n",
       "2019-01-01 -0.134582  0.002931  0.506884 -0.018862\n",
       "2019-01-02  0.063906 -0.304879  1.263459  0.160282\n",
       "2019-01-03 -0.830140 -1.804682 -0.140495 -0.489581\n",
       "2019-01-04  0.693305  0.830266  1.288184  0.533439\n",
       "2019-01-05  0.316364  1.619957 -0.643530  0.392912\n",
       "2019-01-06  2.099550  2.391173 -0.755912  0.297479"
      ]
     },
     "execution_count": 1130,
     "metadata": {},
     "output_type": "execute_result"
    }
   ],
   "source": [
    "dfData1.sort_index(axis=1, ascending=False)"
   ]
  },
  {
   "cell_type": "code",
   "execution_count": 1131,
   "metadata": {},
   "outputs": [
    {
     "data": {
      "text/html": [
       "<div>\n",
       "<style scoped>\n",
       "    .dataframe tbody tr th:only-of-type {\n",
       "        vertical-align: middle;\n",
       "    }\n",
       "\n",
       "    .dataframe tbody tr th {\n",
       "        vertical-align: top;\n",
       "    }\n",
       "\n",
       "    .dataframe thead th {\n",
       "        text-align: right;\n",
       "    }\n",
       "</style>\n",
       "<table border=\"1\" class=\"dataframe\">\n",
       "  <thead>\n",
       "    <tr style=\"text-align: right;\">\n",
       "      <th></th>\n",
       "      <th>A</th>\n",
       "      <th>B</th>\n",
       "      <th>C</th>\n",
       "      <th>D</th>\n",
       "    </tr>\n",
       "  </thead>\n",
       "  <tbody>\n",
       "    <tr>\n",
       "      <td>2019-01-06</td>\n",
       "      <td>0.297479</td>\n",
       "      <td>-0.755912</td>\n",
       "      <td>2.391173</td>\n",
       "      <td>2.099550</td>\n",
       "    </tr>\n",
       "    <tr>\n",
       "      <td>2019-01-05</td>\n",
       "      <td>0.392912</td>\n",
       "      <td>-0.643530</td>\n",
       "      <td>1.619957</td>\n",
       "      <td>0.316364</td>\n",
       "    </tr>\n",
       "    <tr>\n",
       "      <td>2019-01-03</td>\n",
       "      <td>-0.489581</td>\n",
       "      <td>-0.140495</td>\n",
       "      <td>-1.804682</td>\n",
       "      <td>-0.830140</td>\n",
       "    </tr>\n",
       "    <tr>\n",
       "      <td>2019-01-01</td>\n",
       "      <td>-0.018862</td>\n",
       "      <td>0.506884</td>\n",
       "      <td>0.002931</td>\n",
       "      <td>-0.134582</td>\n",
       "    </tr>\n",
       "    <tr>\n",
       "      <td>2019-01-02</td>\n",
       "      <td>0.160282</td>\n",
       "      <td>1.263459</td>\n",
       "      <td>-0.304879</td>\n",
       "      <td>0.063906</td>\n",
       "    </tr>\n",
       "    <tr>\n",
       "      <td>2019-01-04</td>\n",
       "      <td>0.533439</td>\n",
       "      <td>1.288184</td>\n",
       "      <td>0.830266</td>\n",
       "      <td>0.693305</td>\n",
       "    </tr>\n",
       "  </tbody>\n",
       "</table>\n",
       "</div>"
      ],
      "text/plain": [
       "                   A         B         C         D\n",
       "2019-01-06  0.297479 -0.755912  2.391173  2.099550\n",
       "2019-01-05  0.392912 -0.643530  1.619957  0.316364\n",
       "2019-01-03 -0.489581 -0.140495 -1.804682 -0.830140\n",
       "2019-01-01 -0.018862  0.506884  0.002931 -0.134582\n",
       "2019-01-02  0.160282  1.263459 -0.304879  0.063906\n",
       "2019-01-04  0.533439  1.288184  0.830266  0.693305"
      ]
     },
     "execution_count": 1131,
     "metadata": {},
     "output_type": "execute_result"
    }
   ],
   "source": [
    "dfData1.sort_values(by='B')"
   ]
  },
  {
   "cell_type": "markdown",
   "metadata": {},
   "source": [
    "#### DataFrame Information\n",
    "\n",
    "Also, especially when working with a new large data set, it is best practice to print out the **Information Document** to keep as a visual reference.\n",
    "\n",
    "Running the command `.info()` provides essential details about the data set such as the number of rows and columns, the number of non-null values, what type of data is in each column, and how much memory your DataFrame is using.\n",
    "\n",
    "\n",
    "_**See example below:**_\n"
   ]
  },
  {
   "cell_type": "code",
   "execution_count": 1132,
   "metadata": {},
   "outputs": [
    {
     "name": "stdout",
     "output_type": "stream",
     "text": [
      "<class 'pandas.core.frame.DataFrame'>\n",
      "DatetimeIndex: 6 entries, 2019-01-01 to 2019-01-06\n",
      "Freq: D\n",
      "Data columns (total 4 columns):\n",
      "A    6 non-null float64\n",
      "B    6 non-null float64\n",
      "C    6 non-null float64\n",
      "D    6 non-null float64\n",
      "dtypes: float64(4)\n",
      "memory usage: 400.0 bytes\n"
     ]
    }
   ],
   "source": [
    "dfData1.info()"
   ]
  },
  {
   "cell_type": "markdown",
   "metadata": {},
   "source": [
    "\n",
    "Alternatively, some details in the data set can be called individually.\n",
    "\n",
    "These attributes include:\n",
    "\n",
    "- `.index` will list the Index values\n",
    "\n",
    "- `.shape` outputs a tuple of (rows, columns)\n",
    "\n",
    "- `.dtypes` will list the datatypes in force\n",
    "\n",
    "- `.columns` will list the Column labels and overall datatype\n",
    "\n",
    "\n",
    "_**See examples below:**_\n"
   ]
  },
  {
   "cell_type": "code",
   "execution_count": 1133,
   "metadata": {},
   "outputs": [
    {
     "data": {
      "text/plain": [
       "DatetimeIndex(['2019-01-01', '2019-01-02', '2019-01-03', '2019-01-04',\n",
       "               '2019-01-05', '2019-01-06'],\n",
       "              dtype='datetime64[ns]', freq='D')"
      ]
     },
     "execution_count": 1133,
     "metadata": {},
     "output_type": "execute_result"
    }
   ],
   "source": [
    "dfData1.index"
   ]
  },
  {
   "cell_type": "code",
   "execution_count": 1134,
   "metadata": {},
   "outputs": [
    {
     "data": {
      "text/plain": [
       "(6, 4)"
      ]
     },
     "execution_count": 1134,
     "metadata": {},
     "output_type": "execute_result"
    }
   ],
   "source": [
    "dfData1.shape"
   ]
  },
  {
   "cell_type": "code",
   "execution_count": 1135,
   "metadata": {},
   "outputs": [
    {
     "data": {
      "text/plain": [
       "A    float64\n",
       "B    float64\n",
       "C    float64\n",
       "D    float64\n",
       "dtype: object"
      ]
     },
     "execution_count": 1135,
     "metadata": {},
     "output_type": "execute_result"
    }
   ],
   "source": [
    "dfData1.dtypes"
   ]
  },
  {
   "cell_type": "code",
   "execution_count": 1136,
   "metadata": {},
   "outputs": [
    {
     "data": {
      "text/plain": [
       "Index(['A', 'B', 'C', 'D'], dtype='object')"
      ]
     },
     "execution_count": 1136,
     "metadata": {},
     "output_type": "execute_result"
    }
   ],
   "source": [
    "dfData1.columns"
   ]
  },
  {
   "cell_type": "markdown",
   "metadata": {},
   "source": [
    "#### DataFrame Statistics\n",
    "\n",
    "It may be useful when working with a new large data set to create a quick **Statistical Summary** of the data set to also keep as a visual reference.\n",
    "\n",
    "Running the command `.describe()` provides for the analysis of numeric data. The resulting index will include count, mean, std, min, max as well as lower, 50 and upper percentiles. By default, the lower percentile is 25 and the upper percentile is 75. The 50 percentile is the same as the median.\n",
    "\n",
    "For object data (e.g. strings or timestamps), the resulting index will include count, unique, top, and freq. The top is the most common value. The freq is the most common value’s frequency. Timestamps also include the first and last items.\n",
    "\n",
    "If multiple object values have the highest count, then the count and top results will be arbitrarily chosen from among those with the highest count.\n",
    "\n",
    "\n",
    "_**See example below:**_\n"
   ]
  },
  {
   "cell_type": "code",
   "execution_count": 1137,
   "metadata": {},
   "outputs": [
    {
     "data": {
      "text/html": [
       "<div>\n",
       "<style scoped>\n",
       "    .dataframe tbody tr th:only-of-type {\n",
       "        vertical-align: middle;\n",
       "    }\n",
       "\n",
       "    .dataframe tbody tr th {\n",
       "        vertical-align: top;\n",
       "    }\n",
       "\n",
       "    .dataframe thead th {\n",
       "        text-align: right;\n",
       "    }\n",
       "</style>\n",
       "<table border=\"1\" class=\"dataframe\">\n",
       "  <thead>\n",
       "    <tr style=\"text-align: right;\">\n",
       "      <th></th>\n",
       "      <th>A</th>\n",
       "      <th>B</th>\n",
       "      <th>C</th>\n",
       "      <th>D</th>\n",
       "    </tr>\n",
       "  </thead>\n",
       "  <tbody>\n",
       "    <tr>\n",
       "      <td>count</td>\n",
       "      <td>6.000000</td>\n",
       "      <td>6.000000</td>\n",
       "      <td>6.000000</td>\n",
       "      <td>6.000000</td>\n",
       "    </tr>\n",
       "    <tr>\n",
       "      <td>mean</td>\n",
       "      <td>0.145945</td>\n",
       "      <td>0.253098</td>\n",
       "      <td>0.455794</td>\n",
       "      <td>0.368067</td>\n",
       "    </tr>\n",
       "    <tr>\n",
       "      <td>std</td>\n",
       "      <td>0.364792</td>\n",
       "      <td>0.909241</td>\n",
       "      <td>1.492291</td>\n",
       "      <td>0.988672</td>\n",
       "    </tr>\n",
       "    <tr>\n",
       "      <td>min</td>\n",
       "      <td>-0.489581</td>\n",
       "      <td>-0.755912</td>\n",
       "      <td>-1.804682</td>\n",
       "      <td>-0.830140</td>\n",
       "    </tr>\n",
       "    <tr>\n",
       "      <td>25%</td>\n",
       "      <td>0.025924</td>\n",
       "      <td>-0.517771</td>\n",
       "      <td>-0.227926</td>\n",
       "      <td>-0.084960</td>\n",
       "    </tr>\n",
       "    <tr>\n",
       "      <td>50%</td>\n",
       "      <td>0.228880</td>\n",
       "      <td>0.183194</td>\n",
       "      <td>0.416599</td>\n",
       "      <td>0.190135</td>\n",
       "    </tr>\n",
       "    <tr>\n",
       "      <td>75%</td>\n",
       "      <td>0.369054</td>\n",
       "      <td>1.074315</td>\n",
       "      <td>1.422534</td>\n",
       "      <td>0.599070</td>\n",
       "    </tr>\n",
       "    <tr>\n",
       "      <td>max</td>\n",
       "      <td>0.533439</td>\n",
       "      <td>1.288184</td>\n",
       "      <td>2.391173</td>\n",
       "      <td>2.099550</td>\n",
       "    </tr>\n",
       "  </tbody>\n",
       "</table>\n",
       "</div>"
      ],
      "text/plain": [
       "              A         B         C         D\n",
       "count  6.000000  6.000000  6.000000  6.000000\n",
       "mean   0.145945  0.253098  0.455794  0.368067\n",
       "std    0.364792  0.909241  1.492291  0.988672\n",
       "min   -0.489581 -0.755912 -1.804682 -0.830140\n",
       "25%    0.025924 -0.517771 -0.227926 -0.084960\n",
       "50%    0.228880  0.183194  0.416599  0.190135\n",
       "75%    0.369054  1.074315  1.422534  0.599070\n",
       "max    0.533439  1.288184  2.391173  2.099550"
      ]
     },
     "execution_count": 1137,
     "metadata": {},
     "output_type": "execute_result"
    }
   ],
   "source": [
    "dfData1.describe()"
   ]
  },
  {
   "cell_type": "markdown",
   "metadata": {},
   "source": [
    "Alternatively, some statistics for the data set can be called individually.\n",
    "\n",
    "These attributes include:\n",
    "\n",
    "- `.count()` returns the number of non-null observations\n",
    "- `.sum()` returns the sum of the values\n",
    "- `.mean()` returns the mean of the values\n",
    "- `.median()` returns the\tmedian of values\n",
    "- `.mode()` returns the mode of values\n",
    "- `.std()` returns the Standard Deviation of the values\n",
    "- `.min()` returns the minimum value\n",
    "- `.max()` returns the maximum value\n",
    "- `.abs()` returns the Absolute value\n",
    "- `.prod()` returns the product of values\n",
    "- `.cumsum()` returns the\tcumulative Sum\n",
    "- `.cumprod()` returns the cumulative Product\n",
    "\n",
    "\n",
    "**See some examples below:**\n"
   ]
  },
  {
   "cell_type": "code",
   "execution_count": 1138,
   "metadata": {},
   "outputs": [
    {
     "data": {
      "text/plain": [
       "0    3\n",
       "1    5\n",
       "2    6\n",
       "3    1\n",
       "4    4\n",
       "5    0\n",
       "6    6\n",
       "7    3\n",
       "8    4\n",
       "9    6\n",
       "dtype: int32"
      ]
     },
     "execution_count": 1138,
     "metadata": {},
     "output_type": "execute_result"
    }
   ],
   "source": [
    "sSecond = pd.Series(np.random.randint(0, 7, size=10))\n",
    "sSecond"
   ]
  },
  {
   "cell_type": "code",
   "execution_count": 1139,
   "metadata": {},
   "outputs": [
    {
     "data": {
      "text/plain": [
       "6    3\n",
       "4    2\n",
       "3    2\n",
       "5    1\n",
       "1    1\n",
       "0    1\n",
       "dtype: int64"
      ]
     },
     "execution_count": 1139,
     "metadata": {},
     "output_type": "execute_result"
    }
   ],
   "source": [
    "# As a Series of Integers has been created, it is possible to count the occurance of each value\n",
    "\n",
    "sSecond.value_counts()"
   ]
  },
  {
   "cell_type": "code",
   "execution_count": 1140,
   "metadata": {},
   "outputs": [
    {
     "data": {
      "text/plain": [
       "A    6\n",
       "B    6\n",
       "C    6\n",
       "D    6\n",
       "dtype: int64"
      ]
     },
     "execution_count": 1140,
     "metadata": {},
     "output_type": "execute_result"
    }
   ],
   "source": [
    "dfData1.count()"
   ]
  },
  {
   "cell_type": "code",
   "execution_count": 1141,
   "metadata": {},
   "outputs": [
    {
     "data": {
      "text/plain": [
       "A    0.145945\n",
       "B    0.253098\n",
       "C    0.455794\n",
       "D    0.368067\n",
       "dtype: float64"
      ]
     },
     "execution_count": 1141,
     "metadata": {},
     "output_type": "execute_result"
    }
   ],
   "source": [
    "dfData1.mean()"
   ]
  },
  {
   "cell_type": "code",
   "execution_count": 1142,
   "metadata": {},
   "outputs": [
    {
     "data": {
      "text/plain": [
       "2019-01-01    0.089093\n",
       "2019-01-02    0.295692\n",
       "2019-01-03   -0.816225\n",
       "2019-01-04    0.836299\n",
       "2019-01-05    0.421426\n",
       "2019-01-06    1.008072\n",
       "Freq: D, dtype: float64"
      ]
     },
     "execution_count": 1142,
     "metadata": {},
     "output_type": "execute_result"
    }
   ],
   "source": [
    "#same operation on the other axis\n",
    "\n",
    "dfData1.mean(1)"
   ]
  },
  {
   "cell_type": "markdown",
   "metadata": {},
   "source": [
    "\n",
    "pandas also facilitates calling only the **values of the data set** as an array.\n",
    "\n",
    "\n",
    "_**See example below:**_\n"
   ]
  },
  {
   "cell_type": "code",
   "execution_count": 1143,
   "metadata": {},
   "outputs": [
    {
     "data": {
      "text/plain": [
       "array([[-0.01886229,  0.50688393,  0.00293113, -0.13458234],\n",
       "       [ 0.16028167,  1.26345862, -0.30487903,  0.0639065 ],\n",
       "       [-0.48958128, -0.14049518, -1.80468158, -0.83014041],\n",
       "       [ 0.53343927,  1.28818425,  0.83026639,  0.69330477],\n",
       "       [ 0.39291198, -0.64353012,  1.61995702,  0.31636386],\n",
       "       [ 0.29747917, -0.7559124 ,  2.39117305,  2.09954998]])"
      ]
     },
     "execution_count": 1143,
     "metadata": {},
     "output_type": "execute_result"
    }
   ],
   "source": [
    "dfData1.values"
   ]
  },
  {
   "cell_type": "markdown",
   "metadata": {},
   "source": [
    "### Selection by Indexing\n",
    "\n",
    "As a DataFrame is a two-dimensional data structure (data is aligned as a table in rows and columns), it is possible to perform basic operations on the rows/columns like selecting, deleting, adding, and renaming.\n",
    "\n",
    "pandas DataFrames support familiar Python expressions for selecting and setting elements using subscripts `[]` and slicing.\n",
    "In pandas, Indexing facilitates selecting particular rows and columns of data from a DataFrame. Indexing can also be known as Subset Selection.\n",
    "\n",
    "pandas offers 4 methods for selection by Indexing:\n",
    "\n",
    "by Label\n",
    "- `.at` and `.loc` both provide name-based indexing\n",
    "- `.at` provides faster indexing for a single element\n",
    "- `.loc` can slice more than one element\n",
    "\n",
    "by Position\n",
    "- `.iat` and `.iloc` both provide integer-based indexing\n",
    "- `.iat` provides indexing for a single element\n",
    "- `.iloc` can slice more than one element\n",
    "\n",
    "pandas Syntax for `loc` and `iloc`:\n",
    "\n",
    "The Indexing operator is used to refer to the braces `[]` following an object.\n",
    "\n",
    "- for a Series: `s.loc[indexer]`\n",
    "- for a DataFrame: `df.loc[row_indexer,column_indexer]`"
   ]
  },
  {
   "cell_type": "markdown",
   "metadata": {},
   "source": [
    "#### Selection by Label\n",
    "\n",
    "##### Column Selection by Label\n",
    "\n",
    "\n",
    "_**See examples below:**_\n",
    "Notice that all rows in the DataFrame are returned, with column label slicing presented.\n"
   ]
  },
  {
   "cell_type": "code",
   "execution_count": 1144,
   "metadata": {},
   "outputs": [
    {
     "data": {
      "text/plain": [
       "0    1.0\n",
       "1    1.0\n",
       "2    1.0\n",
       "3    1.0\n",
       "Name: EndValue, dtype: float32"
      ]
     },
     "execution_count": 1144,
     "metadata": {},
     "output_type": "execute_result"
    }
   ],
   "source": [
    "dfData2[\"EndValue\"]"
   ]
  },
  {
   "cell_type": "code",
   "execution_count": 1145,
   "metadata": {},
   "outputs": [
    {
     "data": {
      "text/html": [
       "<div>\n",
       "<style scoped>\n",
       "    .dataframe tbody tr th:only-of-type {\n",
       "        vertical-align: middle;\n",
       "    }\n",
       "\n",
       "    .dataframe tbody tr th {\n",
       "        vertical-align: top;\n",
       "    }\n",
       "\n",
       "    .dataframe thead th {\n",
       "        text-align: right;\n",
       "    }\n",
       "</style>\n",
       "<table border=\"1\" class=\"dataframe\">\n",
       "  <thead>\n",
       "    <tr style=\"text-align: right;\">\n",
       "      <th></th>\n",
       "      <th>StartValue</th>\n",
       "      <th>EndValue</th>\n",
       "    </tr>\n",
       "  </thead>\n",
       "  <tbody>\n",
       "    <tr>\n",
       "      <td>0</td>\n",
       "      <td>1.0</td>\n",
       "      <td>1.0</td>\n",
       "    </tr>\n",
       "    <tr>\n",
       "      <td>1</td>\n",
       "      <td>1.0</td>\n",
       "      <td>1.0</td>\n",
       "    </tr>\n",
       "    <tr>\n",
       "      <td>2</td>\n",
       "      <td>1.0</td>\n",
       "      <td>1.0</td>\n",
       "    </tr>\n",
       "    <tr>\n",
       "      <td>3</td>\n",
       "      <td>1.0</td>\n",
       "      <td>1.0</td>\n",
       "    </tr>\n",
       "  </tbody>\n",
       "</table>\n",
       "</div>"
      ],
      "text/plain": [
       "   StartValue  EndValue\n",
       "0         1.0       1.0\n",
       "1         1.0       1.0\n",
       "2         1.0       1.0\n",
       "3         1.0       1.0"
      ]
     },
     "execution_count": 1145,
     "metadata": {},
     "output_type": "execute_result"
    }
   ],
   "source": [
    "dfData2[['StartValue','EndValue']]"
   ]
  },
  {
   "cell_type": "markdown",
   "metadata": {},
   "source": [
    "##### Row Selection by Label\n",
    "\n",
    "\n",
    "_**See example below:**_\n",
    "Notice that all columns in the DataFrame are returned, with row label slicing presented.\n",
    "In this example: Those rows on with Index values 2 and 3\n"
   ]
  },
  {
   "cell_type": "code",
   "execution_count": 1146,
   "metadata": {},
   "outputs": [
    {
     "data": {
      "text/html": [
       "<div>\n",
       "<style scoped>\n",
       "    .dataframe tbody tr th:only-of-type {\n",
       "        vertical-align: middle;\n",
       "    }\n",
       "\n",
       "    .dataframe tbody tr th {\n",
       "        vertical-align: top;\n",
       "    }\n",
       "\n",
       "    .dataframe thead th {\n",
       "        text-align: right;\n",
       "    }\n",
       "</style>\n",
       "<table border=\"1\" class=\"dataframe\">\n",
       "  <thead>\n",
       "    <tr style=\"text-align: right;\">\n",
       "      <th></th>\n",
       "      <th>StartValue</th>\n",
       "      <th>StartDate</th>\n",
       "      <th>EndValue</th>\n",
       "      <th>Activity</th>\n",
       "      <th>Action</th>\n",
       "      <th>Response</th>\n",
       "    </tr>\n",
       "  </thead>\n",
       "  <tbody>\n",
       "    <tr>\n",
       "      <td>2</td>\n",
       "      <td>1.0</td>\n",
       "      <td>2019-01-02</td>\n",
       "      <td>1.0</td>\n",
       "      <td>3</td>\n",
       "      <td>test</td>\n",
       "      <td>foo</td>\n",
       "    </tr>\n",
       "    <tr>\n",
       "      <td>3</td>\n",
       "      <td>1.0</td>\n",
       "      <td>2019-01-02</td>\n",
       "      <td>1.0</td>\n",
       "      <td>3</td>\n",
       "      <td>train</td>\n",
       "      <td>foo</td>\n",
       "    </tr>\n",
       "  </tbody>\n",
       "</table>\n",
       "</div>"
      ],
      "text/plain": [
       "   StartValue  StartDate  EndValue  Activity Action Response\n",
       "2         1.0 2019-01-02       1.0         3   test      foo\n",
       "3         1.0 2019-01-02       1.0         3  train      foo"
      ]
     },
     "execution_count": 1146,
     "metadata": {},
     "output_type": "execute_result"
    }
   ],
   "source": [
    "dfData2.loc[2:3]"
   ]
  },
  {
   "cell_type": "markdown",
   "metadata": {},
   "source": [
    "##### Multi-Axis Selection by Label\n",
    "\n",
    "\n",
    "_**See example below:**_\n",
    "Notice all rows requested with column label slicing.\n",
    "In this example: Remember that A and B are column labels in the DataFrame dfData1, not column positions.\n"
   ]
  },
  {
   "cell_type": "code",
   "execution_count": 1147,
   "metadata": {},
   "outputs": [
    {
     "data": {
      "text/html": [
       "<div>\n",
       "<style scoped>\n",
       "    .dataframe tbody tr th:only-of-type {\n",
       "        vertical-align: middle;\n",
       "    }\n",
       "\n",
       "    .dataframe tbody tr th {\n",
       "        vertical-align: top;\n",
       "    }\n",
       "\n",
       "    .dataframe thead th {\n",
       "        text-align: right;\n",
       "    }\n",
       "</style>\n",
       "<table border=\"1\" class=\"dataframe\">\n",
       "  <thead>\n",
       "    <tr style=\"text-align: right;\">\n",
       "      <th></th>\n",
       "      <th>A</th>\n",
       "      <th>B</th>\n",
       "    </tr>\n",
       "  </thead>\n",
       "  <tbody>\n",
       "    <tr>\n",
       "      <td>2019-01-01</td>\n",
       "      <td>-0.018862</td>\n",
       "      <td>0.506884</td>\n",
       "    </tr>\n",
       "    <tr>\n",
       "      <td>2019-01-02</td>\n",
       "      <td>0.160282</td>\n",
       "      <td>1.263459</td>\n",
       "    </tr>\n",
       "    <tr>\n",
       "      <td>2019-01-03</td>\n",
       "      <td>-0.489581</td>\n",
       "      <td>-0.140495</td>\n",
       "    </tr>\n",
       "    <tr>\n",
       "      <td>2019-01-04</td>\n",
       "      <td>0.533439</td>\n",
       "      <td>1.288184</td>\n",
       "    </tr>\n",
       "    <tr>\n",
       "      <td>2019-01-05</td>\n",
       "      <td>0.392912</td>\n",
       "      <td>-0.643530</td>\n",
       "    </tr>\n",
       "    <tr>\n",
       "      <td>2019-01-06</td>\n",
       "      <td>0.297479</td>\n",
       "      <td>-0.755912</td>\n",
       "    </tr>\n",
       "  </tbody>\n",
       "</table>\n",
       "</div>"
      ],
      "text/plain": [
       "                   A         B\n",
       "2019-01-01 -0.018862  0.506884\n",
       "2019-01-02  0.160282  1.263459\n",
       "2019-01-03 -0.489581 -0.140495\n",
       "2019-01-04  0.533439  1.288184\n",
       "2019-01-05  0.392912 -0.643530\n",
       "2019-01-06  0.297479 -0.755912"
      ]
     },
     "execution_count": 1147,
     "metadata": {},
     "output_type": "execute_result"
    }
   ],
   "source": [
    "dfData1.loc[:,['A','B']]"
   ]
  },
  {
   "cell_type": "markdown",
   "metadata": {},
   "source": [
    "\n",
    "In this example: Now showing row and column label slicing, with both endpoints included:\n",
    "\n"
   ]
  },
  {
   "cell_type": "code",
   "execution_count": 1148,
   "metadata": {},
   "outputs": [
    {
     "data": {
      "text/html": [
       "<div>\n",
       "<style scoped>\n",
       "    .dataframe tbody tr th:only-of-type {\n",
       "        vertical-align: middle;\n",
       "    }\n",
       "\n",
       "    .dataframe tbody tr th {\n",
       "        vertical-align: top;\n",
       "    }\n",
       "\n",
       "    .dataframe thead th {\n",
       "        text-align: right;\n",
       "    }\n",
       "</style>\n",
       "<table border=\"1\" class=\"dataframe\">\n",
       "  <thead>\n",
       "    <tr style=\"text-align: right;\">\n",
       "      <th></th>\n",
       "      <th>A</th>\n",
       "      <th>B</th>\n",
       "    </tr>\n",
       "  </thead>\n",
       "  <tbody>\n",
       "    <tr>\n",
       "      <td>2019-01-02</td>\n",
       "      <td>0.160282</td>\n",
       "      <td>1.263459</td>\n",
       "    </tr>\n",
       "    <tr>\n",
       "      <td>2019-01-03</td>\n",
       "      <td>-0.489581</td>\n",
       "      <td>-0.140495</td>\n",
       "    </tr>\n",
       "    <tr>\n",
       "      <td>2019-01-04</td>\n",
       "      <td>0.533439</td>\n",
       "      <td>1.288184</td>\n",
       "    </tr>\n",
       "  </tbody>\n",
       "</table>\n",
       "</div>"
      ],
      "text/plain": [
       "                   A         B\n",
       "2019-01-02  0.160282  1.263459\n",
       "2019-01-03 -0.489581 -0.140495\n",
       "2019-01-04  0.533439  1.288184"
      ]
     },
     "execution_count": 1148,
     "metadata": {},
     "output_type": "execute_result"
    }
   ],
   "source": [
    "dfData1.loc['20190102':'20190104',['A','B']]"
   ]
  },
  {
   "cell_type": "markdown",
   "metadata": {},
   "source": [
    "\n",
    "In this example: It is possible to offer a reduction in the dimensions of the returned object:\n",
    "\n"
   ]
  },
  {
   "cell_type": "code",
   "execution_count": 1149,
   "metadata": {},
   "outputs": [
    {
     "data": {
      "text/plain": [
       "A    0.160282\n",
       "B    1.263459\n",
       "Name: 2019-01-02 00:00:00, dtype: float64"
      ]
     },
     "execution_count": 1149,
     "metadata": {},
     "output_type": "execute_result"
    }
   ],
   "source": [
    "dfData1.loc['20190102',['A','B']]"
   ]
  },
  {
   "cell_type": "markdown",
   "metadata": {},
   "source": [
    "In pandas, a **scalar value** includes:\n",
    "- numpy array scalar (e.g. np.int64)\n",
    "- Python builtin numerics\n",
    "- Python builtin byte arrays and strings\n",
    "- None\n",
    "- datetime.datetime\n",
    "- datetime.timedelta\n",
    "- Period\n",
    "- decimal.Decimal\n",
    "- Interval\n",
    "- DateOffset\n",
    "- Fraction\n",
    "- Number\n",
    "\n",
    "\n",
    "_**See example below:**_\n",
    "In this example: A scalar value is being specifically called from the `df` DataFrame, in the first row, under the column labelled: A\n"
   ]
  },
  {
   "cell_type": "code",
   "execution_count": 1150,
   "metadata": {},
   "outputs": [
    {
     "data": {
      "text/plain": [
       "-0.018862294063333215"
      ]
     },
     "execution_count": 1150,
     "metadata": {},
     "output_type": "execute_result"
    }
   ],
   "source": [
    "dfData1.loc[dates[0],'A']"
   ]
  },
  {
   "cell_type": "markdown",
   "metadata": {},
   "source": [
    "\n",
    "pandas offers faster access to a scalar value (equivalent to the prior method) by making use of `.at`\n",
    "\n",
    "\n",
    "_**See example below:**_\n"
   ]
  },
  {
   "cell_type": "code",
   "execution_count": 1151,
   "metadata": {},
   "outputs": [
    {
     "data": {
      "text/plain": [
       "-0.018862294063333215"
      ]
     },
     "execution_count": 1151,
     "metadata": {},
     "output_type": "execute_result"
    }
   ],
   "source": [
    "dfData1.at[dates[0],'A']"
   ]
  },
  {
   "cell_type": "markdown",
   "metadata": {},
   "source": [
    "#### Selection by Position\n",
    "\n",
    "##### Row Selection by Position\n",
    "\n",
    "\n",
    "_**See examples below:**_\n",
    "Notice that all columns in the DataFrame are returned, with row slicing presented.\n",
    "In this example: The rows on the lines between 0 (inclusive) and less than 3 are presented.\n"
   ]
  },
  {
   "cell_type": "code",
   "execution_count": 1152,
   "metadata": {},
   "outputs": [
    {
     "data": {
      "text/html": [
       "<div>\n",
       "<style scoped>\n",
       "    .dataframe tbody tr th:only-of-type {\n",
       "        vertical-align: middle;\n",
       "    }\n",
       "\n",
       "    .dataframe tbody tr th {\n",
       "        vertical-align: top;\n",
       "    }\n",
       "\n",
       "    .dataframe thead th {\n",
       "        text-align: right;\n",
       "    }\n",
       "</style>\n",
       "<table border=\"1\" class=\"dataframe\">\n",
       "  <thead>\n",
       "    <tr style=\"text-align: right;\">\n",
       "      <th></th>\n",
       "      <th>A</th>\n",
       "      <th>B</th>\n",
       "      <th>C</th>\n",
       "      <th>D</th>\n",
       "    </tr>\n",
       "  </thead>\n",
       "  <tbody>\n",
       "    <tr>\n",
       "      <td>2019-01-01</td>\n",
       "      <td>-0.018862</td>\n",
       "      <td>0.506884</td>\n",
       "      <td>0.002931</td>\n",
       "      <td>-0.134582</td>\n",
       "    </tr>\n",
       "    <tr>\n",
       "      <td>2019-01-02</td>\n",
       "      <td>0.160282</td>\n",
       "      <td>1.263459</td>\n",
       "      <td>-0.304879</td>\n",
       "      <td>0.063906</td>\n",
       "    </tr>\n",
       "    <tr>\n",
       "      <td>2019-01-03</td>\n",
       "      <td>-0.489581</td>\n",
       "      <td>-0.140495</td>\n",
       "      <td>-1.804682</td>\n",
       "      <td>-0.830140</td>\n",
       "    </tr>\n",
       "  </tbody>\n",
       "</table>\n",
       "</div>"
      ],
      "text/plain": [
       "                   A         B         C         D\n",
       "2019-01-01 -0.018862  0.506884  0.002931 -0.134582\n",
       "2019-01-02  0.160282  1.263459 -0.304879  0.063906\n",
       "2019-01-03 -0.489581 -0.140495 -1.804682 -0.830140"
      ]
     },
     "execution_count": 1152,
     "metadata": {},
     "output_type": "execute_result"
    }
   ],
   "source": [
    "dfData1[0:3]"
   ]
  },
  {
   "cell_type": "markdown",
   "metadata": {},
   "source": [
    "In this example: The row on the specific third line is presented.\n"
   ]
  },
  {
   "cell_type": "code",
   "execution_count": 1153,
   "metadata": {},
   "outputs": [
    {
     "data": {
      "text/plain": [
       "A    0.533439\n",
       "B    1.288184\n",
       "C    0.830266\n",
       "D    0.693305\n",
       "Name: 2019-01-04 00:00:00, dtype: float64"
      ]
     },
     "execution_count": 1153,
     "metadata": {},
     "output_type": "execute_result"
    }
   ],
   "source": [
    "dfData1.iloc[3]"
   ]
  },
  {
   "cell_type": "markdown",
   "metadata": {},
   "source": [
    "##### Multi-Axis Selection by Position\n",
    "\n",
    "\n",
    "_**See examples below:**_\n",
    "By Integer slices, acting similar to numpy/python."
   ]
  },
  {
   "cell_type": "code",
   "execution_count": 1154,
   "metadata": {},
   "outputs": [
    {
     "data": {
      "text/html": [
       "<div>\n",
       "<style scoped>\n",
       "    .dataframe tbody tr th:only-of-type {\n",
       "        vertical-align: middle;\n",
       "    }\n",
       "\n",
       "    .dataframe tbody tr th {\n",
       "        vertical-align: top;\n",
       "    }\n",
       "\n",
       "    .dataframe thead th {\n",
       "        text-align: right;\n",
       "    }\n",
       "</style>\n",
       "<table border=\"1\" class=\"dataframe\">\n",
       "  <thead>\n",
       "    <tr style=\"text-align: right;\">\n",
       "      <th></th>\n",
       "      <th>A</th>\n",
       "      <th>B</th>\n",
       "    </tr>\n",
       "  </thead>\n",
       "  <tbody>\n",
       "    <tr>\n",
       "      <td>2019-01-04</td>\n",
       "      <td>0.533439</td>\n",
       "      <td>1.288184</td>\n",
       "    </tr>\n",
       "    <tr>\n",
       "      <td>2019-01-05</td>\n",
       "      <td>0.392912</td>\n",
       "      <td>-0.643530</td>\n",
       "    </tr>\n",
       "  </tbody>\n",
       "</table>\n",
       "</div>"
      ],
      "text/plain": [
       "                   A         B\n",
       "2019-01-04  0.533439  1.288184\n",
       "2019-01-05  0.392912 -0.643530"
      ]
     },
     "execution_count": 1154,
     "metadata": {},
     "output_type": "execute_result"
    }
   ],
   "source": [
    "dfData1.iloc[3:5,0:2]"
   ]
  },
  {
   "cell_type": "markdown",
   "metadata": {},
   "source": [
    "In this example: By lists of Integer position locations, similar to the numpy/python style:"
   ]
  },
  {
   "cell_type": "code",
   "execution_count": 1155,
   "metadata": {},
   "outputs": [
    {
     "data": {
      "text/html": [
       "<div>\n",
       "<style scoped>\n",
       "    .dataframe tbody tr th:only-of-type {\n",
       "        vertical-align: middle;\n",
       "    }\n",
       "\n",
       "    .dataframe tbody tr th {\n",
       "        vertical-align: top;\n",
       "    }\n",
       "\n",
       "    .dataframe thead th {\n",
       "        text-align: right;\n",
       "    }\n",
       "</style>\n",
       "<table border=\"1\" class=\"dataframe\">\n",
       "  <thead>\n",
       "    <tr style=\"text-align: right;\">\n",
       "      <th></th>\n",
       "      <th>A</th>\n",
       "      <th>C</th>\n",
       "    </tr>\n",
       "  </thead>\n",
       "  <tbody>\n",
       "    <tr>\n",
       "      <td>2019-01-02</td>\n",
       "      <td>0.160282</td>\n",
       "      <td>-0.304879</td>\n",
       "    </tr>\n",
       "    <tr>\n",
       "      <td>2019-01-03</td>\n",
       "      <td>-0.489581</td>\n",
       "      <td>-1.804682</td>\n",
       "    </tr>\n",
       "    <tr>\n",
       "      <td>2019-01-05</td>\n",
       "      <td>0.392912</td>\n",
       "      <td>1.619957</td>\n",
       "    </tr>\n",
       "  </tbody>\n",
       "</table>\n",
       "</div>"
      ],
      "text/plain": [
       "                   A         C\n",
       "2019-01-02  0.160282 -0.304879\n",
       "2019-01-03 -0.489581 -1.804682\n",
       "2019-01-05  0.392912  1.619957"
      ]
     },
     "execution_count": 1155,
     "metadata": {},
     "output_type": "execute_result"
    }
   ],
   "source": [
    "dfData1.iloc[[1,2,4],[0,2]]"
   ]
  },
  {
   "cell_type": "markdown",
   "metadata": {},
   "source": [
    "In this example: For slicing rows explicitly\n"
   ]
  },
  {
   "cell_type": "code",
   "execution_count": 1156,
   "metadata": {},
   "outputs": [
    {
     "data": {
      "text/html": [
       "<div>\n",
       "<style scoped>\n",
       "    .dataframe tbody tr th:only-of-type {\n",
       "        vertical-align: middle;\n",
       "    }\n",
       "\n",
       "    .dataframe tbody tr th {\n",
       "        vertical-align: top;\n",
       "    }\n",
       "\n",
       "    .dataframe thead th {\n",
       "        text-align: right;\n",
       "    }\n",
       "</style>\n",
       "<table border=\"1\" class=\"dataframe\">\n",
       "  <thead>\n",
       "    <tr style=\"text-align: right;\">\n",
       "      <th></th>\n",
       "      <th>A</th>\n",
       "      <th>B</th>\n",
       "      <th>C</th>\n",
       "      <th>D</th>\n",
       "    </tr>\n",
       "  </thead>\n",
       "  <tbody>\n",
       "    <tr>\n",
       "      <td>2019-01-02</td>\n",
       "      <td>0.160282</td>\n",
       "      <td>1.263459</td>\n",
       "      <td>-0.304879</td>\n",
       "      <td>0.063906</td>\n",
       "    </tr>\n",
       "    <tr>\n",
       "      <td>2019-01-03</td>\n",
       "      <td>-0.489581</td>\n",
       "      <td>-0.140495</td>\n",
       "      <td>-1.804682</td>\n",
       "      <td>-0.830140</td>\n",
       "    </tr>\n",
       "  </tbody>\n",
       "</table>\n",
       "</div>"
      ],
      "text/plain": [
       "                   A         B         C         D\n",
       "2019-01-02  0.160282  1.263459 -0.304879  0.063906\n",
       "2019-01-03 -0.489581 -0.140495 -1.804682 -0.830140"
      ]
     },
     "execution_count": 1156,
     "metadata": {},
     "output_type": "execute_result"
    }
   ],
   "source": [
    "dfData1.iloc[1:3,:]"
   ]
  },
  {
   "cell_type": "markdown",
   "metadata": {},
   "source": [
    "In this example: For slicing columns explicitly\n"
   ]
  },
  {
   "cell_type": "code",
   "execution_count": 1239,
   "metadata": {},
   "outputs": [
    {
     "data": {
      "text/html": [
       "<div>\n",
       "<style scoped>\n",
       "    .dataframe tbody tr th:only-of-type {\n",
       "        vertical-align: middle;\n",
       "    }\n",
       "\n",
       "    .dataframe tbody tr th {\n",
       "        vertical-align: top;\n",
       "    }\n",
       "\n",
       "    .dataframe thead th {\n",
       "        text-align: right;\n",
       "    }\n",
       "</style>\n",
       "<table border=\"1\" class=\"dataframe\">\n",
       "  <thead>\n",
       "    <tr style=\"text-align: right;\">\n",
       "      <th></th>\n",
       "      <th>B</th>\n",
       "      <th>C</th>\n",
       "    </tr>\n",
       "  </thead>\n",
       "  <tbody>\n",
       "    <tr>\n",
       "      <td>2019-01-01</td>\n",
       "      <td>0.506884</td>\n",
       "      <td>0.002931</td>\n",
       "    </tr>\n",
       "    <tr>\n",
       "      <td>2019-01-02</td>\n",
       "      <td>1.263459</td>\n",
       "      <td>-0.304879</td>\n",
       "    </tr>\n",
       "    <tr>\n",
       "      <td>2019-01-03</td>\n",
       "      <td>-0.140495</td>\n",
       "      <td>-1.804682</td>\n",
       "    </tr>\n",
       "    <tr>\n",
       "      <td>2019-01-04</td>\n",
       "      <td>1.288184</td>\n",
       "      <td>0.830266</td>\n",
       "    </tr>\n",
       "    <tr>\n",
       "      <td>2019-01-05</td>\n",
       "      <td>-0.643530</td>\n",
       "      <td>1.619957</td>\n",
       "    </tr>\n",
       "    <tr>\n",
       "      <td>2019-01-06</td>\n",
       "      <td>-0.755912</td>\n",
       "      <td>2.391173</td>\n",
       "    </tr>\n",
       "  </tbody>\n",
       "</table>\n",
       "</div>"
      ],
      "text/plain": [
       "                   B         C\n",
       "2019-01-01  0.506884  0.002931\n",
       "2019-01-02  1.263459 -0.304879\n",
       "2019-01-03 -0.140495 -1.804682\n",
       "2019-01-04  1.288184  0.830266\n",
       "2019-01-05 -0.643530  1.619957\n",
       "2019-01-06 -0.755912  2.391173"
      ]
     },
     "execution_count": 1239,
     "metadata": {},
     "output_type": "execute_result"
    }
   ],
   "source": [
    "dfData1.iloc[:,1:3]"
   ]
  },
  {
   "cell_type": "markdown",
   "metadata": {},
   "source": [
    "\n",
    "\n",
    "_**See example below:**_\n",
    "A scalar value is being specifically called from the `df` DataFrame, in the second row, under the second column"
   ]
  },
  {
   "cell_type": "code",
   "execution_count": 1158,
   "metadata": {},
   "outputs": [
    {
     "data": {
      "text/plain": [
       "1.2634586203510898"
      ]
     },
     "execution_count": 1158,
     "metadata": {},
     "output_type": "execute_result"
    }
   ],
   "source": [
    "dfData1.iloc[1,1]"
   ]
  },
  {
   "cell_type": "markdown",
   "metadata": {},
   "source": [
    "\n",
    "pandas offers faster access to a scalar value (equivalent to the prior method) by making use of `.iat`\n",
    "\n",
    "\n",
    "_**See example below:**_\n"
   ]
  },
  {
   "cell_type": "code",
   "execution_count": 1159,
   "metadata": {},
   "outputs": [
    {
     "data": {
      "text/plain": [
       "1.2634586203510898"
      ]
     },
     "execution_count": 1159,
     "metadata": {},
     "output_type": "execute_result"
    }
   ],
   "source": [
    "dfData1.iat[1,1]"
   ]
  },
  {
   "cell_type": "markdown",
   "metadata": {},
   "source": [
    "#### Selection by Boolean Indexing\n",
    "\n",
    "With Boolean Indexing, it is possible to select subsets of data based on the actual values of the data in the DataFrame and not on their row/column Labels or Position.\n",
    "\n",
    "A Boolean vector is used to filter the data.\n",
    "- `==` not equal to\n",
    "- `>` greater than\n",
    "- `<` less than\n",
    "- `<=` less than and equal to\n",
    "- `>=` more than and equal to\n",
    "\n",
    "\n",
    "_**See examples below:**_\n",
    "In this example: A single column has been identified in the DataFrame, with a request for the result to only present the values greater than zero."
   ]
  },
  {
   "cell_type": "code",
   "execution_count": 1160,
   "metadata": {},
   "outputs": [
    {
     "data": {
      "text/html": [
       "<div>\n",
       "<style scoped>\n",
       "    .dataframe tbody tr th:only-of-type {\n",
       "        vertical-align: middle;\n",
       "    }\n",
       "\n",
       "    .dataframe tbody tr th {\n",
       "        vertical-align: top;\n",
       "    }\n",
       "\n",
       "    .dataframe thead th {\n",
       "        text-align: right;\n",
       "    }\n",
       "</style>\n",
       "<table border=\"1\" class=\"dataframe\">\n",
       "  <thead>\n",
       "    <tr style=\"text-align: right;\">\n",
       "      <th></th>\n",
       "      <th>A</th>\n",
       "      <th>B</th>\n",
       "      <th>C</th>\n",
       "      <th>D</th>\n",
       "    </tr>\n",
       "  </thead>\n",
       "  <tbody>\n",
       "    <tr>\n",
       "      <td>2019-01-02</td>\n",
       "      <td>0.160282</td>\n",
       "      <td>1.263459</td>\n",
       "      <td>-0.304879</td>\n",
       "      <td>0.063906</td>\n",
       "    </tr>\n",
       "    <tr>\n",
       "      <td>2019-01-04</td>\n",
       "      <td>0.533439</td>\n",
       "      <td>1.288184</td>\n",
       "      <td>0.830266</td>\n",
       "      <td>0.693305</td>\n",
       "    </tr>\n",
       "    <tr>\n",
       "      <td>2019-01-05</td>\n",
       "      <td>0.392912</td>\n",
       "      <td>-0.643530</td>\n",
       "      <td>1.619957</td>\n",
       "      <td>0.316364</td>\n",
       "    </tr>\n",
       "    <tr>\n",
       "      <td>2019-01-06</td>\n",
       "      <td>0.297479</td>\n",
       "      <td>-0.755912</td>\n",
       "      <td>2.391173</td>\n",
       "      <td>2.099550</td>\n",
       "    </tr>\n",
       "  </tbody>\n",
       "</table>\n",
       "</div>"
      ],
      "text/plain": [
       "                   A         B         C         D\n",
       "2019-01-02  0.160282  1.263459 -0.304879  0.063906\n",
       "2019-01-04  0.533439  1.288184  0.830266  0.693305\n",
       "2019-01-05  0.392912 -0.643530  1.619957  0.316364\n",
       "2019-01-06  0.297479 -0.755912  2.391173  2.099550"
      ]
     },
     "execution_count": 1160,
     "metadata": {},
     "output_type": "execute_result"
    }
   ],
   "source": [
    "dfData1[dfData1.A > 0]"
   ]
  },
  {
   "cell_type": "markdown",
   "metadata": {},
   "source": [
    "In this example: All values from the DataFrame have been requested where the Boolean condition has been met"
   ]
  },
  {
   "cell_type": "code",
   "execution_count": 1161,
   "metadata": {},
   "outputs": [
    {
     "data": {
      "text/html": [
       "<div>\n",
       "<style scoped>\n",
       "    .dataframe tbody tr th:only-of-type {\n",
       "        vertical-align: middle;\n",
       "    }\n",
       "\n",
       "    .dataframe tbody tr th {\n",
       "        vertical-align: top;\n",
       "    }\n",
       "\n",
       "    .dataframe thead th {\n",
       "        text-align: right;\n",
       "    }\n",
       "</style>\n",
       "<table border=\"1\" class=\"dataframe\">\n",
       "  <thead>\n",
       "    <tr style=\"text-align: right;\">\n",
       "      <th></th>\n",
       "      <th>A</th>\n",
       "      <th>B</th>\n",
       "      <th>C</th>\n",
       "      <th>D</th>\n",
       "    </tr>\n",
       "  </thead>\n",
       "  <tbody>\n",
       "    <tr>\n",
       "      <td>2019-01-01</td>\n",
       "      <td>-0.018862</td>\n",
       "      <td>NaN</td>\n",
       "      <td>NaN</td>\n",
       "      <td>-0.134582</td>\n",
       "    </tr>\n",
       "    <tr>\n",
       "      <td>2019-01-02</td>\n",
       "      <td>NaN</td>\n",
       "      <td>NaN</td>\n",
       "      <td>-0.304879</td>\n",
       "      <td>NaN</td>\n",
       "    </tr>\n",
       "    <tr>\n",
       "      <td>2019-01-03</td>\n",
       "      <td>-0.489581</td>\n",
       "      <td>-0.140495</td>\n",
       "      <td>-1.804682</td>\n",
       "      <td>-0.830140</td>\n",
       "    </tr>\n",
       "    <tr>\n",
       "      <td>2019-01-04</td>\n",
       "      <td>NaN</td>\n",
       "      <td>NaN</td>\n",
       "      <td>NaN</td>\n",
       "      <td>NaN</td>\n",
       "    </tr>\n",
       "    <tr>\n",
       "      <td>2019-01-05</td>\n",
       "      <td>NaN</td>\n",
       "      <td>-0.643530</td>\n",
       "      <td>NaN</td>\n",
       "      <td>NaN</td>\n",
       "    </tr>\n",
       "    <tr>\n",
       "      <td>2019-01-06</td>\n",
       "      <td>NaN</td>\n",
       "      <td>-0.755912</td>\n",
       "      <td>NaN</td>\n",
       "      <td>NaN</td>\n",
       "    </tr>\n",
       "  </tbody>\n",
       "</table>\n",
       "</div>"
      ],
      "text/plain": [
       "                   A         B         C         D\n",
       "2019-01-01 -0.018862       NaN       NaN -0.134582\n",
       "2019-01-02       NaN       NaN -0.304879       NaN\n",
       "2019-01-03 -0.489581 -0.140495 -1.804682 -0.830140\n",
       "2019-01-04       NaN       NaN       NaN       NaN\n",
       "2019-01-05       NaN -0.643530       NaN       NaN\n",
       "2019-01-06       NaN -0.755912       NaN       NaN"
      ]
     },
     "execution_count": 1161,
     "metadata": {},
     "output_type": "execute_result"
    }
   ],
   "source": [
    "dfData1[dfData1 <= 0]"
   ]
  },
  {
   "cell_type": "markdown",
   "metadata": {},
   "source": [
    "In this example: Again, a single column has been identified in the DataFrame, but with a request for the result to only present matching the given String values by using `.isin()`"
   ]
  },
  {
   "cell_type": "code",
   "execution_count": 1162,
   "metadata": {},
   "outputs": [
    {
     "data": {
      "text/html": [
       "<div>\n",
       "<style scoped>\n",
       "    .dataframe tbody tr th:only-of-type {\n",
       "        vertical-align: middle;\n",
       "    }\n",
       "\n",
       "    .dataframe tbody tr th {\n",
       "        vertical-align: top;\n",
       "    }\n",
       "\n",
       "    .dataframe thead th {\n",
       "        text-align: right;\n",
       "    }\n",
       "</style>\n",
       "<table border=\"1\" class=\"dataframe\">\n",
       "  <thead>\n",
       "    <tr style=\"text-align: right;\">\n",
       "      <th></th>\n",
       "      <th>StartValue</th>\n",
       "      <th>StartDate</th>\n",
       "      <th>EndValue</th>\n",
       "      <th>Activity</th>\n",
       "      <th>Action</th>\n",
       "      <th>Response</th>\n",
       "    </tr>\n",
       "  </thead>\n",
       "  <tbody>\n",
       "    <tr>\n",
       "      <td>1</td>\n",
       "      <td>1.0</td>\n",
       "      <td>2019-01-02</td>\n",
       "      <td>1.0</td>\n",
       "      <td>3</td>\n",
       "      <td>train</td>\n",
       "      <td>foo</td>\n",
       "    </tr>\n",
       "    <tr>\n",
       "      <td>3</td>\n",
       "      <td>1.0</td>\n",
       "      <td>2019-01-02</td>\n",
       "      <td>1.0</td>\n",
       "      <td>3</td>\n",
       "      <td>train</td>\n",
       "      <td>foo</td>\n",
       "    </tr>\n",
       "  </tbody>\n",
       "</table>\n",
       "</div>"
      ],
      "text/plain": [
       "   StartValue  StartDate  EndValue  Activity Action Response\n",
       "1         1.0 2019-01-02       1.0         3  train      foo\n",
       "3         1.0 2019-01-02       1.0         3  train      foo"
      ]
     },
     "execution_count": 1162,
     "metadata": {},
     "output_type": "execute_result"
    }
   ],
   "source": [
    "dfData2[dfData2['Action'].isin(['train'])]"
   ]
  },
  {
   "cell_type": "markdown",
   "metadata": {},
   "source": [
    "### Setting\n",
    "\n",
    "pandas provides various facilities for the combining of Series, DataFrame, and Panel objects - as well as the replacing of data values - with varying set logic for the indexes and relational algebra functionality in the case of join/merge-type operations.\n",
    "\n",
    "#### Adding\n",
    "\n",
    "It is important to always ensure that when setting a new column that the list matches the number of items already present in the Indexes as setting a new column will automatically be aligned by the Indexes.\n",
    "\n",
    "\n",
    "**See examples below:**\n"
   ]
  },
  {
   "cell_type": "code",
   "execution_count": 1163,
   "metadata": {},
   "outputs": [
    {
     "data": {
      "text/html": [
       "<div>\n",
       "<style scoped>\n",
       "    .dataframe tbody tr th:only-of-type {\n",
       "        vertical-align: middle;\n",
       "    }\n",
       "\n",
       "    .dataframe tbody tr th {\n",
       "        vertical-align: top;\n",
       "    }\n",
       "\n",
       "    .dataframe thead th {\n",
       "        text-align: right;\n",
       "    }\n",
       "</style>\n",
       "<table border=\"1\" class=\"dataframe\">\n",
       "  <thead>\n",
       "    <tr style=\"text-align: right;\">\n",
       "      <th></th>\n",
       "      <th>A</th>\n",
       "      <th>B</th>\n",
       "      <th>C</th>\n",
       "      <th>D</th>\n",
       "      <th>E</th>\n",
       "    </tr>\n",
       "  </thead>\n",
       "  <tbody>\n",
       "    <tr>\n",
       "      <td>2019-01-01</td>\n",
       "      <td>-0.018862</td>\n",
       "      <td>0.506884</td>\n",
       "      <td>0.002931</td>\n",
       "      <td>-0.134582</td>\n",
       "      <td>one</td>\n",
       "    </tr>\n",
       "    <tr>\n",
       "      <td>2019-01-02</td>\n",
       "      <td>0.160282</td>\n",
       "      <td>1.263459</td>\n",
       "      <td>-0.304879</td>\n",
       "      <td>0.063906</td>\n",
       "      <td>one</td>\n",
       "    </tr>\n",
       "    <tr>\n",
       "      <td>2019-01-03</td>\n",
       "      <td>-0.489581</td>\n",
       "      <td>-0.140495</td>\n",
       "      <td>-1.804682</td>\n",
       "      <td>-0.830140</td>\n",
       "      <td>two</td>\n",
       "    </tr>\n",
       "    <tr>\n",
       "      <td>2019-01-04</td>\n",
       "      <td>0.533439</td>\n",
       "      <td>1.288184</td>\n",
       "      <td>0.830266</td>\n",
       "      <td>0.693305</td>\n",
       "      <td>three</td>\n",
       "    </tr>\n",
       "    <tr>\n",
       "      <td>2019-01-05</td>\n",
       "      <td>0.392912</td>\n",
       "      <td>-0.643530</td>\n",
       "      <td>1.619957</td>\n",
       "      <td>0.316364</td>\n",
       "      <td>three</td>\n",
       "    </tr>\n",
       "    <tr>\n",
       "      <td>2019-01-06</td>\n",
       "      <td>0.297479</td>\n",
       "      <td>-0.755912</td>\n",
       "      <td>2.391173</td>\n",
       "      <td>2.099550</td>\n",
       "      <td>four</td>\n",
       "    </tr>\n",
       "  </tbody>\n",
       "</table>\n",
       "</div>"
      ],
      "text/plain": [
       "                   A         B         C         D      E\n",
       "2019-01-01 -0.018862  0.506884  0.002931 -0.134582    one\n",
       "2019-01-02  0.160282  1.263459 -0.304879  0.063906    one\n",
       "2019-01-03 -0.489581 -0.140495 -1.804682 -0.830140    two\n",
       "2019-01-04  0.533439  1.288184  0.830266  0.693305  three\n",
       "2019-01-05  0.392912 -0.643530  1.619957  0.316364  three\n",
       "2019-01-06  0.297479 -0.755912  2.391173  2.099550   four"
      ]
     },
     "execution_count": 1163,
     "metadata": {},
     "output_type": "execute_result"
    }
   ],
   "source": [
    "# An extra Series, with the Label E is being added to a copy of DataFrame dfData1\n",
    "\n",
    "dfData3 = dfData1.copy()\n",
    "dfData3['E'] = ['one', 'one','two','three','three','four']\n",
    "dfData3"
   ]
  },
  {
   "cell_type": "code",
   "execution_count": 1164,
   "metadata": {},
   "outputs": [
    {
     "data": {
      "text/plain": [
       "2019-01-02    1\n",
       "2019-01-03    2\n",
       "2019-01-04    3\n",
       "2019-01-05    4\n",
       "2019-01-06    5\n",
       "2019-01-07    6\n",
       "Freq: D, dtype: int64"
      ]
     },
     "execution_count": 1164,
     "metadata": {},
     "output_type": "execute_result"
    }
   ],
   "source": [
    "# An extra Series of Integer starting at 1 and ending at 6 (inclusive) is being created\n",
    "\n",
    "sThird = pd.Series([1,2,3,4,5,6], index=pd.date_range('20190102', periods=6))\n",
    "sThird"
   ]
  },
  {
   "cell_type": "code",
   "execution_count": 1165,
   "metadata": {},
   "outputs": [
    {
     "data": {
      "text/html": [
       "<div>\n",
       "<style scoped>\n",
       "    .dataframe tbody tr th:only-of-type {\n",
       "        vertical-align: middle;\n",
       "    }\n",
       "\n",
       "    .dataframe tbody tr th {\n",
       "        vertical-align: top;\n",
       "    }\n",
       "\n",
       "    .dataframe thead th {\n",
       "        text-align: right;\n",
       "    }\n",
       "</style>\n",
       "<table border=\"1\" class=\"dataframe\">\n",
       "  <thead>\n",
       "    <tr style=\"text-align: right;\">\n",
       "      <th></th>\n",
       "      <th>A</th>\n",
       "      <th>B</th>\n",
       "      <th>C</th>\n",
       "      <th>D</th>\n",
       "      <th>E</th>\n",
       "      <th>F</th>\n",
       "    </tr>\n",
       "  </thead>\n",
       "  <tbody>\n",
       "    <tr>\n",
       "      <td>2019-01-01</td>\n",
       "      <td>-0.018862</td>\n",
       "      <td>0.506884</td>\n",
       "      <td>0.002931</td>\n",
       "      <td>-0.134582</td>\n",
       "      <td>one</td>\n",
       "      <td>NaN</td>\n",
       "    </tr>\n",
       "    <tr>\n",
       "      <td>2019-01-02</td>\n",
       "      <td>0.160282</td>\n",
       "      <td>1.263459</td>\n",
       "      <td>-0.304879</td>\n",
       "      <td>0.063906</td>\n",
       "      <td>one</td>\n",
       "      <td>1.0</td>\n",
       "    </tr>\n",
       "    <tr>\n",
       "      <td>2019-01-03</td>\n",
       "      <td>-0.489581</td>\n",
       "      <td>-0.140495</td>\n",
       "      <td>-1.804682</td>\n",
       "      <td>-0.830140</td>\n",
       "      <td>two</td>\n",
       "      <td>2.0</td>\n",
       "    </tr>\n",
       "    <tr>\n",
       "      <td>2019-01-04</td>\n",
       "      <td>0.533439</td>\n",
       "      <td>1.288184</td>\n",
       "      <td>0.830266</td>\n",
       "      <td>0.693305</td>\n",
       "      <td>three</td>\n",
       "      <td>3.0</td>\n",
       "    </tr>\n",
       "    <tr>\n",
       "      <td>2019-01-05</td>\n",
       "      <td>0.392912</td>\n",
       "      <td>-0.643530</td>\n",
       "      <td>1.619957</td>\n",
       "      <td>0.316364</td>\n",
       "      <td>three</td>\n",
       "      <td>4.0</td>\n",
       "    </tr>\n",
       "    <tr>\n",
       "      <td>2019-01-06</td>\n",
       "      <td>0.297479</td>\n",
       "      <td>-0.755912</td>\n",
       "      <td>2.391173</td>\n",
       "      <td>2.099550</td>\n",
       "      <td>four</td>\n",
       "      <td>5.0</td>\n",
       "    </tr>\n",
       "  </tbody>\n",
       "</table>\n",
       "</div>"
      ],
      "text/plain": [
       "                   A         B         C         D      E    F\n",
       "2019-01-01 -0.018862  0.506884  0.002931 -0.134582    one  NaN\n",
       "2019-01-02  0.160282  1.263459 -0.304879  0.063906    one  1.0\n",
       "2019-01-03 -0.489581 -0.140495 -1.804682 -0.830140    two  2.0\n",
       "2019-01-04  0.533439  1.288184  0.830266  0.693305  three  3.0\n",
       "2019-01-05  0.392912 -0.643530  1.619957  0.316364  three  4.0\n",
       "2019-01-06  0.297479 -0.755912  2.391173  2.099550   four  5.0"
      ]
     },
     "execution_count": 1165,
     "metadata": {},
     "output_type": "execute_result"
    }
   ],
   "source": [
    "# This extra Series of Integer, with the Label F is being set in the DataFrame df\n",
    "\n",
    "dfData3['F'] = sThird\n",
    "dfData3"
   ]
  },
  {
   "cell_type": "markdown",
   "metadata": {},
   "source": [
    "#### Replacing\n",
    "\n",
    "Replacing of values may be done by referencing values by Label and/or by Position.\n",
    "\n",
    "\n",
    "**See examples below:**\n"
   ]
  },
  {
   "cell_type": "code",
   "execution_count": 1166,
   "metadata": {},
   "outputs": [],
   "source": [
    "# Looking at the DataFrame dfData3 and identifying the first row by the DateRange Index,\n",
    "# the value in the column with the Label A\n",
    "# is being replaced by 0\n",
    "\n",
    "dfData3.at[dates[0],'A'] = 0"
   ]
  },
  {
   "cell_type": "code",
   "execution_count": 1167,
   "metadata": {},
   "outputs": [],
   "source": [
    "# Looking at the DataFrame dfData3 and identifying the first row\n",
    "# and the second column, both by position,\n",
    "# the value is being replaced by 0\n",
    "\n",
    "dfData3.iat[0,1] = 0"
   ]
  },
  {
   "cell_type": "code",
   "execution_count": 1168,
   "metadata": {},
   "outputs": [],
   "source": [
    "# Looking at the DataFrame dfData3 and identifying the column with the Label D\n",
    "# the values in all rows are being replaced by the results of assigning a NumPy array\n",
    "\n",
    "dfData3.loc[:,'D'] = np.array([5] * len(dfData3))"
   ]
  },
  {
   "cell_type": "code",
   "execution_count": 1169,
   "metadata": {},
   "outputs": [
    {
     "data": {
      "text/html": [
       "<div>\n",
       "<style scoped>\n",
       "    .dataframe tbody tr th:only-of-type {\n",
       "        vertical-align: middle;\n",
       "    }\n",
       "\n",
       "    .dataframe tbody tr th {\n",
       "        vertical-align: top;\n",
       "    }\n",
       "\n",
       "    .dataframe thead th {\n",
       "        text-align: right;\n",
       "    }\n",
       "</style>\n",
       "<table border=\"1\" class=\"dataframe\">\n",
       "  <thead>\n",
       "    <tr style=\"text-align: right;\">\n",
       "      <th></th>\n",
       "      <th>A</th>\n",
       "      <th>B</th>\n",
       "      <th>C</th>\n",
       "      <th>D</th>\n",
       "      <th>E</th>\n",
       "      <th>F</th>\n",
       "    </tr>\n",
       "  </thead>\n",
       "  <tbody>\n",
       "    <tr>\n",
       "      <td>2019-01-01</td>\n",
       "      <td>0.000000</td>\n",
       "      <td>0.000000</td>\n",
       "      <td>0.002931</td>\n",
       "      <td>5</td>\n",
       "      <td>one</td>\n",
       "      <td>NaN</td>\n",
       "    </tr>\n",
       "    <tr>\n",
       "      <td>2019-01-02</td>\n",
       "      <td>0.160282</td>\n",
       "      <td>1.263459</td>\n",
       "      <td>-0.304879</td>\n",
       "      <td>5</td>\n",
       "      <td>one</td>\n",
       "      <td>1.0</td>\n",
       "    </tr>\n",
       "    <tr>\n",
       "      <td>2019-01-03</td>\n",
       "      <td>-0.489581</td>\n",
       "      <td>-0.140495</td>\n",
       "      <td>-1.804682</td>\n",
       "      <td>5</td>\n",
       "      <td>two</td>\n",
       "      <td>2.0</td>\n",
       "    </tr>\n",
       "    <tr>\n",
       "      <td>2019-01-04</td>\n",
       "      <td>0.533439</td>\n",
       "      <td>1.288184</td>\n",
       "      <td>0.830266</td>\n",
       "      <td>5</td>\n",
       "      <td>three</td>\n",
       "      <td>3.0</td>\n",
       "    </tr>\n",
       "    <tr>\n",
       "      <td>2019-01-05</td>\n",
       "      <td>0.392912</td>\n",
       "      <td>-0.643530</td>\n",
       "      <td>1.619957</td>\n",
       "      <td>5</td>\n",
       "      <td>three</td>\n",
       "      <td>4.0</td>\n",
       "    </tr>\n",
       "    <tr>\n",
       "      <td>2019-01-06</td>\n",
       "      <td>0.297479</td>\n",
       "      <td>-0.755912</td>\n",
       "      <td>2.391173</td>\n",
       "      <td>5</td>\n",
       "      <td>four</td>\n",
       "      <td>5.0</td>\n",
       "    </tr>\n",
       "  </tbody>\n",
       "</table>\n",
       "</div>"
      ],
      "text/plain": [
       "                   A         B         C  D      E    F\n",
       "2019-01-01  0.000000  0.000000  0.002931  5    one  NaN\n",
       "2019-01-02  0.160282  1.263459 -0.304879  5    one  1.0\n",
       "2019-01-03 -0.489581 -0.140495 -1.804682  5    two  2.0\n",
       "2019-01-04  0.533439  1.288184  0.830266  5  three  3.0\n",
       "2019-01-05  0.392912 -0.643530  1.619957  5  three  4.0\n",
       "2019-01-06  0.297479 -0.755912  2.391173  5   four  5.0"
      ]
     },
     "execution_count": 1169,
     "metadata": {},
     "output_type": "execute_result"
    }
   ],
   "source": [
    "# The df is now called by name to display the results of the prior setting operations\n",
    "\n",
    "dfData3"
   ]
  },
  {
   "cell_type": "code",
   "execution_count": 1170,
   "metadata": {},
   "outputs": [
    {
     "data": {
      "text/html": [
       "<div>\n",
       "<style scoped>\n",
       "    .dataframe tbody tr th:only-of-type {\n",
       "        vertical-align: middle;\n",
       "    }\n",
       "\n",
       "    .dataframe tbody tr th {\n",
       "        vertical-align: top;\n",
       "    }\n",
       "\n",
       "    .dataframe thead th {\n",
       "        text-align: right;\n",
       "    }\n",
       "</style>\n",
       "<table border=\"1\" class=\"dataframe\">\n",
       "  <thead>\n",
       "    <tr style=\"text-align: right;\">\n",
       "      <th></th>\n",
       "      <th>Unit</th>\n",
       "      <th>Qty</th>\n",
       "      <th>Test1</th>\n",
       "      <th>Test2</th>\n",
       "      <th>Test3</th>\n",
       "    </tr>\n",
       "  </thead>\n",
       "  <tbody>\n",
       "    <tr>\n",
       "      <td>0</td>\n",
       "      <td>1</td>\n",
       "      <td>100</td>\n",
       "      <td>1</td>\n",
       "      <td>4</td>\n",
       "      <td>3</td>\n",
       "    </tr>\n",
       "    <tr>\n",
       "      <td>1</td>\n",
       "      <td>2</td>\n",
       "      <td>200</td>\n",
       "      <td>2</td>\n",
       "      <td>6</td>\n",
       "      <td>5</td>\n",
       "    </tr>\n",
       "    <tr>\n",
       "      <td>2</td>\n",
       "      <td>3</td>\n",
       "      <td>300</td>\n",
       "      <td>1</td>\n",
       "      <td>4</td>\n",
       "      <td>3</td>\n",
       "    </tr>\n",
       "    <tr>\n",
       "      <td>3</td>\n",
       "      <td>4</td>\n",
       "      <td>400</td>\n",
       "      <td>2</td>\n",
       "      <td>6</td>\n",
       "      <td>5</td>\n",
       "    </tr>\n",
       "    <tr>\n",
       "      <td>4</td>\n",
       "      <td>5</td>\n",
       "      <td>500</td>\n",
       "      <td>1</td>\n",
       "      <td>4</td>\n",
       "      <td>3</td>\n",
       "    </tr>\n",
       "    <tr>\n",
       "      <td>5</td>\n",
       "      <td>6</td>\n",
       "      <td>600</td>\n",
       "      <td>2</td>\n",
       "      <td>6</td>\n",
       "      <td>5</td>\n",
       "    </tr>\n",
       "  </tbody>\n",
       "</table>\n",
       "</div>"
      ],
      "text/plain": [
       "   Unit  Qty  Test1  Test2  Test3\n",
       "0     1  100      1      4      3\n",
       "1     2  200      2      6      5\n",
       "2     3  300      1      4      3\n",
       "3     4  400      2      6      5\n",
       "4     5  500      1      4      3\n",
       "5     6  600      2      6      5"
      ]
     },
     "execution_count": 1170,
     "metadata": {},
     "output_type": "execute_result"
    }
   ],
   "source": [
    "# In this example: A Dataframe dfData7 is created with 5 columns, and the data loaded\n",
    "\n",
    "dfData7 = pd.DataFrame({'Unit': [1, 2, 3, 4 , 5 , 6],\n",
    "                    'Qty': [100, 200, 300, 400, 500, 600],\n",
    "                    'Test1' : [1,2,1,2,1,2],\n",
    "                    'Test2' : [4,6,4,6,4,6],\n",
    "                    'Test3' : [3,5,3,5,3,5]\n",
    "                   })\n",
    "\n",
    "dfData7"
   ]
  },
  {
   "cell_type": "code",
   "execution_count": 1171,
   "metadata": {},
   "outputs": [
    {
     "data": {
      "text/html": [
       "<div>\n",
       "<style scoped>\n",
       "    .dataframe tbody tr th:only-of-type {\n",
       "        vertical-align: middle;\n",
       "    }\n",
       "\n",
       "    .dataframe tbody tr th {\n",
       "        vertical-align: top;\n",
       "    }\n",
       "\n",
       "    .dataframe thead th {\n",
       "        text-align: right;\n",
       "    }\n",
       "</style>\n",
       "<table border=\"1\" class=\"dataframe\">\n",
       "  <thead>\n",
       "    <tr style=\"text-align: right;\">\n",
       "      <th></th>\n",
       "      <th>Unit</th>\n",
       "      <th>Qty</th>\n",
       "      <th>Test1</th>\n",
       "      <th>Test2</th>\n",
       "      <th>Test3</th>\n",
       "    </tr>\n",
       "  </thead>\n",
       "  <tbody>\n",
       "    <tr>\n",
       "      <td>0</td>\n",
       "      <td>-1</td>\n",
       "      <td>-100</td>\n",
       "      <td>-1</td>\n",
       "      <td>-4</td>\n",
       "      <td>-3</td>\n",
       "    </tr>\n",
       "    <tr>\n",
       "      <td>1</td>\n",
       "      <td>-2</td>\n",
       "      <td>-200</td>\n",
       "      <td>-2</td>\n",
       "      <td>-6</td>\n",
       "      <td>-5</td>\n",
       "    </tr>\n",
       "    <tr>\n",
       "      <td>2</td>\n",
       "      <td>-3</td>\n",
       "      <td>-300</td>\n",
       "      <td>-1</td>\n",
       "      <td>-4</td>\n",
       "      <td>-3</td>\n",
       "    </tr>\n",
       "    <tr>\n",
       "      <td>3</td>\n",
       "      <td>-4</td>\n",
       "      <td>-400</td>\n",
       "      <td>-2</td>\n",
       "      <td>-6</td>\n",
       "      <td>-5</td>\n",
       "    </tr>\n",
       "    <tr>\n",
       "      <td>4</td>\n",
       "      <td>-5</td>\n",
       "      <td>-500</td>\n",
       "      <td>-1</td>\n",
       "      <td>-4</td>\n",
       "      <td>-3</td>\n",
       "    </tr>\n",
       "    <tr>\n",
       "      <td>5</td>\n",
       "      <td>-6</td>\n",
       "      <td>-600</td>\n",
       "      <td>-2</td>\n",
       "      <td>-6</td>\n",
       "      <td>-5</td>\n",
       "    </tr>\n",
       "  </tbody>\n",
       "</table>\n",
       "</div>"
      ],
      "text/plain": [
       "   Unit  Qty  Test1  Test2  Test3\n",
       "0    -1 -100     -1     -4     -3\n",
       "1    -2 -200     -2     -6     -5\n",
       "2    -3 -300     -1     -4     -3\n",
       "3    -4 -400     -2     -6     -5\n",
       "4    -5 -500     -1     -4     -3\n",
       "5    -6 -600     -2     -6     -5"
      ]
     },
     "execution_count": 1171,
     "metadata": {},
     "output_type": "execute_result"
    }
   ],
   "source": [
    "# In this example: The DataFrame dfData7 is copied\n",
    "# and all values in the new DataFrame dfData8 that were greater than zero are set as negative numbers\n",
    "\n",
    "dfData8=dfData7.copy()\n",
    "dfData8[dfData8 > 0] = -dfData8\n",
    "dfData8"
   ]
  },
  {
   "cell_type": "code",
   "execution_count": 1172,
   "metadata": {},
   "outputs": [
    {
     "data": {
      "text/html": [
       "<div>\n",
       "<style scoped>\n",
       "    .dataframe tbody tr th:only-of-type {\n",
       "        vertical-align: middle;\n",
       "    }\n",
       "\n",
       "    .dataframe tbody tr th {\n",
       "        vertical-align: top;\n",
       "    }\n",
       "\n",
       "    .dataframe thead th {\n",
       "        text-align: right;\n",
       "    }\n",
       "</style>\n",
       "<table border=\"1\" class=\"dataframe\">\n",
       "  <thead>\n",
       "    <tr style=\"text-align: right;\">\n",
       "      <th></th>\n",
       "      <th>Qty</th>\n",
       "      <th>Test1</th>\n",
       "      <th>Test2</th>\n",
       "      <th>Test3</th>\n",
       "      <th>Unit</th>\n",
       "    </tr>\n",
       "  </thead>\n",
       "  <tbody>\n",
       "    <tr>\n",
       "      <td>0</td>\n",
       "      <td>-100</td>\n",
       "      <td>-1</td>\n",
       "      <td>-4</td>\n",
       "      <td>-3</td>\n",
       "      <td>-1</td>\n",
       "    </tr>\n",
       "    <tr>\n",
       "      <td>1</td>\n",
       "      <td>-200</td>\n",
       "      <td>-2</td>\n",
       "      <td>-6</td>\n",
       "      <td>-5</td>\n",
       "      <td>-2</td>\n",
       "    </tr>\n",
       "    <tr>\n",
       "      <td>2</td>\n",
       "      <td>-300</td>\n",
       "      <td>-1</td>\n",
       "      <td>-4</td>\n",
       "      <td>-3</td>\n",
       "      <td>-3</td>\n",
       "    </tr>\n",
       "    <tr>\n",
       "      <td>3</td>\n",
       "      <td>-400</td>\n",
       "      <td>-2</td>\n",
       "      <td>-6</td>\n",
       "      <td>-5</td>\n",
       "      <td>-4</td>\n",
       "    </tr>\n",
       "    <tr>\n",
       "      <td>4</td>\n",
       "      <td>-500</td>\n",
       "      <td>-1</td>\n",
       "      <td>-4</td>\n",
       "      <td>-3</td>\n",
       "      <td>-5</td>\n",
       "    </tr>\n",
       "    <tr>\n",
       "      <td>5</td>\n",
       "      <td>-600</td>\n",
       "      <td>-2</td>\n",
       "      <td>-6</td>\n",
       "      <td>-5</td>\n",
       "      <td>-6</td>\n",
       "    </tr>\n",
       "    <tr>\n",
       "      <td>0</td>\n",
       "      <td>-100</td>\n",
       "      <td>-1</td>\n",
       "      <td>-4</td>\n",
       "      <td>-3</td>\n",
       "      <td>-1</td>\n",
       "    </tr>\n",
       "    <tr>\n",
       "      <td>1</td>\n",
       "      <td>-200</td>\n",
       "      <td>-2</td>\n",
       "      <td>-6</td>\n",
       "      <td>-5</td>\n",
       "      <td>-2</td>\n",
       "    </tr>\n",
       "    <tr>\n",
       "      <td>2</td>\n",
       "      <td>-300</td>\n",
       "      <td>-1</td>\n",
       "      <td>-4</td>\n",
       "      <td>-3</td>\n",
       "      <td>-3</td>\n",
       "    </tr>\n",
       "    <tr>\n",
       "      <td>3</td>\n",
       "      <td>-400</td>\n",
       "      <td>-2</td>\n",
       "      <td>-6</td>\n",
       "      <td>-5</td>\n",
       "      <td>-4</td>\n",
       "    </tr>\n",
       "    <tr>\n",
       "      <td>4</td>\n",
       "      <td>-500</td>\n",
       "      <td>-1</td>\n",
       "      <td>-4</td>\n",
       "      <td>-3</td>\n",
       "      <td>-5</td>\n",
       "    </tr>\n",
       "    <tr>\n",
       "      <td>5</td>\n",
       "      <td>-600</td>\n",
       "      <td>-2</td>\n",
       "      <td>-6</td>\n",
       "      <td>-5</td>\n",
       "      <td>-6</td>\n",
       "    </tr>\n",
       "    <tr>\n",
       "      <td>0</td>\n",
       "      <td>-100</td>\n",
       "      <td>-1</td>\n",
       "      <td>-4</td>\n",
       "      <td>-3</td>\n",
       "      <td>-1</td>\n",
       "    </tr>\n",
       "    <tr>\n",
       "      <td>1</td>\n",
       "      <td>-200</td>\n",
       "      <td>-2</td>\n",
       "      <td>-6</td>\n",
       "      <td>-5</td>\n",
       "      <td>-2</td>\n",
       "    </tr>\n",
       "    <tr>\n",
       "      <td>2</td>\n",
       "      <td>-300</td>\n",
       "      <td>-1</td>\n",
       "      <td>-4</td>\n",
       "      <td>-3</td>\n",
       "      <td>-3</td>\n",
       "    </tr>\n",
       "    <tr>\n",
       "      <td>3</td>\n",
       "      <td>-400</td>\n",
       "      <td>-2</td>\n",
       "      <td>-6</td>\n",
       "      <td>-5</td>\n",
       "      <td>-4</td>\n",
       "    </tr>\n",
       "    <tr>\n",
       "      <td>4</td>\n",
       "      <td>-500</td>\n",
       "      <td>-1</td>\n",
       "      <td>-4</td>\n",
       "      <td>-3</td>\n",
       "      <td>-5</td>\n",
       "    </tr>\n",
       "    <tr>\n",
       "      <td>5</td>\n",
       "      <td>-600</td>\n",
       "      <td>-2</td>\n",
       "      <td>-6</td>\n",
       "      <td>-5</td>\n",
       "      <td>-6</td>\n",
       "    </tr>\n",
       "  </tbody>\n",
       "</table>\n",
       "</div>"
      ],
      "text/plain": [
       "   Qty  Test1  Test2  Test3  Unit\n",
       "0 -100     -1     -4     -3    -1\n",
       "1 -200     -2     -6     -5    -2\n",
       "2 -300     -1     -4     -3    -3\n",
       "3 -400     -2     -6     -5    -4\n",
       "4 -500     -1     -4     -3    -5\n",
       "5 -600     -2     -6     -5    -6\n",
       "0 -100     -1     -4     -3    -1\n",
       "1 -200     -2     -6     -5    -2\n",
       "2 -300     -1     -4     -3    -3\n",
       "3 -400     -2     -6     -5    -4\n",
       "4 -500     -1     -4     -3    -5\n",
       "5 -600     -2     -6     -5    -6\n",
       "0 -100     -1     -4     -3    -1\n",
       "1 -200     -2     -6     -5    -2\n",
       "2 -300     -1     -4     -3    -3\n",
       "3 -400     -2     -6     -5    -4\n",
       "4 -500     -1     -4     -3    -5\n",
       "5 -600     -2     -6     -5    -6"
      ]
     },
     "execution_count": 1172,
     "metadata": {},
     "output_type": "execute_result"
    }
   ],
   "source": [
    "# For interest, it is possible to remove duplicates rather than replace their values\n",
    "\n",
    "# First, a new DataFrame of duplicate data values needs to created\n",
    "dfData8a=dfData8.copy()\n",
    "dfData8b=dfData8.copy()\n",
    "dfFrames2 = [dfData8, dfData8a, dfData8b]\n",
    "dfData8Copy = pd.concat(dfFrames2, sort=True)\n",
    "#dfData8Copy.shape\n",
    "dfData8Copy"
   ]
  },
  {
   "cell_type": "code",
   "execution_count": 1173,
   "metadata": {},
   "outputs": [
    {
     "data": {
      "text/html": [
       "<div>\n",
       "<style scoped>\n",
       "    .dataframe tbody tr th:only-of-type {\n",
       "        vertical-align: middle;\n",
       "    }\n",
       "\n",
       "    .dataframe tbody tr th {\n",
       "        vertical-align: top;\n",
       "    }\n",
       "\n",
       "    .dataframe thead th {\n",
       "        text-align: right;\n",
       "    }\n",
       "</style>\n",
       "<table border=\"1\" class=\"dataframe\">\n",
       "  <thead>\n",
       "    <tr style=\"text-align: right;\">\n",
       "      <th></th>\n",
       "      <th>Qty</th>\n",
       "      <th>Test1</th>\n",
       "      <th>Test2</th>\n",
       "      <th>Test3</th>\n",
       "      <th>Unit</th>\n",
       "    </tr>\n",
       "  </thead>\n",
       "  <tbody>\n",
       "    <tr>\n",
       "      <td>0</td>\n",
       "      <td>-100</td>\n",
       "      <td>-1</td>\n",
       "      <td>-4</td>\n",
       "      <td>-3</td>\n",
       "      <td>-1</td>\n",
       "    </tr>\n",
       "    <tr>\n",
       "      <td>1</td>\n",
       "      <td>-200</td>\n",
       "      <td>-2</td>\n",
       "      <td>-6</td>\n",
       "      <td>-5</td>\n",
       "      <td>-2</td>\n",
       "    </tr>\n",
       "    <tr>\n",
       "      <td>2</td>\n",
       "      <td>-300</td>\n",
       "      <td>-1</td>\n",
       "      <td>-4</td>\n",
       "      <td>-3</td>\n",
       "      <td>-3</td>\n",
       "    </tr>\n",
       "    <tr>\n",
       "      <td>3</td>\n",
       "      <td>-400</td>\n",
       "      <td>-2</td>\n",
       "      <td>-6</td>\n",
       "      <td>-5</td>\n",
       "      <td>-4</td>\n",
       "    </tr>\n",
       "    <tr>\n",
       "      <td>4</td>\n",
       "      <td>-500</td>\n",
       "      <td>-1</td>\n",
       "      <td>-4</td>\n",
       "      <td>-3</td>\n",
       "      <td>-5</td>\n",
       "    </tr>\n",
       "    <tr>\n",
       "      <td>5</td>\n",
       "      <td>-600</td>\n",
       "      <td>-2</td>\n",
       "      <td>-6</td>\n",
       "      <td>-5</td>\n",
       "      <td>-6</td>\n",
       "    </tr>\n",
       "  </tbody>\n",
       "</table>\n",
       "</div>"
      ],
      "text/plain": [
       "   Qty  Test1  Test2  Test3  Unit\n",
       "0 -100     -1     -4     -3    -1\n",
       "1 -200     -2     -6     -5    -2\n",
       "2 -300     -1     -4     -3    -3\n",
       "3 -400     -2     -6     -5    -4\n",
       "4 -500     -1     -4     -3    -5\n",
       "5 -600     -2     -6     -5    -6"
      ]
     },
     "execution_count": 1173,
     "metadata": {},
     "output_type": "execute_result"
    }
   ],
   "source": [
    "# Next, the duplicates will be removed\n",
    "\n",
    "dfData8Copy = dfData8Copy.drop_duplicates()\n",
    "#dfData8Copy.shape\n",
    "dfData8Copy"
   ]
  },
  {
   "cell_type": "markdown",
   "metadata": {},
   "source": [
    "#### Appending, Concatenating and Merging\n",
    "\n",
    "These pandas functions allow for the adding of new data sets and/or new Series to an existing DataFrame, or create a completely new Dataframe as a result of combining.\n",
    "\n",
    "- pandas `.append()` function adds the rows of a single DataFrame to another DataFrame\n",
    "\n",
    "- pandas `.concat()` function is able to a group of 2 or more DataFrames and then combines all the DataFrames via the rows or columns\n",
    "\n",
    "- pandas `.merge()` function allows for more SQL-like merging of two DataFrames, specifically merging on similar values in a column found in the two DataFrames\n",
    "\n",
    "Columns not in the original DataFrames are added as new columns and the new cells are populated with NaN value.\n",
    "\n",
    "\n",
    "**See example below:**\n"
   ]
  },
  {
   "cell_type": "code",
   "execution_count": 1174,
   "metadata": {},
   "outputs": [],
   "source": [
    "# Creating a new Series to append to DataFrame dfData3\n",
    "\n",
    "#sSeventh = pd.Series(['0.231567', '1.235689', '-0.123456', '2.789546'], index=['A', 'B', 'C', 'D'])\n",
    "#dfData3 = dfData3.append(sSeventh, ignore_index=True)\n",
    "#dfData3"
   ]
  },
  {
   "cell_type": "code",
   "execution_count": 1175,
   "metadata": {},
   "outputs": [
    {
     "data": {
      "text/html": [
       "<div>\n",
       "<style scoped>\n",
       "    .dataframe tbody tr th:only-of-type {\n",
       "        vertical-align: middle;\n",
       "    }\n",
       "\n",
       "    .dataframe tbody tr th {\n",
       "        vertical-align: top;\n",
       "    }\n",
       "\n",
       "    .dataframe thead th {\n",
       "        text-align: right;\n",
       "    }\n",
       "</style>\n",
       "<table border=\"1\" class=\"dataframe\">\n",
       "  <thead>\n",
       "    <tr style=\"text-align: right;\">\n",
       "      <th></th>\n",
       "      <th>A</th>\n",
       "      <th>B</th>\n",
       "      <th>C</th>\n",
       "      <th>D</th>\n",
       "    </tr>\n",
       "  </thead>\n",
       "  <tbody>\n",
       "    <tr>\n",
       "      <td>2019-01-07</td>\n",
       "      <td>-1.445731</td>\n",
       "      <td>-0.257639</td>\n",
       "      <td>0.885873</td>\n",
       "      <td>0.685649</td>\n",
       "    </tr>\n",
       "    <tr>\n",
       "      <td>2019-01-08</td>\n",
       "      <td>0.114870</td>\n",
       "      <td>-0.320182</td>\n",
       "      <td>-0.188518</td>\n",
       "      <td>-1.880422</td>\n",
       "    </tr>\n",
       "  </tbody>\n",
       "</table>\n",
       "</div>"
      ],
      "text/plain": [
       "                   A         B         C         D\n",
       "2019-01-07 -1.445731 -0.257639  0.885873  0.685649\n",
       "2019-01-08  0.114870 -0.320182 -0.188518 -1.880422"
      ]
     },
     "execution_count": 1175,
     "metadata": {},
     "output_type": "execute_result"
    }
   ],
   "source": [
    "# Creating two new DataFrames containg new rows of data\n",
    "\n",
    "dfData4 =pd.DataFrame(np.random.randn(2,4), index=pd.date_range('20190107', periods=2), columns=list('ABCD'))\n",
    "dfData4"
   ]
  },
  {
   "cell_type": "code",
   "execution_count": 1176,
   "metadata": {},
   "outputs": [
    {
     "data": {
      "text/html": [
       "<div>\n",
       "<style scoped>\n",
       "    .dataframe tbody tr th:only-of-type {\n",
       "        vertical-align: middle;\n",
       "    }\n",
       "\n",
       "    .dataframe tbody tr th {\n",
       "        vertical-align: top;\n",
       "    }\n",
       "\n",
       "    .dataframe thead th {\n",
       "        text-align: right;\n",
       "    }\n",
       "</style>\n",
       "<table border=\"1\" class=\"dataframe\">\n",
       "  <thead>\n",
       "    <tr style=\"text-align: right;\">\n",
       "      <th></th>\n",
       "      <th>A</th>\n",
       "      <th>B</th>\n",
       "      <th>C</th>\n",
       "      <th>D</th>\n",
       "    </tr>\n",
       "  </thead>\n",
       "  <tbody>\n",
       "    <tr>\n",
       "      <td>2019-01-10</td>\n",
       "      <td>-0.169033</td>\n",
       "      <td>1.620146</td>\n",
       "      <td>-0.057261</td>\n",
       "      <td>-1.948084</td>\n",
       "    </tr>\n",
       "    <tr>\n",
       "      <td>2019-01-11</td>\n",
       "      <td>0.468706</td>\n",
       "      <td>0.418494</td>\n",
       "      <td>1.283729</td>\n",
       "      <td>0.396328</td>\n",
       "    </tr>\n",
       "  </tbody>\n",
       "</table>\n",
       "</div>"
      ],
      "text/plain": [
       "                   A         B         C         D\n",
       "2019-01-10 -0.169033  1.620146 -0.057261 -1.948084\n",
       "2019-01-11  0.468706  0.418494  1.283729  0.396328"
      ]
     },
     "execution_count": 1176,
     "metadata": {},
     "output_type": "execute_result"
    }
   ],
   "source": [
    "dfData5 =pd.DataFrame(np.random.randn(2,4), index=pd.date_range('20190110', periods=2), columns=list('ABCD'))\n",
    "dfData5"
   ]
  },
  {
   "cell_type": "code",
   "execution_count": 1177,
   "metadata": {},
   "outputs": [
    {
     "data": {
      "text/html": [
       "<div>\n",
       "<style scoped>\n",
       "    .dataframe tbody tr th:only-of-type {\n",
       "        vertical-align: middle;\n",
       "    }\n",
       "\n",
       "    .dataframe tbody tr th {\n",
       "        vertical-align: top;\n",
       "    }\n",
       "\n",
       "    .dataframe thead th {\n",
       "        text-align: right;\n",
       "    }\n",
       "</style>\n",
       "<table border=\"1\" class=\"dataframe\">\n",
       "  <thead>\n",
       "    <tr style=\"text-align: right;\">\n",
       "      <th></th>\n",
       "      <th>A</th>\n",
       "      <th>B</th>\n",
       "      <th>C</th>\n",
       "      <th>D</th>\n",
       "      <th>E</th>\n",
       "      <th>F</th>\n",
       "    </tr>\n",
       "  </thead>\n",
       "  <tbody>\n",
       "    <tr>\n",
       "      <td>2019-01-01</td>\n",
       "      <td>0.000000</td>\n",
       "      <td>0.000000</td>\n",
       "      <td>0.002931</td>\n",
       "      <td>5</td>\n",
       "      <td>one</td>\n",
       "      <td>NaN</td>\n",
       "    </tr>\n",
       "    <tr>\n",
       "      <td>2019-01-02</td>\n",
       "      <td>0.160282</td>\n",
       "      <td>1.263459</td>\n",
       "      <td>-0.304879</td>\n",
       "      <td>5</td>\n",
       "      <td>one</td>\n",
       "      <td>1.0</td>\n",
       "    </tr>\n",
       "    <tr>\n",
       "      <td>2019-01-03</td>\n",
       "      <td>-0.489581</td>\n",
       "      <td>-0.140495</td>\n",
       "      <td>-1.804682</td>\n",
       "      <td>5</td>\n",
       "      <td>two</td>\n",
       "      <td>2.0</td>\n",
       "    </tr>\n",
       "    <tr>\n",
       "      <td>2019-01-04</td>\n",
       "      <td>0.533439</td>\n",
       "      <td>1.288184</td>\n",
       "      <td>0.830266</td>\n",
       "      <td>5</td>\n",
       "      <td>three</td>\n",
       "      <td>3.0</td>\n",
       "    </tr>\n",
       "    <tr>\n",
       "      <td>2019-01-05</td>\n",
       "      <td>0.392912</td>\n",
       "      <td>-0.643530</td>\n",
       "      <td>1.619957</td>\n",
       "      <td>5</td>\n",
       "      <td>three</td>\n",
       "      <td>4.0</td>\n",
       "    </tr>\n",
       "    <tr>\n",
       "      <td>2019-01-06</td>\n",
       "      <td>0.297479</td>\n",
       "      <td>-0.755912</td>\n",
       "      <td>2.391173</td>\n",
       "      <td>5</td>\n",
       "      <td>four</td>\n",
       "      <td>5.0</td>\n",
       "    </tr>\n",
       "  </tbody>\n",
       "</table>\n",
       "</div>"
      ],
      "text/plain": [
       "                   A         B         C  D      E    F\n",
       "2019-01-01  0.000000  0.000000  0.002931  5    one  NaN\n",
       "2019-01-02  0.160282  1.263459 -0.304879  5    one  1.0\n",
       "2019-01-03 -0.489581 -0.140495 -1.804682  5    two  2.0\n",
       "2019-01-04  0.533439  1.288184  0.830266  5  three  3.0\n",
       "2019-01-05  0.392912 -0.643530  1.619957  5  three  4.0\n",
       "2019-01-06  0.297479 -0.755912  2.391173  5   four  5.0"
      ]
     },
     "execution_count": 1177,
     "metadata": {},
     "output_type": "execute_result"
    }
   ],
   "source": [
    "# Adding one new DataFrame dfData4 to existing DataFrame dfData3\n",
    "\n",
    "dfData3.append(dfData4, ignore_index=False, sort=True)\n",
    "dfData3"
   ]
  },
  {
   "cell_type": "code",
   "execution_count": 1178,
   "metadata": {},
   "outputs": [
    {
     "data": {
      "text/html": [
       "<div>\n",
       "<style scoped>\n",
       "    .dataframe tbody tr th:only-of-type {\n",
       "        vertical-align: middle;\n",
       "    }\n",
       "\n",
       "    .dataframe tbody tr th {\n",
       "        vertical-align: top;\n",
       "    }\n",
       "\n",
       "    .dataframe thead th {\n",
       "        text-align: right;\n",
       "    }\n",
       "</style>\n",
       "<table border=\"1\" class=\"dataframe\">\n",
       "  <thead>\n",
       "    <tr style=\"text-align: right;\">\n",
       "      <th></th>\n",
       "      <th>A</th>\n",
       "      <th>B</th>\n",
       "      <th>C</th>\n",
       "      <th>D</th>\n",
       "      <th>E</th>\n",
       "      <th>F</th>\n",
       "    </tr>\n",
       "  </thead>\n",
       "  <tbody>\n",
       "    <tr>\n",
       "      <td>2019-01-01</td>\n",
       "      <td>0.000000</td>\n",
       "      <td>0.000000</td>\n",
       "      <td>0.002931</td>\n",
       "      <td>5.000000</td>\n",
       "      <td>one</td>\n",
       "      <td>NaN</td>\n",
       "    </tr>\n",
       "    <tr>\n",
       "      <td>2019-01-02</td>\n",
       "      <td>0.160282</td>\n",
       "      <td>1.263459</td>\n",
       "      <td>-0.304879</td>\n",
       "      <td>5.000000</td>\n",
       "      <td>one</td>\n",
       "      <td>1.0</td>\n",
       "    </tr>\n",
       "    <tr>\n",
       "      <td>2019-01-03</td>\n",
       "      <td>-0.489581</td>\n",
       "      <td>-0.140495</td>\n",
       "      <td>-1.804682</td>\n",
       "      <td>5.000000</td>\n",
       "      <td>two</td>\n",
       "      <td>2.0</td>\n",
       "    </tr>\n",
       "    <tr>\n",
       "      <td>2019-01-04</td>\n",
       "      <td>0.533439</td>\n",
       "      <td>1.288184</td>\n",
       "      <td>0.830266</td>\n",
       "      <td>5.000000</td>\n",
       "      <td>three</td>\n",
       "      <td>3.0</td>\n",
       "    </tr>\n",
       "    <tr>\n",
       "      <td>2019-01-05</td>\n",
       "      <td>0.392912</td>\n",
       "      <td>-0.643530</td>\n",
       "      <td>1.619957</td>\n",
       "      <td>5.000000</td>\n",
       "      <td>three</td>\n",
       "      <td>4.0</td>\n",
       "    </tr>\n",
       "    <tr>\n",
       "      <td>2019-01-06</td>\n",
       "      <td>0.297479</td>\n",
       "      <td>-0.755912</td>\n",
       "      <td>2.391173</td>\n",
       "      <td>5.000000</td>\n",
       "      <td>four</td>\n",
       "      <td>5.0</td>\n",
       "    </tr>\n",
       "    <tr>\n",
       "      <td>2019-01-07</td>\n",
       "      <td>-1.445731</td>\n",
       "      <td>-0.257639</td>\n",
       "      <td>0.885873</td>\n",
       "      <td>0.685649</td>\n",
       "      <td>NaN</td>\n",
       "      <td>NaN</td>\n",
       "    </tr>\n",
       "    <tr>\n",
       "      <td>2019-01-08</td>\n",
       "      <td>0.114870</td>\n",
       "      <td>-0.320182</td>\n",
       "      <td>-0.188518</td>\n",
       "      <td>-1.880422</td>\n",
       "      <td>NaN</td>\n",
       "      <td>NaN</td>\n",
       "    </tr>\n",
       "    <tr>\n",
       "      <td>2019-01-10</td>\n",
       "      <td>-0.169033</td>\n",
       "      <td>1.620146</td>\n",
       "      <td>-0.057261</td>\n",
       "      <td>-1.948084</td>\n",
       "      <td>NaN</td>\n",
       "      <td>NaN</td>\n",
       "    </tr>\n",
       "    <tr>\n",
       "      <td>2019-01-11</td>\n",
       "      <td>0.468706</td>\n",
       "      <td>0.418494</td>\n",
       "      <td>1.283729</td>\n",
       "      <td>0.396328</td>\n",
       "      <td>NaN</td>\n",
       "      <td>NaN</td>\n",
       "    </tr>\n",
       "  </tbody>\n",
       "</table>\n",
       "</div>"
      ],
      "text/plain": [
       "                   A         B         C         D      E    F\n",
       "2019-01-01  0.000000  0.000000  0.002931  5.000000    one  NaN\n",
       "2019-01-02  0.160282  1.263459 -0.304879  5.000000    one  1.0\n",
       "2019-01-03 -0.489581 -0.140495 -1.804682  5.000000    two  2.0\n",
       "2019-01-04  0.533439  1.288184  0.830266  5.000000  three  3.0\n",
       "2019-01-05  0.392912 -0.643530  1.619957  5.000000  three  4.0\n",
       "2019-01-06  0.297479 -0.755912  2.391173  5.000000   four  5.0\n",
       "2019-01-07 -1.445731 -0.257639  0.885873  0.685649    NaN  NaN\n",
       "2019-01-08  0.114870 -0.320182 -0.188518 -1.880422    NaN  NaN\n",
       "2019-01-10 -0.169033  1.620146 -0.057261 -1.948084    NaN  NaN\n",
       "2019-01-11  0.468706  0.418494  1.283729  0.396328    NaN  NaN"
      ]
     },
     "execution_count": 1178,
     "metadata": {},
     "output_type": "execute_result"
    }
   ],
   "source": [
    "# Adding a group of DataFrames to create a new DataFrame dfData6\n",
    "\n",
    "dfFrames1 = [dfData3, dfData4, dfData5]\n",
    "\n",
    "dfData6 = pd.concat(dfFrames1, sort=True)\n",
    "dfData6"
   ]
  },
  {
   "cell_type": "code",
   "execution_count": 1179,
   "metadata": {},
   "outputs": [
    {
     "data": {
      "text/html": [
       "<div>\n",
       "<style scoped>\n",
       "    .dataframe tbody tr th:only-of-type {\n",
       "        vertical-align: middle;\n",
       "    }\n",
       "\n",
       "    .dataframe tbody tr th {\n",
       "        vertical-align: top;\n",
       "    }\n",
       "\n",
       "    .dataframe thead th {\n",
       "        text-align: right;\n",
       "    }\n",
       "</style>\n",
       "<table border=\"1\" class=\"dataframe\">\n",
       "  <thead>\n",
       "    <tr style=\"text-align: right;\">\n",
       "      <th></th>\n",
       "      <th>A</th>\n",
       "      <th>B</th>\n",
       "      <th>C</th>\n",
       "      <th>D</th>\n",
       "      <th>E</th>\n",
       "      <th>F</th>\n",
       "    </tr>\n",
       "  </thead>\n",
       "  <tbody>\n",
       "    <tr>\n",
       "      <td>2019-01-01</td>\n",
       "      <td>0.000000</td>\n",
       "      <td>0.000000</td>\n",
       "      <td>0.002931</td>\n",
       "      <td>5.000000</td>\n",
       "      <td>one</td>\n",
       "      <td>NaN</td>\n",
       "    </tr>\n",
       "    <tr>\n",
       "      <td>2019-01-02</td>\n",
       "      <td>0.160282</td>\n",
       "      <td>1.263459</td>\n",
       "      <td>-0.304879</td>\n",
       "      <td>5.000000</td>\n",
       "      <td>one</td>\n",
       "      <td>1.0</td>\n",
       "    </tr>\n",
       "    <tr>\n",
       "      <td>2019-01-03</td>\n",
       "      <td>-0.489581</td>\n",
       "      <td>-0.140495</td>\n",
       "      <td>-1.804682</td>\n",
       "      <td>5.000000</td>\n",
       "      <td>two</td>\n",
       "      <td>2.0</td>\n",
       "    </tr>\n",
       "    <tr>\n",
       "      <td>2019-01-04</td>\n",
       "      <td>0.533439</td>\n",
       "      <td>1.288184</td>\n",
       "      <td>0.830266</td>\n",
       "      <td>5.000000</td>\n",
       "      <td>three</td>\n",
       "      <td>3.0</td>\n",
       "    </tr>\n",
       "    <tr>\n",
       "      <td>2019-01-05</td>\n",
       "      <td>0.392912</td>\n",
       "      <td>-0.643530</td>\n",
       "      <td>1.619957</td>\n",
       "      <td>5.000000</td>\n",
       "      <td>three</td>\n",
       "      <td>4.0</td>\n",
       "    </tr>\n",
       "    <tr>\n",
       "      <td>2019-01-06</td>\n",
       "      <td>0.297479</td>\n",
       "      <td>-0.755912</td>\n",
       "      <td>2.391173</td>\n",
       "      <td>5.000000</td>\n",
       "      <td>four</td>\n",
       "      <td>5.0</td>\n",
       "    </tr>\n",
       "    <tr>\n",
       "      <td>2019-01-08</td>\n",
       "      <td>0.114870</td>\n",
       "      <td>-0.320182</td>\n",
       "      <td>-0.188518</td>\n",
       "      <td>-1.880422</td>\n",
       "      <td>NaN</td>\n",
       "      <td>NaN</td>\n",
       "    </tr>\n",
       "    <tr>\n",
       "      <td>2019-01-11</td>\n",
       "      <td>0.468706</td>\n",
       "      <td>0.418494</td>\n",
       "      <td>1.283729</td>\n",
       "      <td>0.396328</td>\n",
       "      <td>NaN</td>\n",
       "      <td>NaN</td>\n",
       "    </tr>\n",
       "  </tbody>\n",
       "</table>\n",
       "</div>"
      ],
      "text/plain": [
       "                   A         B         C         D      E    F\n",
       "2019-01-01  0.000000  0.000000  0.002931  5.000000    one  NaN\n",
       "2019-01-02  0.160282  1.263459 -0.304879  5.000000    one  1.0\n",
       "2019-01-03 -0.489581 -0.140495 -1.804682  5.000000    two  2.0\n",
       "2019-01-04  0.533439  1.288184  0.830266  5.000000  three  3.0\n",
       "2019-01-05  0.392912 -0.643530  1.619957  5.000000  three  4.0\n",
       "2019-01-06  0.297479 -0.755912  2.391173  5.000000   four  5.0\n",
       "2019-01-08  0.114870 -0.320182 -0.188518 -1.880422    NaN  NaN\n",
       "2019-01-11  0.468706  0.418494  1.283729  0.396328    NaN  NaN"
      ]
     },
     "execution_count": 1179,
     "metadata": {},
     "output_type": "execute_result"
    }
   ],
   "source": [
    "# Adding a pieces of DataFrames to create a new DataFrame dfData7\n",
    "\n",
    "Pieces1 = [dfData3[:7], dfData4[1:], dfData5[1:]]\n",
    "dfData7 = pd.concat(Pieces1, sort=True)\n",
    "dfData7"
   ]
  },
  {
   "cell_type": "code",
   "execution_count": 1180,
   "metadata": {},
   "outputs": [
    {
     "data": {
      "text/html": [
       "<div>\n",
       "<style scoped>\n",
       "    .dataframe tbody tr th:only-of-type {\n",
       "        vertical-align: middle;\n",
       "    }\n",
       "\n",
       "    .dataframe tbody tr th {\n",
       "        vertical-align: top;\n",
       "    }\n",
       "\n",
       "    .dataframe thead th {\n",
       "        text-align: right;\n",
       "    }\n",
       "</style>\n",
       "<table border=\"1\" class=\"dataframe\">\n",
       "  <thead>\n",
       "    <tr style=\"text-align: right;\">\n",
       "      <th></th>\n",
       "      <th>KEY</th>\n",
       "      <th>LeftValue</th>\n",
       "    </tr>\n",
       "  </thead>\n",
       "  <tbody>\n",
       "    <tr>\n",
       "      <td>0</td>\n",
       "      <td>foo</td>\n",
       "      <td>1</td>\n",
       "    </tr>\n",
       "    <tr>\n",
       "      <td>1</td>\n",
       "      <td>foo</td>\n",
       "      <td>2</td>\n",
       "    </tr>\n",
       "  </tbody>\n",
       "</table>\n",
       "</div>"
      ],
      "text/plain": [
       "   KEY  LeftValue\n",
       "0  foo          1\n",
       "1  foo          2"
      ]
     },
     "execution_count": 1180,
     "metadata": {},
     "output_type": "execute_result"
    }
   ],
   "source": [
    "# Creating two new DataFrames containg new rows of data\n",
    "\n",
    "dfLeft = pd.DataFrame({'KEY': ['foo', 'foo'], 'LeftValue': [1, 2]})\n",
    "dfLeft"
   ]
  },
  {
   "cell_type": "code",
   "execution_count": 1181,
   "metadata": {},
   "outputs": [
    {
     "data": {
      "text/html": [
       "<div>\n",
       "<style scoped>\n",
       "    .dataframe tbody tr th:only-of-type {\n",
       "        vertical-align: middle;\n",
       "    }\n",
       "\n",
       "    .dataframe tbody tr th {\n",
       "        vertical-align: top;\n",
       "    }\n",
       "\n",
       "    .dataframe thead th {\n",
       "        text-align: right;\n",
       "    }\n",
       "</style>\n",
       "<table border=\"1\" class=\"dataframe\">\n",
       "  <thead>\n",
       "    <tr style=\"text-align: right;\">\n",
       "      <th></th>\n",
       "      <th>KEY</th>\n",
       "      <th>RightValue</th>\n",
       "    </tr>\n",
       "  </thead>\n",
       "  <tbody>\n",
       "    <tr>\n",
       "      <td>0</td>\n",
       "      <td>foo</td>\n",
       "      <td>4</td>\n",
       "    </tr>\n",
       "    <tr>\n",
       "      <td>1</td>\n",
       "      <td>foo</td>\n",
       "      <td>5</td>\n",
       "    </tr>\n",
       "  </tbody>\n",
       "</table>\n",
       "</div>"
      ],
      "text/plain": [
       "   KEY  RightValue\n",
       "0  foo           4\n",
       "1  foo           5"
      ]
     },
     "execution_count": 1181,
     "metadata": {},
     "output_type": "execute_result"
    }
   ],
   "source": [
    "dfRight = pd.DataFrame({'KEY': ['foo', 'foo'], 'RightValue': [4, 5]})\n",
    "dfRight"
   ]
  },
  {
   "cell_type": "code",
   "execution_count": 1182,
   "metadata": {},
   "outputs": [
    {
     "data": {
      "text/html": [
       "<div>\n",
       "<style scoped>\n",
       "    .dataframe tbody tr th:only-of-type {\n",
       "        vertical-align: middle;\n",
       "    }\n",
       "\n",
       "    .dataframe tbody tr th {\n",
       "        vertical-align: top;\n",
       "    }\n",
       "\n",
       "    .dataframe thead th {\n",
       "        text-align: right;\n",
       "    }\n",
       "</style>\n",
       "<table border=\"1\" class=\"dataframe\">\n",
       "  <thead>\n",
       "    <tr style=\"text-align: right;\">\n",
       "      <th></th>\n",
       "      <th>KEY</th>\n",
       "      <th>LeftValue</th>\n",
       "      <th>RightValue</th>\n",
       "    </tr>\n",
       "  </thead>\n",
       "  <tbody>\n",
       "    <tr>\n",
       "      <td>0</td>\n",
       "      <td>foo</td>\n",
       "      <td>1</td>\n",
       "      <td>4</td>\n",
       "    </tr>\n",
       "    <tr>\n",
       "      <td>1</td>\n",
       "      <td>foo</td>\n",
       "      <td>1</td>\n",
       "      <td>5</td>\n",
       "    </tr>\n",
       "    <tr>\n",
       "      <td>2</td>\n",
       "      <td>foo</td>\n",
       "      <td>2</td>\n",
       "      <td>4</td>\n",
       "    </tr>\n",
       "    <tr>\n",
       "      <td>3</td>\n",
       "      <td>foo</td>\n",
       "      <td>2</td>\n",
       "      <td>5</td>\n",
       "    </tr>\n",
       "  </tbody>\n",
       "</table>\n",
       "</div>"
      ],
      "text/plain": [
       "   KEY  LeftValue  RightValue\n",
       "0  foo          1           4\n",
       "1  foo          1           5\n",
       "2  foo          2           4\n",
       "3  foo          2           5"
      ]
     },
     "execution_count": 1182,
     "metadata": {},
     "output_type": "execute_result"
    }
   ],
   "source": [
    "# Creating one new DataFrame by merging the two Dataframes on the Column labelled KEY\n",
    "\n",
    "pd.merge(dfLeft, dfRight, on='KEY')"
   ]
  },
  {
   "cell_type": "code",
   "execution_count": 1183,
   "metadata": {},
   "outputs": [
    {
     "data": {
      "text/html": [
       "<div>\n",
       "<style scoped>\n",
       "    .dataframe tbody tr th:only-of-type {\n",
       "        vertical-align: middle;\n",
       "    }\n",
       "\n",
       "    .dataframe tbody tr th {\n",
       "        vertical-align: top;\n",
       "    }\n",
       "\n",
       "    .dataframe thead th {\n",
       "        text-align: right;\n",
       "    }\n",
       "</style>\n",
       "<table border=\"1\" class=\"dataframe\">\n",
       "  <thead>\n",
       "    <tr style=\"text-align: right;\">\n",
       "      <th></th>\n",
       "      <th>KEY</th>\n",
       "      <th>LeftValue</th>\n",
       "    </tr>\n",
       "  </thead>\n",
       "  <tbody>\n",
       "    <tr>\n",
       "      <td>0</td>\n",
       "      <td>foo</td>\n",
       "      <td>1</td>\n",
       "    </tr>\n",
       "    <tr>\n",
       "      <td>1</td>\n",
       "      <td>bar</td>\n",
       "      <td>2</td>\n",
       "    </tr>\n",
       "  </tbody>\n",
       "</table>\n",
       "</div>"
      ],
      "text/plain": [
       "   KEY  LeftValue\n",
       "0  foo          1\n",
       "1  bar          2"
      ]
     },
     "execution_count": 1183,
     "metadata": {},
     "output_type": "execute_result"
    }
   ],
   "source": [
    "# Another example:\n",
    "\n",
    "dfLeft2 = pd.DataFrame({'KEY': ['foo', 'bar'], 'LeftValue': [1, 2]})\n",
    "dfLeft2"
   ]
  },
  {
   "cell_type": "code",
   "execution_count": 1184,
   "metadata": {},
   "outputs": [
    {
     "data": {
      "text/html": [
       "<div>\n",
       "<style scoped>\n",
       "    .dataframe tbody tr th:only-of-type {\n",
       "        vertical-align: middle;\n",
       "    }\n",
       "\n",
       "    .dataframe tbody tr th {\n",
       "        vertical-align: top;\n",
       "    }\n",
       "\n",
       "    .dataframe thead th {\n",
       "        text-align: right;\n",
       "    }\n",
       "</style>\n",
       "<table border=\"1\" class=\"dataframe\">\n",
       "  <thead>\n",
       "    <tr style=\"text-align: right;\">\n",
       "      <th></th>\n",
       "      <th>KEY</th>\n",
       "      <th>RightValue</th>\n",
       "    </tr>\n",
       "  </thead>\n",
       "  <tbody>\n",
       "    <tr>\n",
       "      <td>0</td>\n",
       "      <td>foo</td>\n",
       "      <td>4</td>\n",
       "    </tr>\n",
       "    <tr>\n",
       "      <td>1</td>\n",
       "      <td>bar</td>\n",
       "      <td>5</td>\n",
       "    </tr>\n",
       "  </tbody>\n",
       "</table>\n",
       "</div>"
      ],
      "text/plain": [
       "   KEY  RightValue\n",
       "0  foo           4\n",
       "1  bar           5"
      ]
     },
     "execution_count": 1184,
     "metadata": {},
     "output_type": "execute_result"
    }
   ],
   "source": [
    "dfRight2 = pd.DataFrame({'KEY': ['foo', 'bar'], 'RightValue': [4, 5]})\n",
    "dfRight2"
   ]
  },
  {
   "cell_type": "code",
   "execution_count": 1185,
   "metadata": {},
   "outputs": [
    {
     "data": {
      "text/html": [
       "<div>\n",
       "<style scoped>\n",
       "    .dataframe tbody tr th:only-of-type {\n",
       "        vertical-align: middle;\n",
       "    }\n",
       "\n",
       "    .dataframe tbody tr th {\n",
       "        vertical-align: top;\n",
       "    }\n",
       "\n",
       "    .dataframe thead th {\n",
       "        text-align: right;\n",
       "    }\n",
       "</style>\n",
       "<table border=\"1\" class=\"dataframe\">\n",
       "  <thead>\n",
       "    <tr style=\"text-align: right;\">\n",
       "      <th></th>\n",
       "      <th>KEY</th>\n",
       "      <th>LeftValue</th>\n",
       "      <th>RightValue</th>\n",
       "    </tr>\n",
       "  </thead>\n",
       "  <tbody>\n",
       "    <tr>\n",
       "      <td>0</td>\n",
       "      <td>foo</td>\n",
       "      <td>1</td>\n",
       "      <td>4</td>\n",
       "    </tr>\n",
       "    <tr>\n",
       "      <td>1</td>\n",
       "      <td>bar</td>\n",
       "      <td>2</td>\n",
       "      <td>5</td>\n",
       "    </tr>\n",
       "  </tbody>\n",
       "</table>\n",
       "</div>"
      ],
      "text/plain": [
       "   KEY  LeftValue  RightValue\n",
       "0  foo          1           4\n",
       "1  bar          2           5"
      ]
     },
     "execution_count": 1185,
     "metadata": {},
     "output_type": "execute_result"
    }
   ],
   "source": [
    "pd.merge(dfLeft2, dfRight2, on='KEY')"
   ]
  },
  {
   "cell_type": "markdown",
   "metadata": {},
   "source": [
    "### Missing Data\n",
    "\n",
    "pandas primarily uses the value `np.nan` to represent missing data.\n",
    "These values are by default not included in computations.\n",
    "\n",
    "pandas facilitates checking for missing values function `.isnull()` and `.notnull()`\n",
    "Both functions assist checking whether a value is NaN or not.\n",
    "These functions can be used across both pandas DataFrames and Series.\n",
    "\n",
    "\n",
    "#### Reindexing\n",
    "\n",
    "Reindexing allows for the changing, adding and deleting of the Index on a specified axis.\n",
    "Such as placing `NA` or `NaN` (Not a Number) in locations having no value in the previous index.\n",
    "\n",
    "By default, a new DataFrame object is produced unless the new index is equivalent to the current one and the parameter `copy=False` is set. It is best practice to return a copy of the original DataFrame data.\n",
    "\n",
    "Some frequently used _**Reindex function**_ parameters include:\n",
    "\n",
    "- `labels` : array-like, optional. New labels/index to conform the axis specified by `axis`\n",
    "\n",
    "- `index` and `columns` : array-like, optional. New labels/index to conform to, should be specified using keywords. Preferably an Index object to avoid duplicating data\n",
    "\n",
    "- `axis` : Integer or String, optional. Axis to target. Can be either the axis Label (‘index’, ‘columns’) or Position (0, 1).\n",
    "\n",
    "- `method` : {None, ‘backfill’/’bfill’, ‘pad’/’ffill’, ‘nearest’}. Method to use for filling holes in reindexed DataFrame. Please note that this is only applicable to DataFrames/Series with a monotonically increasing/decreasing index.\n",
    "        None (default): don’t fill gaps\n",
    "        pad / ffill: propagate last valid observation forward to next valid\n",
    "        backfill / bfill: use next valid observation to fill gap\n",
    "        nearest: use nearest valid observations to fill gap\n",
    "\n",
    "- `copy` : Boolean, default is True. Returns a new object, even if the passed indexes are the same.\n",
    "\n",
    "- `level` : Position Integer or Label. Broadcast across a level, matching Index values on the passed MultiIndex level.\n",
    "\n",
    "- `fill_value` : scalar, default is np.NaN. Value to use for missing values. Defaults to NaN, but can be any compatible value.\n",
    "\n",
    "- `limit` : int, default is None. Maximum number of consecutive elements to forward or backward fill.\n",
    "\n",
    "\n",
    "_**See example below:**_\n"
   ]
  },
  {
   "cell_type": "code",
   "execution_count": 1186,
   "metadata": {},
   "outputs": [
    {
     "data": {
      "text/html": [
       "<div>\n",
       "<style scoped>\n",
       "    .dataframe tbody tr th:only-of-type {\n",
       "        vertical-align: middle;\n",
       "    }\n",
       "\n",
       "    .dataframe tbody tr th {\n",
       "        vertical-align: top;\n",
       "    }\n",
       "\n",
       "    .dataframe thead th {\n",
       "        text-align: right;\n",
       "    }\n",
       "</style>\n",
       "<table border=\"1\" class=\"dataframe\">\n",
       "  <thead>\n",
       "    <tr style=\"text-align: right;\">\n",
       "      <th></th>\n",
       "      <th>A</th>\n",
       "      <th>B</th>\n",
       "      <th>C</th>\n",
       "      <th>D</th>\n",
       "      <th>E</th>\n",
       "    </tr>\n",
       "  </thead>\n",
       "  <tbody>\n",
       "    <tr>\n",
       "      <td>2019-01-01</td>\n",
       "      <td>-0.018862</td>\n",
       "      <td>0.506884</td>\n",
       "      <td>0.002931</td>\n",
       "      <td>-0.134582</td>\n",
       "      <td>NaN</td>\n",
       "    </tr>\n",
       "    <tr>\n",
       "      <td>2019-01-02</td>\n",
       "      <td>0.160282</td>\n",
       "      <td>1.263459</td>\n",
       "      <td>-0.304879</td>\n",
       "      <td>0.063906</td>\n",
       "      <td>NaN</td>\n",
       "    </tr>\n",
       "    <tr>\n",
       "      <td>2019-01-03</td>\n",
       "      <td>-0.489581</td>\n",
       "      <td>-0.140495</td>\n",
       "      <td>-1.804682</td>\n",
       "      <td>-0.830140</td>\n",
       "      <td>NaN</td>\n",
       "    </tr>\n",
       "    <tr>\n",
       "      <td>2019-01-04</td>\n",
       "      <td>0.533439</td>\n",
       "      <td>1.288184</td>\n",
       "      <td>0.830266</td>\n",
       "      <td>0.693305</td>\n",
       "      <td>NaN</td>\n",
       "    </tr>\n",
       "  </tbody>\n",
       "</table>\n",
       "</div>"
      ],
      "text/plain": [
       "                   A         B         C         D   E\n",
       "2019-01-01 -0.018862  0.506884  0.002931 -0.134582 NaN\n",
       "2019-01-02  0.160282  1.263459 -0.304879  0.063906 NaN\n",
       "2019-01-03 -0.489581 -0.140495 -1.804682 -0.830140 NaN\n",
       "2019-01-04  0.533439  1.288184  0.830266  0.693305 NaN"
      ]
     },
     "execution_count": 1186,
     "metadata": {},
     "output_type": "execute_result"
    }
   ],
   "source": [
    "dfData9 = dfData1.reindex(index=dates[0:4], columns=list(dfData1.columns) + ['E'])\n",
    "dfData9"
   ]
  },
  {
   "cell_type": "code",
   "execution_count": 1187,
   "metadata": {},
   "outputs": [
    {
     "data": {
      "text/html": [
       "<div>\n",
       "<style scoped>\n",
       "    .dataframe tbody tr th:only-of-type {\n",
       "        vertical-align: middle;\n",
       "    }\n",
       "\n",
       "    .dataframe tbody tr th {\n",
       "        vertical-align: top;\n",
       "    }\n",
       "\n",
       "    .dataframe thead th {\n",
       "        text-align: right;\n",
       "    }\n",
       "</style>\n",
       "<table border=\"1\" class=\"dataframe\">\n",
       "  <thead>\n",
       "    <tr style=\"text-align: right;\">\n",
       "      <th></th>\n",
       "      <th>A</th>\n",
       "      <th>B</th>\n",
       "      <th>C</th>\n",
       "      <th>D</th>\n",
       "      <th>E</th>\n",
       "    </tr>\n",
       "  </thead>\n",
       "  <tbody>\n",
       "  </tbody>\n",
       "</table>\n",
       "</div>"
      ],
      "text/plain": [
       "Empty DataFrame\n",
       "Columns: [A, B, C, D, E]\n",
       "Index: []"
      ]
     },
     "execution_count": 1187,
     "metadata": {},
     "output_type": "execute_result"
    }
   ],
   "source": [
    "# OPTION: To drop any rows that have missing data\n",
    "\n",
    "dfData9.dropna(how='any')"
   ]
  },
  {
   "cell_type": "code",
   "execution_count": 1188,
   "metadata": {},
   "outputs": [
    {
     "data": {
      "text/html": [
       "<div>\n",
       "<style scoped>\n",
       "    .dataframe tbody tr th:only-of-type {\n",
       "        vertical-align: middle;\n",
       "    }\n",
       "\n",
       "    .dataframe tbody tr th {\n",
       "        vertical-align: top;\n",
       "    }\n",
       "\n",
       "    .dataframe thead th {\n",
       "        text-align: right;\n",
       "    }\n",
       "</style>\n",
       "<table border=\"1\" class=\"dataframe\">\n",
       "  <thead>\n",
       "    <tr style=\"text-align: right;\">\n",
       "      <th></th>\n",
       "      <th>A</th>\n",
       "      <th>B</th>\n",
       "      <th>C</th>\n",
       "      <th>D</th>\n",
       "      <th>E</th>\n",
       "    </tr>\n",
       "  </thead>\n",
       "  <tbody>\n",
       "    <tr>\n",
       "      <td>2019-01-01</td>\n",
       "      <td>-0.018862</td>\n",
       "      <td>0.506884</td>\n",
       "      <td>0.002931</td>\n",
       "      <td>-0.134582</td>\n",
       "      <td>5.0</td>\n",
       "    </tr>\n",
       "    <tr>\n",
       "      <td>2019-01-02</td>\n",
       "      <td>0.160282</td>\n",
       "      <td>1.263459</td>\n",
       "      <td>-0.304879</td>\n",
       "      <td>0.063906</td>\n",
       "      <td>5.0</td>\n",
       "    </tr>\n",
       "    <tr>\n",
       "      <td>2019-01-03</td>\n",
       "      <td>-0.489581</td>\n",
       "      <td>-0.140495</td>\n",
       "      <td>-1.804682</td>\n",
       "      <td>-0.830140</td>\n",
       "      <td>5.0</td>\n",
       "    </tr>\n",
       "    <tr>\n",
       "      <td>2019-01-04</td>\n",
       "      <td>0.533439</td>\n",
       "      <td>1.288184</td>\n",
       "      <td>0.830266</td>\n",
       "      <td>0.693305</td>\n",
       "      <td>5.0</td>\n",
       "    </tr>\n",
       "  </tbody>\n",
       "</table>\n",
       "</div>"
      ],
      "text/plain": [
       "                   A         B         C         D    E\n",
       "2019-01-01 -0.018862  0.506884  0.002931 -0.134582  5.0\n",
       "2019-01-02  0.160282  1.263459 -0.304879  0.063906  5.0\n",
       "2019-01-03 -0.489581 -0.140495 -1.804682 -0.830140  5.0\n",
       "2019-01-04  0.533439  1.288184  0.830266  0.693305  5.0"
      ]
     },
     "execution_count": 1188,
     "metadata": {},
     "output_type": "execute_result"
    }
   ],
   "source": [
    "# OPTION: Filling the missing data with a value\n",
    "\n",
    "dfData9.fillna(value=5)"
   ]
  },
  {
   "cell_type": "code",
   "execution_count": 1189,
   "metadata": {},
   "outputs": [
    {
     "data": {
      "text/html": [
       "<div>\n",
       "<style scoped>\n",
       "    .dataframe tbody tr th:only-of-type {\n",
       "        vertical-align: middle;\n",
       "    }\n",
       "\n",
       "    .dataframe tbody tr th {\n",
       "        vertical-align: top;\n",
       "    }\n",
       "\n",
       "    .dataframe thead th {\n",
       "        text-align: right;\n",
       "    }\n",
       "</style>\n",
       "<table border=\"1\" class=\"dataframe\">\n",
       "  <thead>\n",
       "    <tr style=\"text-align: right;\">\n",
       "      <th></th>\n",
       "      <th>A</th>\n",
       "      <th>B</th>\n",
       "      <th>C</th>\n",
       "      <th>D</th>\n",
       "      <th>E</th>\n",
       "    </tr>\n",
       "  </thead>\n",
       "  <tbody>\n",
       "    <tr>\n",
       "      <td>2019-01-01</td>\n",
       "      <td>False</td>\n",
       "      <td>False</td>\n",
       "      <td>False</td>\n",
       "      <td>False</td>\n",
       "      <td>True</td>\n",
       "    </tr>\n",
       "    <tr>\n",
       "      <td>2019-01-02</td>\n",
       "      <td>False</td>\n",
       "      <td>False</td>\n",
       "      <td>False</td>\n",
       "      <td>False</td>\n",
       "      <td>True</td>\n",
       "    </tr>\n",
       "    <tr>\n",
       "      <td>2019-01-03</td>\n",
       "      <td>False</td>\n",
       "      <td>False</td>\n",
       "      <td>False</td>\n",
       "      <td>False</td>\n",
       "      <td>True</td>\n",
       "    </tr>\n",
       "    <tr>\n",
       "      <td>2019-01-04</td>\n",
       "      <td>False</td>\n",
       "      <td>False</td>\n",
       "      <td>False</td>\n",
       "      <td>False</td>\n",
       "      <td>True</td>\n",
       "    </tr>\n",
       "  </tbody>\n",
       "</table>\n",
       "</div>"
      ],
      "text/plain": [
       "                A      B      C      D     E\n",
       "2019-01-01  False  False  False  False  True\n",
       "2019-01-02  False  False  False  False  True\n",
       "2019-01-03  False  False  False  False  True\n",
       "2019-01-04  False  False  False  False  True"
      ]
     },
     "execution_count": 1189,
     "metadata": {},
     "output_type": "execute_result"
    }
   ],
   "source": [
    "# OPTION: To get the Boolean mask where values are NaN (True)\n",
    "\n",
    "pd.isna(dfData9)"
   ]
  },
  {
   "cell_type": "markdown",
   "metadata": {},
   "source": [
    "#### Substituting\n",
    "\n",
    "pandas also supports the option to substitute a fill value for missing data in one of the inputs bu using `.sub()`\n",
    "The reverse version is `.rsub()`\n",
    "\n",
    "Some frequently used _**Substitute function**_ parameters include:\n",
    "- `other` : scalar, sequence, Series, or DataFrame. Any single or multiple element data structure, or list-like object.\n",
    "\n",
    "- `axis` : {0 or ‘index’, 1 or ‘columns’}. Whether to compare by the index (0 or ‘index’) or columns (1 or ‘columns’). For Series input, axis to match Series index on.\n",
    "\n",
    "- `level` : Position or Label. Broadcast across a level, matching Index values on the passed MultiIndex level.\n",
    "\n",
    "- `fill_value` : float or None, default is None. Fill existing missing (NaN) values, and any new element needed for successful DataFrame alignment, with this value before computation. If data in both corresponding DataFrame locations is missing the result will be missing.\n",
    "\n",
    "\n",
    "_**See example below:**_\n"
   ]
  },
  {
   "cell_type": "code",
   "execution_count": 1190,
   "metadata": {},
   "outputs": [
    {
     "data": {
      "text/html": [
       "<div>\n",
       "<style scoped>\n",
       "    .dataframe tbody tr th:only-of-type {\n",
       "        vertical-align: middle;\n",
       "    }\n",
       "\n",
       "    .dataframe tbody tr th {\n",
       "        vertical-align: top;\n",
       "    }\n",
       "\n",
       "    .dataframe thead th {\n",
       "        text-align: right;\n",
       "    }\n",
       "</style>\n",
       "<table border=\"1\" class=\"dataframe\">\n",
       "  <thead>\n",
       "    <tr style=\"text-align: right;\">\n",
       "      <th></th>\n",
       "      <th>A</th>\n",
       "      <th>B</th>\n",
       "      <th>C</th>\n",
       "      <th>D</th>\n",
       "    </tr>\n",
       "  </thead>\n",
       "  <tbody>\n",
       "    <tr>\n",
       "      <td>2019-01-01</td>\n",
       "      <td>-0.018862</td>\n",
       "      <td>0.506884</td>\n",
       "      <td>0.002931</td>\n",
       "      <td>-0.134582</td>\n",
       "    </tr>\n",
       "    <tr>\n",
       "      <td>2019-01-02</td>\n",
       "      <td>0.160282</td>\n",
       "      <td>1.263459</td>\n",
       "      <td>-0.304879</td>\n",
       "      <td>0.063906</td>\n",
       "    </tr>\n",
       "    <tr>\n",
       "      <td>2019-01-03</td>\n",
       "      <td>-0.489581</td>\n",
       "      <td>-0.140495</td>\n",
       "      <td>-1.804682</td>\n",
       "      <td>-0.830140</td>\n",
       "    </tr>\n",
       "    <tr>\n",
       "      <td>2019-01-04</td>\n",
       "      <td>0.533439</td>\n",
       "      <td>1.288184</td>\n",
       "      <td>0.830266</td>\n",
       "      <td>0.693305</td>\n",
       "    </tr>\n",
       "    <tr>\n",
       "      <td>2019-01-05</td>\n",
       "      <td>0.392912</td>\n",
       "      <td>-0.643530</td>\n",
       "      <td>1.619957</td>\n",
       "      <td>0.316364</td>\n",
       "    </tr>\n",
       "    <tr>\n",
       "      <td>2019-01-06</td>\n",
       "      <td>0.297479</td>\n",
       "      <td>-0.755912</td>\n",
       "      <td>2.391173</td>\n",
       "      <td>2.099550</td>\n",
       "    </tr>\n",
       "  </tbody>\n",
       "</table>\n",
       "</div>"
      ],
      "text/plain": [
       "                   A         B         C         D\n",
       "2019-01-01 -0.018862  0.506884  0.002931 -0.134582\n",
       "2019-01-02  0.160282  1.263459 -0.304879  0.063906\n",
       "2019-01-03 -0.489581 -0.140495 -1.804682 -0.830140\n",
       "2019-01-04  0.533439  1.288184  0.830266  0.693305\n",
       "2019-01-05  0.392912 -0.643530  1.619957  0.316364\n",
       "2019-01-06  0.297479 -0.755912  2.391173  2.099550"
      ]
     },
     "execution_count": 1190,
     "metadata": {},
     "output_type": "execute_result"
    }
   ],
   "source": [
    "# In this example: The DataFrame dfData1 is copied\n",
    "\n",
    "dfData10=dfData1.copy()\n",
    "dfData10"
   ]
  },
  {
   "cell_type": "code",
   "execution_count": 1191,
   "metadata": {},
   "outputs": [
    {
     "data": {
      "text/plain": [
       "2019-01-01    NaN\n",
       "2019-01-02    NaN\n",
       "2019-01-03    1.0\n",
       "2019-01-04    3.0\n",
       "2019-01-05    5.0\n",
       "2019-01-06    NaN\n",
       "Freq: D, dtype: float64"
      ]
     },
     "execution_count": 1191,
     "metadata": {},
     "output_type": "execute_result"
    }
   ],
   "source": [
    "sFourth = pd.Series([1,3,5,np.nan,6,8], index=dates).shift(2)\n",
    "sFourth"
   ]
  },
  {
   "cell_type": "code",
   "execution_count": 1192,
   "metadata": {},
   "outputs": [
    {
     "data": {
      "text/html": [
       "<div>\n",
       "<style scoped>\n",
       "    .dataframe tbody tr th:only-of-type {\n",
       "        vertical-align: middle;\n",
       "    }\n",
       "\n",
       "    .dataframe tbody tr th {\n",
       "        vertical-align: top;\n",
       "    }\n",
       "\n",
       "    .dataframe thead th {\n",
       "        text-align: right;\n",
       "    }\n",
       "</style>\n",
       "<table border=\"1\" class=\"dataframe\">\n",
       "  <thead>\n",
       "    <tr style=\"text-align: right;\">\n",
       "      <th></th>\n",
       "      <th>A</th>\n",
       "      <th>B</th>\n",
       "      <th>C</th>\n",
       "      <th>D</th>\n",
       "    </tr>\n",
       "  </thead>\n",
       "  <tbody>\n",
       "    <tr>\n",
       "      <td>2019-01-01</td>\n",
       "      <td>NaN</td>\n",
       "      <td>NaN</td>\n",
       "      <td>NaN</td>\n",
       "      <td>NaN</td>\n",
       "    </tr>\n",
       "    <tr>\n",
       "      <td>2019-01-02</td>\n",
       "      <td>NaN</td>\n",
       "      <td>NaN</td>\n",
       "      <td>NaN</td>\n",
       "      <td>NaN</td>\n",
       "    </tr>\n",
       "    <tr>\n",
       "      <td>2019-01-03</td>\n",
       "      <td>-1.489581</td>\n",
       "      <td>-1.140495</td>\n",
       "      <td>-2.804682</td>\n",
       "      <td>-1.830140</td>\n",
       "    </tr>\n",
       "    <tr>\n",
       "      <td>2019-01-04</td>\n",
       "      <td>-2.466561</td>\n",
       "      <td>-1.711816</td>\n",
       "      <td>-2.169734</td>\n",
       "      <td>-2.306695</td>\n",
       "    </tr>\n",
       "    <tr>\n",
       "      <td>2019-01-05</td>\n",
       "      <td>-4.607088</td>\n",
       "      <td>-5.643530</td>\n",
       "      <td>-3.380043</td>\n",
       "      <td>-4.683636</td>\n",
       "    </tr>\n",
       "    <tr>\n",
       "      <td>2019-01-06</td>\n",
       "      <td>NaN</td>\n",
       "      <td>NaN</td>\n",
       "      <td>NaN</td>\n",
       "      <td>NaN</td>\n",
       "    </tr>\n",
       "  </tbody>\n",
       "</table>\n",
       "</div>"
      ],
      "text/plain": [
       "                   A         B         C         D\n",
       "2019-01-01       NaN       NaN       NaN       NaN\n",
       "2019-01-02       NaN       NaN       NaN       NaN\n",
       "2019-01-03 -1.489581 -1.140495 -2.804682 -1.830140\n",
       "2019-01-04 -2.466561 -1.711816 -2.169734 -2.306695\n",
       "2019-01-05 -4.607088 -5.643530 -3.380043 -4.683636\n",
       "2019-01-06       NaN       NaN       NaN       NaN"
      ]
     },
     "execution_count": 1192,
     "metadata": {},
     "output_type": "execute_result"
    }
   ],
   "source": [
    "dfData10.sub(sFourth, axis='index')"
   ]
  },
  {
   "cell_type": "markdown",
   "metadata": {},
   "source": [
    "#### Applying\n",
    "\n",
    "pandas supports the Python style of programming referred to as Functional Programming - where it is possible to pass functions to other functions. for pandas, the Apply function is used.\n",
    "\n",
    "This may be helpful when replacing missing data values, as it is possible to apply calculated values over a DataFrame and/or a Series.\n",
    "\n",
    "Some frequently used _**Apply function**_ parameters include:\n",
    "\n",
    "- `axis` : {0 or ‘index’, 1 or ‘columns’}, default is 0. The index or the name of the axis. 0 is equivalent to None or ‘index’.\n",
    "\n",
    "- `skipna` : Boolean, default is True. Exclude NA/null values. If an entire row/column is NA, the result will be NA.\n",
    "\n",
    "\n",
    "_**See example below:**_\n"
   ]
  },
  {
   "cell_type": "code",
   "execution_count": 1193,
   "metadata": {},
   "outputs": [
    {
     "data": {
      "text/html": [
       "<div>\n",
       "<style scoped>\n",
       "    .dataframe tbody tr th:only-of-type {\n",
       "        vertical-align: middle;\n",
       "    }\n",
       "\n",
       "    .dataframe tbody tr th {\n",
       "        vertical-align: top;\n",
       "    }\n",
       "\n",
       "    .dataframe thead th {\n",
       "        text-align: right;\n",
       "    }\n",
       "</style>\n",
       "<table border=\"1\" class=\"dataframe\">\n",
       "  <thead>\n",
       "    <tr style=\"text-align: right;\">\n",
       "      <th></th>\n",
       "      <th>A</th>\n",
       "      <th>B</th>\n",
       "      <th>C</th>\n",
       "      <th>D</th>\n",
       "    </tr>\n",
       "  </thead>\n",
       "  <tbody>\n",
       "    <tr>\n",
       "      <td>2019-01-01</td>\n",
       "      <td>-0.018862</td>\n",
       "      <td>0.506884</td>\n",
       "      <td>0.002931</td>\n",
       "      <td>-0.134582</td>\n",
       "    </tr>\n",
       "    <tr>\n",
       "      <td>2019-01-02</td>\n",
       "      <td>0.141419</td>\n",
       "      <td>1.770343</td>\n",
       "      <td>-0.301948</td>\n",
       "      <td>-0.070676</td>\n",
       "    </tr>\n",
       "    <tr>\n",
       "      <td>2019-01-03</td>\n",
       "      <td>-0.348162</td>\n",
       "      <td>1.629847</td>\n",
       "      <td>-2.106629</td>\n",
       "      <td>-0.900816</td>\n",
       "    </tr>\n",
       "    <tr>\n",
       "      <td>2019-01-04</td>\n",
       "      <td>0.185277</td>\n",
       "      <td>2.918032</td>\n",
       "      <td>-1.276363</td>\n",
       "      <td>-0.207511</td>\n",
       "    </tr>\n",
       "    <tr>\n",
       "      <td>2019-01-05</td>\n",
       "      <td>0.578189</td>\n",
       "      <td>2.274501</td>\n",
       "      <td>0.343594</td>\n",
       "      <td>0.108852</td>\n",
       "    </tr>\n",
       "    <tr>\n",
       "      <td>2019-01-06</td>\n",
       "      <td>0.875669</td>\n",
       "      <td>1.518589</td>\n",
       "      <td>2.734767</td>\n",
       "      <td>2.208402</td>\n",
       "    </tr>\n",
       "  </tbody>\n",
       "</table>\n",
       "</div>"
      ],
      "text/plain": [
       "                   A         B         C         D\n",
       "2019-01-01 -0.018862  0.506884  0.002931 -0.134582\n",
       "2019-01-02  0.141419  1.770343 -0.301948 -0.070676\n",
       "2019-01-03 -0.348162  1.629847 -2.106629 -0.900816\n",
       "2019-01-04  0.185277  2.918032 -1.276363 -0.207511\n",
       "2019-01-05  0.578189  2.274501  0.343594  0.108852\n",
       "2019-01-06  0.875669  1.518589  2.734767  2.208402"
      ]
     },
     "execution_count": 1193,
     "metadata": {},
     "output_type": "execute_result"
    }
   ],
   "source": [
    "# For example: by applying the `cumsum` function will result in a DataFrame or Series of the same size\n",
    "# containing the cumulative sum.\n",
    "\n",
    "dfData1.apply(np.cumsum)"
   ]
  },
  {
   "cell_type": "code",
   "execution_count": 1194,
   "metadata": {},
   "outputs": [
    {
     "data": {
      "text/plain": [
       "A    1.023021\n",
       "B    2.044097\n",
       "C    4.195855\n",
       "D    2.929690\n",
       "dtype: float64"
      ]
     },
     "execution_count": 1194,
     "metadata": {},
     "output_type": "execute_result"
    }
   ],
   "source": [
    "# For example: making use of the anonymous 'lambda' function\n",
    "\n",
    "dfData1.apply(lambda x: x.max() - x.min())"
   ]
  },
  {
   "cell_type": "markdown",
   "metadata": {},
   "source": [
    "### String Methods\n",
    "\n",
    "A strength of Python lies in its handling and manipulating of string data with relative ease.\n",
    "From this base, pandas provides a comprehensive set of string operations that are essential tools in cleaning up data sets.\n",
    "\n",
    "Here is a list of pandas String methods that mirror Python string methods:\n",
    "- len()\n",
    "- lower()\n",
    "- translate()\n",
    "- islower()\n",
    "- ljust()\n",
    "- upper()\n",
    "- startswith()\n",
    "- isupper()\n",
    "- rjust()\n",
    "- find()\n",
    "- endswith()\n",
    "- isnumeric()\n",
    "- center()\n",
    "- rfind()\n",
    "- isalnum()\n",
    "- isdecimal()\n",
    "- zfill()\n",
    "- index()\n",
    "- isalpha()\n",
    "- split()\n",
    "- strip()\n",
    "- rindex()\n",
    "- isdigit()\n",
    "- rsplit()\n",
    "- rstrip()\n",
    "- capitalize()\n",
    "- isspace()\n",
    "- partition()\n",
    "- lstrip()\n",
    "- swapcase()\n",
    "- istitle()\n",
    "- rpartition()\n",
    "\n",
    "\n",
    "_**See examples below:**_\n"
   ]
  },
  {
   "cell_type": "code",
   "execution_count": 1195,
   "metadata": {},
   "outputs": [
    {
     "data": {
      "text/plain": [
       "0       a\n",
       "1       b\n",
       "2       c\n",
       "3    aaba\n",
       "4    baca\n",
       "5     NaN\n",
       "6    caba\n",
       "7     dog\n",
       "8     cat\n",
       "dtype: object"
      ]
     },
     "execution_count": 1195,
     "metadata": {},
     "output_type": "execute_result"
    }
   ],
   "source": [
    "sFifth = pd.Series(['A', 'B', 'C', 'Aaba', 'Baca', np.nan, 'CABA', 'dog', 'cat'])\n",
    "sFifth.str.lower()\n"
   ]
  },
  {
   "cell_type": "code",
   "execution_count": 1196,
   "metadata": {},
   "outputs": [
    {
     "data": {
      "text/plain": [
       "0       a\n",
       "1       b\n",
       "2       c\n",
       "3    aABA\n",
       "4    bACA\n",
       "5     NaN\n",
       "6    caba\n",
       "7     DOG\n",
       "8     CAT\n",
       "dtype: object"
      ]
     },
     "execution_count": 1196,
     "metadata": {},
     "output_type": "execute_result"
    }
   ],
   "source": [
    "sFifth.str.swapcase()"
   ]
  },
  {
   "cell_type": "code",
   "execution_count": 1197,
   "metadata": {},
   "outputs": [
    {
     "data": {
      "text/plain": [
       "0    True\n",
       "1    True\n",
       "2    True\n",
       "3    True\n",
       "4    True\n",
       "5     NaN\n",
       "6    True\n",
       "7    True\n",
       "8    True\n",
       "dtype: object"
      ]
     },
     "execution_count": 1197,
     "metadata": {},
     "output_type": "execute_result"
    }
   ],
   "source": [
    "sFifth.str.isalpha()"
   ]
  },
  {
   "cell_type": "markdown",
   "metadata": {},
   "source": [
    "### Summarising\n",
    "\n",
    "#### Grouping\n",
    "\n",
    "pandas `.groupby()` function can be used to group large amounts of data and compute operations on the resulting groups.\n",
    "\n",
    "Grouping is a process involving one or more of the following steps:\n",
    "\n",
    " - Splitting the data into groups based on some criteria\n",
    " - Applying a function to each group independently\n",
    " - Combining the results into a data structure\n",
    "\n",
    "The most commonly used parameters include:\n",
    "- `by` : mapping, function, label, or list of labels. Used to determine the values to be grouped.\n",
    "\n",
    "- `axis` : {0 or ‘index’, 1 or ‘columns’}, default is 0. Split along rows (0) or columns (1).\n",
    "\n",
    "- `level` : int, level name, or sequence of such, default is None. If the axis is a MultiIndex (hierarchical), group by a particular level or levels.\n",
    "\n",
    "- `as_index` : Boolean, default is True. For aggregated output, return object with group labels as the index. Only relevant for DataFrame input. as_index=False is effectively “SQL-style” grouped output.\n",
    "\n",
    "- `sort` : Boolean, default is True. Sort on the group keys. Get better performance by turning this off. Note that the order of rows within each group are preserved.\n",
    "\n",
    "\n",
    "_**See examples below:**_\n"
   ]
  },
  {
   "cell_type": "code",
   "execution_count": 1198,
   "metadata": {},
   "outputs": [
    {
     "data": {
      "text/html": [
       "<div>\n",
       "<style scoped>\n",
       "    .dataframe tbody tr th:only-of-type {\n",
       "        vertical-align: middle;\n",
       "    }\n",
       "\n",
       "    .dataframe tbody tr th {\n",
       "        vertical-align: top;\n",
       "    }\n",
       "\n",
       "    .dataframe thead th {\n",
       "        text-align: right;\n",
       "    }\n",
       "</style>\n",
       "<table border=\"1\" class=\"dataframe\">\n",
       "  <thead>\n",
       "    <tr style=\"text-align: right;\">\n",
       "      <th></th>\n",
       "      <th>A</th>\n",
       "      <th>B</th>\n",
       "      <th>C</th>\n",
       "      <th>D</th>\n",
       "    </tr>\n",
       "  </thead>\n",
       "  <tbody>\n",
       "    <tr>\n",
       "      <td>0</td>\n",
       "      <td>foo</td>\n",
       "      <td>apple</td>\n",
       "      <td>0.043489</td>\n",
       "      <td>0.006616</td>\n",
       "    </tr>\n",
       "    <tr>\n",
       "      <td>1</td>\n",
       "      <td>bar</td>\n",
       "      <td>applee</td>\n",
       "      <td>-1.425470</td>\n",
       "      <td>1.232675</td>\n",
       "    </tr>\n",
       "    <tr>\n",
       "      <td>2</td>\n",
       "      <td>foo</td>\n",
       "      <td>orange</td>\n",
       "      <td>0.861520</td>\n",
       "      <td>0.304272</td>\n",
       "    </tr>\n",
       "    <tr>\n",
       "      <td>3</td>\n",
       "      <td>bar</td>\n",
       "      <td>peach</td>\n",
       "      <td>-0.737812</td>\n",
       "      <td>0.631372</td>\n",
       "    </tr>\n",
       "    <tr>\n",
       "      <td>4</td>\n",
       "      <td>foo</td>\n",
       "      <td>orange</td>\n",
       "      <td>0.423173</td>\n",
       "      <td>-0.557088</td>\n",
       "    </tr>\n",
       "    <tr>\n",
       "      <td>5</td>\n",
       "      <td>bar</td>\n",
       "      <td>orange</td>\n",
       "      <td>-0.430672</td>\n",
       "      <td>-1.164211</td>\n",
       "    </tr>\n",
       "    <tr>\n",
       "      <td>6</td>\n",
       "      <td>foo</td>\n",
       "      <td>apple</td>\n",
       "      <td>-0.166586</td>\n",
       "      <td>-1.445216</td>\n",
       "    </tr>\n",
       "    <tr>\n",
       "      <td>7</td>\n",
       "      <td>foo</td>\n",
       "      <td>peach</td>\n",
       "      <td>-1.640416</td>\n",
       "      <td>-0.027542</td>\n",
       "    </tr>\n",
       "  </tbody>\n",
       "</table>\n",
       "</div>"
      ],
      "text/plain": [
       "     A       B         C         D\n",
       "0  foo   apple  0.043489  0.006616\n",
       "1  bar  applee -1.425470  1.232675\n",
       "2  foo  orange  0.861520  0.304272\n",
       "3  bar   peach -0.737812  0.631372\n",
       "4  foo  orange  0.423173 -0.557088\n",
       "5  bar  orange -0.430672 -1.164211\n",
       "6  foo   apple -0.166586 -1.445216\n",
       "7  foo   peach -1.640416 -0.027542"
      ]
     },
     "execution_count": 1198,
     "metadata": {},
     "output_type": "execute_result"
    }
   ],
   "source": [
    "# A new DataFrame dfData11 is created\n",
    "\n",
    "dfData11 = pd.DataFrame({'A' : ['foo', 'bar', 'foo', 'bar',\n",
    "                           'foo', 'bar', 'foo', 'foo'],\n",
    "                    'B' : ['apple', 'applee', 'orange', 'peach',\n",
    "                           'orange', 'orange', 'apple', 'peach'],\n",
    "                    'C' : np.random.randn(8),\n",
    "                    'D' : np.random.randn(8)})\n",
    "dfData11"
   ]
  },
  {
   "cell_type": "code",
   "execution_count": 1199,
   "metadata": {},
   "outputs": [
    {
     "data": {
      "text/html": [
       "<div>\n",
       "<style scoped>\n",
       "    .dataframe tbody tr th:only-of-type {\n",
       "        vertical-align: middle;\n",
       "    }\n",
       "\n",
       "    .dataframe tbody tr th {\n",
       "        vertical-align: top;\n",
       "    }\n",
       "\n",
       "    .dataframe thead th {\n",
       "        text-align: right;\n",
       "    }\n",
       "</style>\n",
       "<table border=\"1\" class=\"dataframe\">\n",
       "  <thead>\n",
       "    <tr style=\"text-align: right;\">\n",
       "      <th></th>\n",
       "      <th>C</th>\n",
       "      <th>D</th>\n",
       "    </tr>\n",
       "    <tr>\n",
       "      <th>A</th>\n",
       "      <th></th>\n",
       "      <th></th>\n",
       "    </tr>\n",
       "  </thead>\n",
       "  <tbody>\n",
       "    <tr>\n",
       "      <td>bar</td>\n",
       "      <td>-2.593953</td>\n",
       "      <td>0.699836</td>\n",
       "    </tr>\n",
       "    <tr>\n",
       "      <td>foo</td>\n",
       "      <td>-0.478820</td>\n",
       "      <td>-1.718958</td>\n",
       "    </tr>\n",
       "  </tbody>\n",
       "</table>\n",
       "</div>"
      ],
      "text/plain": [
       "            C         D\n",
       "A                      \n",
       "bar -2.593953  0.699836\n",
       "foo -0.478820 -1.718958"
      ]
     },
     "execution_count": 1199,
     "metadata": {},
     "output_type": "execute_result"
    }
   ],
   "source": [
    "# Grouping by values in Column labelled A, and then applying the sum() function to the resulting groups\n",
    "\n",
    "dfData11.groupby('A').sum()"
   ]
  },
  {
   "cell_type": "code",
   "execution_count": 1200,
   "metadata": {},
   "outputs": [
    {
     "data": {
      "text/html": [
       "<div>\n",
       "<style scoped>\n",
       "    .dataframe tbody tr th:only-of-type {\n",
       "        vertical-align: middle;\n",
       "    }\n",
       "\n",
       "    .dataframe tbody tr th {\n",
       "        vertical-align: top;\n",
       "    }\n",
       "\n",
       "    .dataframe thead th {\n",
       "        text-align: right;\n",
       "    }\n",
       "</style>\n",
       "<table border=\"1\" class=\"dataframe\">\n",
       "  <thead>\n",
       "    <tr style=\"text-align: right;\">\n",
       "      <th></th>\n",
       "      <th></th>\n",
       "      <th>C</th>\n",
       "      <th>D</th>\n",
       "    </tr>\n",
       "    <tr>\n",
       "      <th>A</th>\n",
       "      <th>B</th>\n",
       "      <th></th>\n",
       "      <th></th>\n",
       "    </tr>\n",
       "  </thead>\n",
       "  <tbody>\n",
       "    <tr>\n",
       "      <td rowspan=\"3\" valign=\"top\">bar</td>\n",
       "      <td>applee</td>\n",
       "      <td>-1.425470</td>\n",
       "      <td>1.232675</td>\n",
       "    </tr>\n",
       "    <tr>\n",
       "      <td>orange</td>\n",
       "      <td>-0.430672</td>\n",
       "      <td>-1.164211</td>\n",
       "    </tr>\n",
       "    <tr>\n",
       "      <td>peach</td>\n",
       "      <td>-0.737812</td>\n",
       "      <td>0.631372</td>\n",
       "    </tr>\n",
       "    <tr>\n",
       "      <td rowspan=\"3\" valign=\"top\">foo</td>\n",
       "      <td>apple</td>\n",
       "      <td>-0.123097</td>\n",
       "      <td>-1.438600</td>\n",
       "    </tr>\n",
       "    <tr>\n",
       "      <td>orange</td>\n",
       "      <td>1.284693</td>\n",
       "      <td>-0.252816</td>\n",
       "    </tr>\n",
       "    <tr>\n",
       "      <td>peach</td>\n",
       "      <td>-1.640416</td>\n",
       "      <td>-0.027542</td>\n",
       "    </tr>\n",
       "  </tbody>\n",
       "</table>\n",
       "</div>"
      ],
      "text/plain": [
       "                   C         D\n",
       "A   B                         \n",
       "bar applee -1.425470  1.232675\n",
       "    orange -0.430672 -1.164211\n",
       "    peach  -0.737812  0.631372\n",
       "foo apple  -0.123097 -1.438600\n",
       "    orange  1.284693 -0.252816\n",
       "    peach  -1.640416 -0.027542"
      ]
     },
     "execution_count": 1200,
     "metadata": {},
     "output_type": "execute_result"
    }
   ],
   "source": [
    "# Grouping by multiple columns forms a hierarchical index, and again applying the sum function is possible\n",
    "\n",
    "dfData11.groupby(['A','B']).sum()"
   ]
  },
  {
   "cell_type": "markdown",
   "metadata": {},
   "source": [
    "#### Stacking\n",
    "\n",
    "pandas `.stack()` function facilitates reshaping of the prescribed level(s) from columns to Index.\n",
    "\n",
    "The result is a reshaped DataFrame or Series having a multi-level index with one or more new inner-most levels when compared to the original DataFrame. The new inner-most levels are created by pivoting the columns of the current dataframe as follows:\n",
    "- if the columns have a single level, the output is a Series;\n",
    "- if the columns have multiple levels, the new index level(s) is taken from the prescribed level(s) and the output is a DataFrame. The new index levels are sorted by default.\n",
    "\n",
    "The most commonly used parameters include:\n",
    "- `level` : Integer, String, list, default is -1. Level(s) to stack from the column axis onto the index axis, defined as one index or label, or a list of indices or labels.\n",
    "\n",
    "- `dropna` : Boolean, default is True. Instruction on whether to drop rows in the resulting Frame/Series with missing values. Stacking a column level onto the Index axis can create combinations of Index and column values that are missing from the original dataframe.\n",
    "\n",
    "\n",
    "_**See examples below:**_\n"
   ]
  },
  {
   "cell_type": "code",
   "execution_count": 1201,
   "metadata": {},
   "outputs": [
    {
     "data": {
      "text/html": [
       "<div>\n",
       "<style scoped>\n",
       "    .dataframe tbody tr th:only-of-type {\n",
       "        vertical-align: middle;\n",
       "    }\n",
       "\n",
       "    .dataframe tbody tr th {\n",
       "        vertical-align: top;\n",
       "    }\n",
       "\n",
       "    .dataframe thead th {\n",
       "        text-align: right;\n",
       "    }\n",
       "</style>\n",
       "<table border=\"1\" class=\"dataframe\">\n",
       "  <thead>\n",
       "    <tr style=\"text-align: right;\">\n",
       "      <th></th>\n",
       "      <th></th>\n",
       "      <th>A</th>\n",
       "      <th>B</th>\n",
       "    </tr>\n",
       "    <tr>\n",
       "      <th>first</th>\n",
       "      <th>second</th>\n",
       "      <th></th>\n",
       "      <th></th>\n",
       "    </tr>\n",
       "  </thead>\n",
       "  <tbody>\n",
       "    <tr>\n",
       "      <td rowspan=\"2\" valign=\"top\">bar</td>\n",
       "      <td>one</td>\n",
       "      <td>-1.973913</td>\n",
       "      <td>1.685342</td>\n",
       "    </tr>\n",
       "    <tr>\n",
       "      <td>two</td>\n",
       "      <td>-0.460330</td>\n",
       "      <td>0.461109</td>\n",
       "    </tr>\n",
       "    <tr>\n",
       "      <td rowspan=\"2\" valign=\"top\">baz</td>\n",
       "      <td>one</td>\n",
       "      <td>0.269286</td>\n",
       "      <td>1.712339</td>\n",
       "    </tr>\n",
       "    <tr>\n",
       "      <td>two</td>\n",
       "      <td>0.630084</td>\n",
       "      <td>0.982741</td>\n",
       "    </tr>\n",
       "    <tr>\n",
       "      <td rowspan=\"2\" valign=\"top\">foo</td>\n",
       "      <td>one</td>\n",
       "      <td>-1.057745</td>\n",
       "      <td>1.334691</td>\n",
       "    </tr>\n",
       "    <tr>\n",
       "      <td>two</td>\n",
       "      <td>0.773309</td>\n",
       "      <td>-1.231491</td>\n",
       "    </tr>\n",
       "    <tr>\n",
       "      <td rowspan=\"2\" valign=\"top\">qux</td>\n",
       "      <td>one</td>\n",
       "      <td>0.092514</td>\n",
       "      <td>0.953323</td>\n",
       "    </tr>\n",
       "    <tr>\n",
       "      <td>two</td>\n",
       "      <td>1.562239</td>\n",
       "      <td>-0.438080</td>\n",
       "    </tr>\n",
       "  </tbody>\n",
       "</table>\n",
       "</div>"
      ],
      "text/plain": [
       "                     A         B\n",
       "first second                    \n",
       "bar   one    -1.973913  1.685342\n",
       "      two    -0.460330  0.461109\n",
       "baz   one     0.269286  1.712339\n",
       "      two     0.630084  0.982741\n",
       "foo   one    -1.057745  1.334691\n",
       "      two     0.773309 -1.231491\n",
       "qux   one     0.092514  0.953323\n",
       "      two     1.562239 -0.438080"
      ]
     },
     "execution_count": 1201,
     "metadata": {},
     "output_type": "execute_result"
    }
   ],
   "source": [
    "dfData12 = list(zip(*[['bar', 'bar', 'baz', 'baz',\n",
    "                      'foo', 'foo', 'qux', 'qux'],\n",
    "                     ['one', 'two', 'one', 'two',\n",
    "                      'one', 'two', 'one', 'two']]))\n",
    "index = pd.MultiIndex.from_tuples(dfData12, names=['first', 'second'])\n",
    "dfData12 = pd.DataFrame(np.random.randn(8, 2), index=index, columns=['A', 'B'])\n",
    "dfData12"
   ]
  },
  {
   "cell_type": "code",
   "execution_count": 1202,
   "metadata": {},
   "outputs": [
    {
     "data": {
      "text/plain": [
       "first  second   \n",
       "bar    one     A   -1.973913\n",
       "               B    1.685342\n",
       "       two     A   -0.460330\n",
       "               B    0.461109\n",
       "baz    one     A    0.269286\n",
       "               B    1.712339\n",
       "       two     A    0.630084\n",
       "               B    0.982741\n",
       "foo    one     A   -1.057745\n",
       "               B    1.334691\n",
       "       two     A    0.773309\n",
       "               B   -1.231491\n",
       "qux    one     A    0.092514\n",
       "               B    0.953323\n",
       "       two     A    1.562239\n",
       "               B   -0.438080\n",
       "dtype: float64"
      ]
     },
     "execution_count": 1202,
     "metadata": {},
     "output_type": "execute_result"
    }
   ],
   "source": [
    "# Applying the stack() function will result in a level in the DataFrame’s columns being compressed\n",
    "\n",
    "dfData13 = dfData12.stack()\n",
    "dfData13"
   ]
  },
  {
   "cell_type": "code",
   "execution_count": 1203,
   "metadata": {},
   "outputs": [
    {
     "data": {
      "text/html": [
       "<div>\n",
       "<style scoped>\n",
       "    .dataframe tbody tr th:only-of-type {\n",
       "        vertical-align: middle;\n",
       "    }\n",
       "\n",
       "    .dataframe tbody tr th {\n",
       "        vertical-align: top;\n",
       "    }\n",
       "\n",
       "    .dataframe thead th {\n",
       "        text-align: right;\n",
       "    }\n",
       "</style>\n",
       "<table border=\"1\" class=\"dataframe\">\n",
       "  <thead>\n",
       "    <tr style=\"text-align: right;\">\n",
       "      <th></th>\n",
       "      <th></th>\n",
       "      <th>A</th>\n",
       "      <th>B</th>\n",
       "    </tr>\n",
       "    <tr>\n",
       "      <th>first</th>\n",
       "      <th>second</th>\n",
       "      <th></th>\n",
       "      <th></th>\n",
       "    </tr>\n",
       "  </thead>\n",
       "  <tbody>\n",
       "    <tr>\n",
       "      <td rowspan=\"2\" valign=\"top\">bar</td>\n",
       "      <td>one</td>\n",
       "      <td>-1.973913</td>\n",
       "      <td>1.685342</td>\n",
       "    </tr>\n",
       "    <tr>\n",
       "      <td>two</td>\n",
       "      <td>-0.460330</td>\n",
       "      <td>0.461109</td>\n",
       "    </tr>\n",
       "    <tr>\n",
       "      <td rowspan=\"2\" valign=\"top\">baz</td>\n",
       "      <td>one</td>\n",
       "      <td>0.269286</td>\n",
       "      <td>1.712339</td>\n",
       "    </tr>\n",
       "    <tr>\n",
       "      <td>two</td>\n",
       "      <td>0.630084</td>\n",
       "      <td>0.982741</td>\n",
       "    </tr>\n",
       "    <tr>\n",
       "      <td rowspan=\"2\" valign=\"top\">foo</td>\n",
       "      <td>one</td>\n",
       "      <td>-1.057745</td>\n",
       "      <td>1.334691</td>\n",
       "    </tr>\n",
       "    <tr>\n",
       "      <td>two</td>\n",
       "      <td>0.773309</td>\n",
       "      <td>-1.231491</td>\n",
       "    </tr>\n",
       "    <tr>\n",
       "      <td rowspan=\"2\" valign=\"top\">qux</td>\n",
       "      <td>one</td>\n",
       "      <td>0.092514</td>\n",
       "      <td>0.953323</td>\n",
       "    </tr>\n",
       "    <tr>\n",
       "      <td>two</td>\n",
       "      <td>1.562239</td>\n",
       "      <td>-0.438080</td>\n",
       "    </tr>\n",
       "  </tbody>\n",
       "</table>\n",
       "</div>"
      ],
      "text/plain": [
       "                     A         B\n",
       "first second                    \n",
       "bar   one    -1.973913  1.685342\n",
       "      two    -0.460330  0.461109\n",
       "baz   one     0.269286  1.712339\n",
       "      two     0.630084  0.982741\n",
       "foo   one    -1.057745  1.334691\n",
       "      two     0.773309 -1.231491\n",
       "qux   one     0.092514  0.953323\n",
       "      two     1.562239 -0.438080"
      ]
     },
     "execution_count": 1203,
     "metadata": {},
     "output_type": "execute_result"
    }
   ],
   "source": [
    "# With a stacked DataFrame or Series (having a MultiIndex as the index),\n",
    "# the inverse operation of stack() is unstack()\n",
    "# which by default will unstack the last level\n",
    "    \n",
    "dfData13.unstack()"
   ]
  },
  {
   "cell_type": "code",
   "execution_count": 1204,
   "metadata": {},
   "outputs": [
    {
     "data": {
      "text/html": [
       "<div>\n",
       "<style scoped>\n",
       "    .dataframe tbody tr th:only-of-type {\n",
       "        vertical-align: middle;\n",
       "    }\n",
       "\n",
       "    .dataframe tbody tr th {\n",
       "        vertical-align: top;\n",
       "    }\n",
       "\n",
       "    .dataframe thead th {\n",
       "        text-align: right;\n",
       "    }\n",
       "</style>\n",
       "<table border=\"1\" class=\"dataframe\">\n",
       "  <thead>\n",
       "    <tr style=\"text-align: right;\">\n",
       "      <th></th>\n",
       "      <th>second</th>\n",
       "      <th>one</th>\n",
       "      <th>two</th>\n",
       "    </tr>\n",
       "    <tr>\n",
       "      <th>first</th>\n",
       "      <th></th>\n",
       "      <th></th>\n",
       "      <th></th>\n",
       "    </tr>\n",
       "  </thead>\n",
       "  <tbody>\n",
       "    <tr>\n",
       "      <td rowspan=\"2\" valign=\"top\">bar</td>\n",
       "      <td>A</td>\n",
       "      <td>-1.973913</td>\n",
       "      <td>-0.460330</td>\n",
       "    </tr>\n",
       "    <tr>\n",
       "      <td>B</td>\n",
       "      <td>1.685342</td>\n",
       "      <td>0.461109</td>\n",
       "    </tr>\n",
       "    <tr>\n",
       "      <td rowspan=\"2\" valign=\"top\">baz</td>\n",
       "      <td>A</td>\n",
       "      <td>0.269286</td>\n",
       "      <td>0.630084</td>\n",
       "    </tr>\n",
       "    <tr>\n",
       "      <td>B</td>\n",
       "      <td>1.712339</td>\n",
       "      <td>0.982741</td>\n",
       "    </tr>\n",
       "    <tr>\n",
       "      <td rowspan=\"2\" valign=\"top\">foo</td>\n",
       "      <td>A</td>\n",
       "      <td>-1.057745</td>\n",
       "      <td>0.773309</td>\n",
       "    </tr>\n",
       "    <tr>\n",
       "      <td>B</td>\n",
       "      <td>1.334691</td>\n",
       "      <td>-1.231491</td>\n",
       "    </tr>\n",
       "    <tr>\n",
       "      <td rowspan=\"2\" valign=\"top\">qux</td>\n",
       "      <td>A</td>\n",
       "      <td>0.092514</td>\n",
       "      <td>1.562239</td>\n",
       "    </tr>\n",
       "    <tr>\n",
       "      <td>B</td>\n",
       "      <td>0.953323</td>\n",
       "      <td>-0.438080</td>\n",
       "    </tr>\n",
       "  </tbody>\n",
       "</table>\n",
       "</div>"
      ],
      "text/plain": [
       "second        one       two\n",
       "first                      \n",
       "bar   A -1.973913 -0.460330\n",
       "      B  1.685342  0.461109\n",
       "baz   A  0.269286  0.630084\n",
       "      B  1.712339  0.982741\n",
       "foo   A -1.057745  0.773309\n",
       "      B  1.334691 -1.231491\n",
       "qux   A  0.092514  1.562239\n",
       "      B  0.953323 -0.438080"
      ]
     },
     "execution_count": 1204,
     "metadata": {},
     "output_type": "execute_result"
    }
   ],
   "source": [
    "dfData13.unstack(1)"
   ]
  },
  {
   "cell_type": "code",
   "execution_count": 1205,
   "metadata": {},
   "outputs": [
    {
     "data": {
      "text/html": [
       "<div>\n",
       "<style scoped>\n",
       "    .dataframe tbody tr th:only-of-type {\n",
       "        vertical-align: middle;\n",
       "    }\n",
       "\n",
       "    .dataframe tbody tr th {\n",
       "        vertical-align: top;\n",
       "    }\n",
       "\n",
       "    .dataframe thead th {\n",
       "        text-align: right;\n",
       "    }\n",
       "</style>\n",
       "<table border=\"1\" class=\"dataframe\">\n",
       "  <thead>\n",
       "    <tr style=\"text-align: right;\">\n",
       "      <th></th>\n",
       "      <th>first</th>\n",
       "      <th>bar</th>\n",
       "      <th>baz</th>\n",
       "      <th>foo</th>\n",
       "      <th>qux</th>\n",
       "    </tr>\n",
       "    <tr>\n",
       "      <th>second</th>\n",
       "      <th></th>\n",
       "      <th></th>\n",
       "      <th></th>\n",
       "      <th></th>\n",
       "      <th></th>\n",
       "    </tr>\n",
       "  </thead>\n",
       "  <tbody>\n",
       "    <tr>\n",
       "      <td rowspan=\"2\" valign=\"top\">one</td>\n",
       "      <td>A</td>\n",
       "      <td>-1.973913</td>\n",
       "      <td>0.269286</td>\n",
       "      <td>-1.057745</td>\n",
       "      <td>0.092514</td>\n",
       "    </tr>\n",
       "    <tr>\n",
       "      <td>B</td>\n",
       "      <td>1.685342</td>\n",
       "      <td>1.712339</td>\n",
       "      <td>1.334691</td>\n",
       "      <td>0.953323</td>\n",
       "    </tr>\n",
       "    <tr>\n",
       "      <td rowspan=\"2\" valign=\"top\">two</td>\n",
       "      <td>A</td>\n",
       "      <td>-0.460330</td>\n",
       "      <td>0.630084</td>\n",
       "      <td>0.773309</td>\n",
       "      <td>1.562239</td>\n",
       "    </tr>\n",
       "    <tr>\n",
       "      <td>B</td>\n",
       "      <td>0.461109</td>\n",
       "      <td>0.982741</td>\n",
       "      <td>-1.231491</td>\n",
       "      <td>-0.438080</td>\n",
       "    </tr>\n",
       "  </tbody>\n",
       "</table>\n",
       "</div>"
      ],
      "text/plain": [
       "first          bar       baz       foo       qux\n",
       "second                                          \n",
       "one    A -1.973913  0.269286 -1.057745  0.092514\n",
       "       B  1.685342  1.712339  1.334691  0.953323\n",
       "two    A -0.460330  0.630084  0.773309  1.562239\n",
       "       B  0.461109  0.982741 -1.231491 -0.438080"
      ]
     },
     "execution_count": 1205,
     "metadata": {},
     "output_type": "execute_result"
    }
   ],
   "source": [
    "dfData13.unstack(0)"
   ]
  },
  {
   "cell_type": "markdown",
   "metadata": {},
   "source": [
    "#### Pivot Tables\n",
    "\n",
    "Create a spreadsheet-style pivot table as a DataFrame. The levels in the pivot table will be stored in MultiIndex objects (hierarchical indexes) on the index and columns of the result DataFrame.\n",
    "\n",
    "The most commonly used parameters include:\n",
    "- `data` : DataFrame\n",
    "\n",
    "- `values` : column to aggregate, optional\n",
    "\n",
    "- `index : column, Grouper, array, or list of the previous. If an array is passed, it must be the same length as the data. The list can contain any of the other types (except list). Keys to group by on the pivot table index. If an array is passed, it is being used as the same manner as column values.\n",
    "\n",
    "- `columns` : column, Grouper, array, or list of the previous. Same instructions as parameter `index`\n",
    "\n",
    "- `aggfunc` : function, list of functions, dictionary, default is numpy.mean. If list of functions passed, the resulting pivot table will have hierarchical columns whose top level are the function names (inferred from the function objects themselves) If a dictionary is passed, the key is column to aggregate and value is function or list of functions\n",
    "\n",
    "- `fill_value` : scalar, default is None. Value to be used to replace missing values\n",
    "\n",
    "- `margins` : Boolean, default is False. Instruction to add all row / columns (e.g. for subtotal / grand totals)\n",
    "\n",
    "- `dropna` : Boolean, default is True. Instruction to not include columns whose entries are all NaN\n",
    "\n",
    "- `margins_name` : String, default is ‘All’. Name of the row / column that will contain the totals when margins is True.\n",
    "\n",
    "\n",
    "_**See example below:**_\n"
   ]
  },
  {
   "cell_type": "code",
   "execution_count": 1206,
   "metadata": {},
   "outputs": [
    {
     "data": {
      "text/html": [
       "<div>\n",
       "<style scoped>\n",
       "    .dataframe tbody tr th:only-of-type {\n",
       "        vertical-align: middle;\n",
       "    }\n",
       "\n",
       "    .dataframe tbody tr th {\n",
       "        vertical-align: top;\n",
       "    }\n",
       "\n",
       "    .dataframe thead th {\n",
       "        text-align: right;\n",
       "    }\n",
       "</style>\n",
       "<table border=\"1\" class=\"dataframe\">\n",
       "  <thead>\n",
       "    <tr style=\"text-align: right;\">\n",
       "      <th></th>\n",
       "      <th>A</th>\n",
       "      <th>B</th>\n",
       "      <th>C</th>\n",
       "      <th>D</th>\n",
       "      <th>E</th>\n",
       "    </tr>\n",
       "  </thead>\n",
       "  <tbody>\n",
       "    <tr>\n",
       "      <td>0</td>\n",
       "      <td>one</td>\n",
       "      <td>A</td>\n",
       "      <td>foo</td>\n",
       "      <td>-1.109261</td>\n",
       "      <td>-0.094156</td>\n",
       "    </tr>\n",
       "    <tr>\n",
       "      <td>1</td>\n",
       "      <td>one</td>\n",
       "      <td>B</td>\n",
       "      <td>foo</td>\n",
       "      <td>-0.272930</td>\n",
       "      <td>-1.215981</td>\n",
       "    </tr>\n",
       "    <tr>\n",
       "      <td>2</td>\n",
       "      <td>two</td>\n",
       "      <td>C</td>\n",
       "      <td>foo</td>\n",
       "      <td>-1.962745</td>\n",
       "      <td>1.952837</td>\n",
       "    </tr>\n",
       "    <tr>\n",
       "      <td>3</td>\n",
       "      <td>three</td>\n",
       "      <td>A</td>\n",
       "      <td>bar</td>\n",
       "      <td>0.056068</td>\n",
       "      <td>0.032346</td>\n",
       "    </tr>\n",
       "    <tr>\n",
       "      <td>4</td>\n",
       "      <td>one</td>\n",
       "      <td>B</td>\n",
       "      <td>bar</td>\n",
       "      <td>-0.468215</td>\n",
       "      <td>0.633378</td>\n",
       "    </tr>\n",
       "    <tr>\n",
       "      <td>5</td>\n",
       "      <td>one</td>\n",
       "      <td>C</td>\n",
       "      <td>bar</td>\n",
       "      <td>-0.307445</td>\n",
       "      <td>0.058949</td>\n",
       "    </tr>\n",
       "    <tr>\n",
       "      <td>6</td>\n",
       "      <td>two</td>\n",
       "      <td>A</td>\n",
       "      <td>foo</td>\n",
       "      <td>-0.307383</td>\n",
       "      <td>-2.049788</td>\n",
       "    </tr>\n",
       "    <tr>\n",
       "      <td>7</td>\n",
       "      <td>three</td>\n",
       "      <td>B</td>\n",
       "      <td>foo</td>\n",
       "      <td>-0.498404</td>\n",
       "      <td>-0.313483</td>\n",
       "    </tr>\n",
       "    <tr>\n",
       "      <td>8</td>\n",
       "      <td>one</td>\n",
       "      <td>C</td>\n",
       "      <td>foo</td>\n",
       "      <td>1.474690</td>\n",
       "      <td>0.301477</td>\n",
       "    </tr>\n",
       "    <tr>\n",
       "      <td>9</td>\n",
       "      <td>one</td>\n",
       "      <td>A</td>\n",
       "      <td>bar</td>\n",
       "      <td>-0.652451</td>\n",
       "      <td>0.424531</td>\n",
       "    </tr>\n",
       "    <tr>\n",
       "      <td>10</td>\n",
       "      <td>two</td>\n",
       "      <td>B</td>\n",
       "      <td>bar</td>\n",
       "      <td>-0.400789</td>\n",
       "      <td>0.240535</td>\n",
       "    </tr>\n",
       "    <tr>\n",
       "      <td>11</td>\n",
       "      <td>three</td>\n",
       "      <td>C</td>\n",
       "      <td>bar</td>\n",
       "      <td>0.603784</td>\n",
       "      <td>1.205991</td>\n",
       "    </tr>\n",
       "  </tbody>\n",
       "</table>\n",
       "</div>"
      ],
      "text/plain": [
       "        A  B    C         D         E\n",
       "0     one  A  foo -1.109261 -0.094156\n",
       "1     one  B  foo -0.272930 -1.215981\n",
       "2     two  C  foo -1.962745  1.952837\n",
       "3   three  A  bar  0.056068  0.032346\n",
       "4     one  B  bar -0.468215  0.633378\n",
       "5     one  C  bar -0.307445  0.058949\n",
       "6     two  A  foo -0.307383 -2.049788\n",
       "7   three  B  foo -0.498404 -0.313483\n",
       "8     one  C  foo  1.474690  0.301477\n",
       "9     one  A  bar -0.652451  0.424531\n",
       "10    two  B  bar -0.400789  0.240535\n",
       "11  three  C  bar  0.603784  1.205991"
      ]
     },
     "execution_count": 1206,
     "metadata": {},
     "output_type": "execute_result"
    }
   ],
   "source": [
    "dfData14 = pd.DataFrame({'A' : ['one', 'one', 'two', 'three'] * 3,\n",
    "                    'B' : ['A', 'B', 'C'] * 4,\n",
    "                    'C' : ['foo', 'foo', 'foo', 'bar', 'bar', 'bar'] * 2,\n",
    "                    'D' : np.random.randn(12),\n",
    "                    'E' : np.random.randn(12)})\n",
    "dfData14"
   ]
  },
  {
   "cell_type": "code",
   "execution_count": 1207,
   "metadata": {},
   "outputs": [
    {
     "data": {
      "text/html": [
       "<div>\n",
       "<style scoped>\n",
       "    .dataframe tbody tr th:only-of-type {\n",
       "        vertical-align: middle;\n",
       "    }\n",
       "\n",
       "    .dataframe tbody tr th {\n",
       "        vertical-align: top;\n",
       "    }\n",
       "\n",
       "    .dataframe thead th {\n",
       "        text-align: right;\n",
       "    }\n",
       "</style>\n",
       "<table border=\"1\" class=\"dataframe\">\n",
       "  <thead>\n",
       "    <tr style=\"text-align: right;\">\n",
       "      <th></th>\n",
       "      <th>C</th>\n",
       "      <th>bar</th>\n",
       "      <th>foo</th>\n",
       "    </tr>\n",
       "    <tr>\n",
       "      <th>A</th>\n",
       "      <th>B</th>\n",
       "      <th></th>\n",
       "      <th></th>\n",
       "    </tr>\n",
       "  </thead>\n",
       "  <tbody>\n",
       "    <tr>\n",
       "      <td rowspan=\"3\" valign=\"top\">one</td>\n",
       "      <td>A</td>\n",
       "      <td>-0.652451</td>\n",
       "      <td>-1.109261</td>\n",
       "    </tr>\n",
       "    <tr>\n",
       "      <td>B</td>\n",
       "      <td>-0.468215</td>\n",
       "      <td>-0.272930</td>\n",
       "    </tr>\n",
       "    <tr>\n",
       "      <td>C</td>\n",
       "      <td>-0.307445</td>\n",
       "      <td>1.474690</td>\n",
       "    </tr>\n",
       "    <tr>\n",
       "      <td rowspan=\"3\" valign=\"top\">three</td>\n",
       "      <td>A</td>\n",
       "      <td>0.056068</td>\n",
       "      <td>NaN</td>\n",
       "    </tr>\n",
       "    <tr>\n",
       "      <td>B</td>\n",
       "      <td>NaN</td>\n",
       "      <td>-0.498404</td>\n",
       "    </tr>\n",
       "    <tr>\n",
       "      <td>C</td>\n",
       "      <td>0.603784</td>\n",
       "      <td>NaN</td>\n",
       "    </tr>\n",
       "    <tr>\n",
       "      <td rowspan=\"3\" valign=\"top\">two</td>\n",
       "      <td>A</td>\n",
       "      <td>NaN</td>\n",
       "      <td>-0.307383</td>\n",
       "    </tr>\n",
       "    <tr>\n",
       "      <td>B</td>\n",
       "      <td>-0.400789</td>\n",
       "      <td>NaN</td>\n",
       "    </tr>\n",
       "    <tr>\n",
       "      <td>C</td>\n",
       "      <td>NaN</td>\n",
       "      <td>-1.962745</td>\n",
       "    </tr>\n",
       "  </tbody>\n",
       "</table>\n",
       "</div>"
      ],
      "text/plain": [
       "C             bar       foo\n",
       "A     B                    \n",
       "one   A -0.652451 -1.109261\n",
       "      B -0.468215 -0.272930\n",
       "      C -0.307445  1.474690\n",
       "three A  0.056068       NaN\n",
       "      B       NaN -0.498404\n",
       "      C  0.603784       NaN\n",
       "two   A       NaN -0.307383\n",
       "      B -0.400789       NaN\n",
       "      C       NaN -1.962745"
      ]
     },
     "execution_count": 1207,
     "metadata": {},
     "output_type": "execute_result"
    }
   ],
   "source": [
    "pd.pivot_table(dfData14, values='D', index=['A', 'B'], columns=['C'])"
   ]
  },
  {
   "cell_type": "markdown",
   "metadata": {},
   "source": [
    "#### Time Series\n",
    "\n",
    "Essentially, a time series is any data set where the values are measured at different points in time. Many time series are uniformly spaced at a specific frequency.\n",
    "\n",
    "pandas time series data tools where originally developed for financial time series such as daily stock market prices, but can be applied to time series data in any domain — such as business, science, engineering, public health, and so forth. With these robust tools it is possible to easily organize, transform, analyze, and visualize data at any level of detail — such as for examination during specific time periods of interest, or to find variations on different time scales, such as monthly or annual aggregations, recurring patterns, and long-term trends.\n",
    "\n",
    "Converting between period and timestamp enables some convenient arithmetic functions to be used. \n",
    "\n",
    "\n",
    "_**See examples below:**_\n"
   ]
  },
  {
   "cell_type": "code",
   "execution_count": 1208,
   "metadata": {},
   "outputs": [
    {
     "data": {
      "text/plain": [
       "2019-01-01    25452\n",
       "Freq: 5T, dtype: int32"
      ]
     },
     "execution_count": 1208,
     "metadata": {},
     "output_type": "execute_result"
    }
   ],
   "source": [
    "sSixth = pd.date_range('1/1/2019', periods=100, freq='S')\n",
    "dfTime1 = pd.Series(np.random.randint(0, 500, len(sSixth)), index=sSixth)\n",
    "dfTime1.resample('5Min').sum()"
   ]
  },
  {
   "cell_type": "code",
   "execution_count": 1209,
   "metadata": {},
   "outputs": [
    {
     "data": {
      "text/plain": [
       "2019-03-06   -1.306336\n",
       "2019-03-07   -0.997568\n",
       "2019-03-08    0.161857\n",
       "2019-03-09    0.584511\n",
       "2019-03-10    0.508350\n",
       "Freq: D, dtype: float64"
      ]
     },
     "execution_count": 1209,
     "metadata": {},
     "output_type": "execute_result"
    }
   ],
   "source": [
    "sSeventh = pd.date_range('3/6/2019 00:00', periods=5, freq='D')\n",
    "dfTime2 = pd.Series(np.random.randn(len(sSeventh)), sSeventh)\n",
    "dfTime2"
   ]
  },
  {
   "cell_type": "code",
   "execution_count": 1210,
   "metadata": {},
   "outputs": [
    {
     "data": {
      "text/plain": [
       "2019-03-06 00:00:00+00:00   -1.306336\n",
       "2019-03-07 00:00:00+00:00   -0.997568\n",
       "2019-03-08 00:00:00+00:00    0.161857\n",
       "2019-03-09 00:00:00+00:00    0.584511\n",
       "2019-03-10 00:00:00+00:00    0.508350\n",
       "Freq: D, dtype: float64"
      ]
     },
     "execution_count": 1210,
     "metadata": {},
     "output_type": "execute_result"
    }
   ],
   "source": [
    "# with time zone representation\n",
    "\n",
    "dfTime_utc = dfTime2.tz_localize('UTC')\n",
    "dfTime_utc"
   ]
  },
  {
   "cell_type": "code",
   "execution_count": 1211,
   "metadata": {},
   "outputs": [
    {
     "data": {
      "text/plain": [
       "2019-03-06 02:00:00+02:00   -1.306336\n",
       "2019-03-07 02:00:00+02:00   -0.997568\n",
       "2019-03-08 02:00:00+02:00    0.161857\n",
       "2019-03-09 02:00:00+02:00    0.584511\n",
       "2019-03-10 02:00:00+02:00    0.508350\n",
       "Freq: D, dtype: float64"
      ]
     },
     "execution_count": 1211,
     "metadata": {},
     "output_type": "execute_result"
    }
   ],
   "source": [
    "# converting to another time zone\n",
    "\n",
    "dfTime_utc.tz_convert('Africa/Johannesburg')"
   ]
  },
  {
   "cell_type": "code",
   "execution_count": 1212,
   "metadata": {},
   "outputs": [
    {
     "data": {
      "text/plain": [
       "2019-08-31    1.733668\n",
       "2019-09-30    1.117437\n",
       "2019-10-31   -0.274770\n",
       "2019-11-30    0.326768\n",
       "2019-12-31   -0.264002\n",
       "Freq: M, dtype: float64"
      ]
     },
     "execution_count": 1212,
     "metadata": {},
     "output_type": "execute_result"
    }
   ],
   "source": [
    "# Converting between time span representations\n",
    "\n",
    "sEighth = pd.date_range('8/9/2019', periods=5, freq='M')\n",
    "dfTime3 = pd.Series(np.random.randn(len(sEighth)), index=sEighth)\n",
    "dfTime3"
   ]
  },
  {
   "cell_type": "code",
   "execution_count": 1213,
   "metadata": {},
   "outputs": [
    {
     "data": {
      "text/plain": [
       "2019-08    1.733668\n",
       "2019-09    1.117437\n",
       "2019-10   -0.274770\n",
       "2019-11    0.326768\n",
       "2019-12   -0.264002\n",
       "Freq: M, dtype: float64"
      ]
     },
     "execution_count": 1213,
     "metadata": {},
     "output_type": "execute_result"
    }
   ],
   "source": [
    "dfTime4 = dfTime3.to_period()\n",
    "dfTime4"
   ]
  },
  {
   "cell_type": "code",
   "execution_count": 1214,
   "metadata": {},
   "outputs": [
    {
     "data": {
      "text/plain": [
       "2019-08-01    1.733668\n",
       "2019-09-01    1.117437\n",
       "2019-10-01   -0.274770\n",
       "2019-11-01    0.326768\n",
       "2019-12-01   -0.264002\n",
       "Freq: MS, dtype: float64"
      ]
     },
     "execution_count": 1214,
     "metadata": {},
     "output_type": "execute_result"
    }
   ],
   "source": [
    "dfTime4.to_timestamp()"
   ]
  },
  {
   "cell_type": "code",
   "execution_count": 1215,
   "metadata": {},
   "outputs": [
    {
     "data": {
      "text/plain": [
       "2000-03-01 09:00   -0.186786\n",
       "2000-06-01 09:00    1.906435\n",
       "2000-09-01 09:00   -1.211989\n",
       "2000-12-01 09:00    2.340528\n",
       "2001-03-01 09:00   -0.184529\n",
       "2001-06-01 09:00   -0.523875\n",
       "2001-09-01 09:00    0.928023\n",
       "2001-12-01 09:00    1.753455\n",
       "2002-03-01 09:00   -0.939555\n",
       "2002-06-01 09:00    1.191444\n",
       "Freq: H, dtype: float64"
      ]
     },
     "execution_count": 1215,
     "metadata": {},
     "output_type": "execute_result"
    }
   ],
   "source": [
    "# Converting from a quarterly frequency with year ending in November to year ending 9am of the end of the month following the quarter end\n",
    "\n",
    "sNineth = pd.period_range('2000Q1', '2020Q4', freq='Q-NOV')\n",
    "dfTime5 = pd.Series(np.random.randn(len(sNineth)), sNineth)\n",
    "dfTime5.index = (sNineth.asfreq('M', 'e') + 1).asfreq('H', 's') + 9\n",
    "dfTime5.head(10)"
   ]
  },
  {
   "cell_type": "markdown",
   "metadata": {},
   "source": [
    "#### Categoricals\n",
    "\n",
    "pandas offers a data type: **Categoricals** that correspond to categorical variables in statistics.\n",
    "\n",
    "- pandas **categorical variable** takes on a limited, and usually fixed, number of possible values. Examples are gender, social class, blood type, country affiliation, observation time or rating via Likert scales.\n",
    "\n",
    "- pandas **categorical data** might have an order defined by the order of categories, not lexical order of the values (e.g. ‘strongly agree’ vs ‘agree’ or ‘first observation’ vs. ‘second observation’) in contrast to statistical categorical variables\n",
    "\n",
    "- when selecting **categoricals Series** numerical operations _(+-*/)_ are not possible, and operations such as sorting and finding the min/max will use the logical order instead of the lexical order\n",
    "\n",
    "**Notes to consider**\n",
    "- All values of categorical data are either in categories or np.nan.\n",
    "- Assigning to Series.cat.categories is done inplace by default\n",
    "\n",
    "\n",
    "_**See examples below:**_\n"
   ]
  },
  {
   "cell_type": "code",
   "execution_count": 1216,
   "metadata": {},
   "outputs": [
    {
     "data": {
      "text/html": [
       "<div>\n",
       "<style scoped>\n",
       "    .dataframe tbody tr th:only-of-type {\n",
       "        vertical-align: middle;\n",
       "    }\n",
       "\n",
       "    .dataframe tbody tr th {\n",
       "        vertical-align: top;\n",
       "    }\n",
       "\n",
       "    .dataframe thead th {\n",
       "        text-align: right;\n",
       "    }\n",
       "</style>\n",
       "<table border=\"1\" class=\"dataframe\">\n",
       "  <thead>\n",
       "    <tr style=\"text-align: right;\">\n",
       "      <th></th>\n",
       "      <th>LearnerID</th>\n",
       "      <th>RawGrade</th>\n",
       "    </tr>\n",
       "  </thead>\n",
       "  <tbody>\n",
       "    <tr>\n",
       "      <td>0</td>\n",
       "      <td>1</td>\n",
       "      <td>A</td>\n",
       "    </tr>\n",
       "    <tr>\n",
       "      <td>1</td>\n",
       "      <td>2</td>\n",
       "      <td>A</td>\n",
       "    </tr>\n",
       "    <tr>\n",
       "      <td>2</td>\n",
       "      <td>3</td>\n",
       "      <td>B</td>\n",
       "    </tr>\n",
       "    <tr>\n",
       "      <td>3</td>\n",
       "      <td>4</td>\n",
       "      <td>A</td>\n",
       "    </tr>\n",
       "    <tr>\n",
       "      <td>4</td>\n",
       "      <td>5</td>\n",
       "      <td>C</td>\n",
       "    </tr>\n",
       "    <tr>\n",
       "      <td>5</td>\n",
       "      <td>6</td>\n",
       "      <td>E</td>\n",
       "    </tr>\n",
       "    <tr>\n",
       "      <td>6</td>\n",
       "      <td>7</td>\n",
       "      <td>E</td>\n",
       "    </tr>\n",
       "    <tr>\n",
       "      <td>7</td>\n",
       "      <td>8</td>\n",
       "      <td>D</td>\n",
       "    </tr>\n",
       "  </tbody>\n",
       "</table>\n",
       "</div>"
      ],
      "text/plain": [
       "   LearnerID RawGrade\n",
       "0          1        A\n",
       "1          2        A\n",
       "2          3        B\n",
       "3          4        A\n",
       "4          5        C\n",
       "5          6        E\n",
       "6          7        E\n",
       "7          8        D"
      ]
     },
     "execution_count": 1216,
     "metadata": {},
     "output_type": "execute_result"
    }
   ],
   "source": [
    "# Creating a new DataFrame dfData15\n",
    "\n",
    "dfData15 = pd.DataFrame({\"LearnerID\":[1,2,3,4,5,6,7,8], \"RawGrade\":['A', 'A', 'B', 'A', 'C', 'E', 'E','D']})\n",
    "dfData15"
   ]
  },
  {
   "cell_type": "code",
   "execution_count": 1217,
   "metadata": {},
   "outputs": [
    {
     "data": {
      "text/plain": [
       "0    Very good\n",
       "1    Very good\n",
       "2         Good\n",
       "3    Very good\n",
       "4      Average\n",
       "5     Very bad\n",
       "6     Very bad\n",
       "7          Bad\n",
       "Name: Grade, dtype: category\n",
       "Categories (5, object): [Very good, Good, Average, Bad, Very bad]"
      ]
     },
     "execution_count": 1217,
     "metadata": {},
     "output_type": "execute_result"
    }
   ],
   "source": [
    "# Converting the RawGrades to a categorical data type, and assinging Category values to current data values\n",
    "\n",
    "dfData15[\"Grade\"] = dfData15[\"RawGrade\"].astype(\"category\")\n",
    "dfData15[\"Grade\"].cat.categories = [\"Very good\", \"Good\", \"Average\", \"Bad\", \"Very bad\"]\n",
    "dfData15[\"Grade\"]"
   ]
  },
  {
   "cell_type": "code",
   "execution_count": 1218,
   "metadata": {},
   "outputs": [
    {
     "data": {
      "text/plain": [
       "0    Very good\n",
       "1    Very good\n",
       "2         Good\n",
       "3    Very good\n",
       "4      Average\n",
       "5     Very bad\n",
       "6     Very bad\n",
       "7          Bad\n",
       "Name: Grade, dtype: category\n",
       "Categories (5, object): [Very good, Good, Average, Bad, Very bad]"
      ]
     },
     "execution_count": 1218,
     "metadata": {},
     "output_type": "execute_result"
    }
   ],
   "source": [
    "# Updating and setting Category with new values\n",
    "\n",
    "dfData15[\"Grade\"].cat.set_categories = ([\"Excellent\",\"Very good\", \"Good\", \"Average\", \"Bad\", \"Very bad\", \"Fail\"])\n",
    "dfData15[\"Grade\"]"
   ]
  },
  {
   "cell_type": "code",
   "execution_count": 1219,
   "metadata": {},
   "outputs": [
    {
     "data": {
      "text/html": [
       "<div>\n",
       "<style scoped>\n",
       "    .dataframe tbody tr th:only-of-type {\n",
       "        vertical-align: middle;\n",
       "    }\n",
       "\n",
       "    .dataframe tbody tr th {\n",
       "        vertical-align: top;\n",
       "    }\n",
       "\n",
       "    .dataframe thead th {\n",
       "        text-align: right;\n",
       "    }\n",
       "</style>\n",
       "<table border=\"1\" class=\"dataframe\">\n",
       "  <thead>\n",
       "    <tr style=\"text-align: right;\">\n",
       "      <th></th>\n",
       "      <th>LearnerID</th>\n",
       "      <th>RawGrade</th>\n",
       "      <th>Grade</th>\n",
       "    </tr>\n",
       "  </thead>\n",
       "  <tbody>\n",
       "    <tr>\n",
       "      <td>0</td>\n",
       "      <td>1</td>\n",
       "      <td>A</td>\n",
       "      <td>Very good</td>\n",
       "    </tr>\n",
       "    <tr>\n",
       "      <td>1</td>\n",
       "      <td>2</td>\n",
       "      <td>A</td>\n",
       "      <td>Very good</td>\n",
       "    </tr>\n",
       "    <tr>\n",
       "      <td>3</td>\n",
       "      <td>4</td>\n",
       "      <td>A</td>\n",
       "      <td>Very good</td>\n",
       "    </tr>\n",
       "    <tr>\n",
       "      <td>2</td>\n",
       "      <td>3</td>\n",
       "      <td>B</td>\n",
       "      <td>Good</td>\n",
       "    </tr>\n",
       "    <tr>\n",
       "      <td>4</td>\n",
       "      <td>5</td>\n",
       "      <td>C</td>\n",
       "      <td>Average</td>\n",
       "    </tr>\n",
       "    <tr>\n",
       "      <td>7</td>\n",
       "      <td>8</td>\n",
       "      <td>D</td>\n",
       "      <td>Bad</td>\n",
       "    </tr>\n",
       "    <tr>\n",
       "      <td>5</td>\n",
       "      <td>6</td>\n",
       "      <td>E</td>\n",
       "      <td>Very bad</td>\n",
       "    </tr>\n",
       "    <tr>\n",
       "      <td>6</td>\n",
       "      <td>7</td>\n",
       "      <td>E</td>\n",
       "      <td>Very bad</td>\n",
       "    </tr>\n",
       "  </tbody>\n",
       "</table>\n",
       "</div>"
      ],
      "text/plain": [
       "   LearnerID RawGrade      Grade\n",
       "0          1        A  Very good\n",
       "1          2        A  Very good\n",
       "3          4        A  Very good\n",
       "2          3        B       Good\n",
       "4          5        C    Average\n",
       "7          8        D        Bad\n",
       "5          6        E   Very bad\n",
       "6          7        E   Very bad"
      ]
     },
     "execution_count": 1219,
     "metadata": {},
     "output_type": "execute_result"
    }
   ],
   "source": [
    "# Notice that sorting is per logical order as set in the Categories, not in lexical order\n",
    "\n",
    "dfData15.sort_values(by=\"Grade\")"
   ]
  },
  {
   "cell_type": "code",
   "execution_count": 1220,
   "metadata": {},
   "outputs": [
    {
     "data": {
      "text/plain": [
       "Grade\n",
       "Very good    3\n",
       "Good         1\n",
       "Average      1\n",
       "Bad          1\n",
       "Very bad     2\n",
       "dtype: int64"
      ]
     },
     "execution_count": 1220,
     "metadata": {},
     "output_type": "execute_result"
    }
   ],
   "source": [
    "# Grouping by a categorical column will not show any empty Categories\n",
    "\n",
    "dfData15.groupby(\"Grade\").size()"
   ]
  },
  {
   "cell_type": "markdown",
   "metadata": {},
   "source": [
    "#### Statistical Methods\n",
    "\n",
    "Statistical methods help in the understanding and analysing the behaviour of data.\n",
    "\n",
    "Some popular functions include:\n",
    "- `pct_change()` : compares every element with its prior element and computes the **change percentage**. By default, operates on columns. For application on row, use axis=1 argument\n",
    "\n",
    "- `.cov()` : on Series, computes **covariance** between Series objects (NaN will be excluded by default). On DataFrame, between all columns.\n",
    "\n",
    "- `.corr()` : **correlation** shows the linear relationship between any two array of values (Series). Non-numeric columns are excluded by default\n",
    "\n",
    "\n",
    "_**See examples below:**_\n"
   ]
  },
  {
   "cell_type": "code",
   "execution_count": 1221,
   "metadata": {},
   "outputs": [
    {
     "data": {
      "text/plain": [
       "0         NaN\n",
       "1    1.000000\n",
       "2    0.500000\n",
       "3    0.333333\n",
       "4    0.250000\n",
       "5   -0.200000\n",
       "dtype: float64"
      ]
     },
     "execution_count": 1221,
     "metadata": {},
     "output_type": "execute_result"
    }
   ],
   "source": [
    "# applying Percentage change\n",
    "\n",
    "sTenth = pd.Series([1,2,3,4,5,4])\n",
    "sTenth.pct_change()"
   ]
  },
  {
   "cell_type": "code",
   "execution_count": 1222,
   "metadata": {},
   "outputs": [
    {
     "data": {
      "text/html": [
       "<div>\n",
       "<style scoped>\n",
       "    .dataframe tbody tr th:only-of-type {\n",
       "        vertical-align: middle;\n",
       "    }\n",
       "\n",
       "    .dataframe tbody tr th {\n",
       "        vertical-align: top;\n",
       "    }\n",
       "\n",
       "    .dataframe thead th {\n",
       "        text-align: right;\n",
       "    }\n",
       "</style>\n",
       "<table border=\"1\" class=\"dataframe\">\n",
       "  <thead>\n",
       "    <tr style=\"text-align: right;\">\n",
       "      <th></th>\n",
       "      <th>0</th>\n",
       "      <th>1</th>\n",
       "    </tr>\n",
       "  </thead>\n",
       "  <tbody>\n",
       "    <tr>\n",
       "      <td>0</td>\n",
       "      <td>NaN</td>\n",
       "      <td>NaN</td>\n",
       "    </tr>\n",
       "    <tr>\n",
       "      <td>1</td>\n",
       "      <td>12.770931</td>\n",
       "      <td>-2.338392</td>\n",
       "    </tr>\n",
       "    <tr>\n",
       "      <td>2</td>\n",
       "      <td>-0.125944</td>\n",
       "      <td>-0.983493</td>\n",
       "    </tr>\n",
       "    <tr>\n",
       "      <td>3</td>\n",
       "      <td>-1.525497</td>\n",
       "      <td>-60.774861</td>\n",
       "    </tr>\n",
       "    <tr>\n",
       "      <td>4</td>\n",
       "      <td>1.593952</td>\n",
       "      <td>-1.261012</td>\n",
       "    </tr>\n",
       "  </tbody>\n",
       "</table>\n",
       "</div>"
      ],
      "text/plain": [
       "           0          1\n",
       "0        NaN        NaN\n",
       "1  12.770931  -2.338392\n",
       "2  -0.125944  -0.983493\n",
       "3  -1.525497 -60.774861\n",
       "4   1.593952  -1.261012"
      ]
     },
     "execution_count": 1222,
     "metadata": {},
     "output_type": "execute_result"
    }
   ],
   "source": [
    "dfData18 = pd.DataFrame(np.random.randn(5, 2))\n",
    "dfData18.pct_change()"
   ]
  },
  {
   "cell_type": "code",
   "execution_count": 1223,
   "metadata": {},
   "outputs": [
    {
     "data": {
      "text/plain": [
       "-0.5298385223015478"
      ]
     },
     "execution_count": 1223,
     "metadata": {},
     "output_type": "execute_result"
    }
   ],
   "source": [
    "sEleven = pd.Series(np.random.randn(10))\n",
    "sTwelve = pd.Series(np.random.randn(10))\n",
    "sThirteen = sEleven.cov(sTwelve)\n",
    "sThirteen"
   ]
  },
  {
   "cell_type": "code",
   "execution_count": 1224,
   "metadata": {},
   "outputs": [
    {
     "data": {
      "text/plain": [
       "0.6248398717722284"
      ]
     },
     "execution_count": 1224,
     "metadata": {},
     "output_type": "execute_result"
    }
   ],
   "source": [
    "# applying Covariance\n",
    "\n",
    "dfData19 = pd.DataFrame(np.random.randn(10, 5), columns=['a', 'b', 'c', 'd', 'e'])\n",
    "dfData19['a'].cov(dfData19['b'])"
   ]
  },
  {
   "cell_type": "code",
   "execution_count": 1225,
   "metadata": {},
   "outputs": [
    {
     "data": {
      "text/html": [
       "<div>\n",
       "<style scoped>\n",
       "    .dataframe tbody tr th:only-of-type {\n",
       "        vertical-align: middle;\n",
       "    }\n",
       "\n",
       "    .dataframe tbody tr th {\n",
       "        vertical-align: top;\n",
       "    }\n",
       "\n",
       "    .dataframe thead th {\n",
       "        text-align: right;\n",
       "    }\n",
       "</style>\n",
       "<table border=\"1\" class=\"dataframe\">\n",
       "  <thead>\n",
       "    <tr style=\"text-align: right;\">\n",
       "      <th></th>\n",
       "      <th>a</th>\n",
       "      <th>b</th>\n",
       "      <th>c</th>\n",
       "      <th>d</th>\n",
       "      <th>e</th>\n",
       "    </tr>\n",
       "  </thead>\n",
       "  <tbody>\n",
       "    <tr>\n",
       "      <td>a</td>\n",
       "      <td>0.902971</td>\n",
       "      <td>0.624840</td>\n",
       "      <td>0.137999</td>\n",
       "      <td>0.417807</td>\n",
       "      <td>-0.390383</td>\n",
       "    </tr>\n",
       "    <tr>\n",
       "      <td>b</td>\n",
       "      <td>0.624840</td>\n",
       "      <td>1.021948</td>\n",
       "      <td>0.004108</td>\n",
       "      <td>-0.040833</td>\n",
       "      <td>0.088526</td>\n",
       "    </tr>\n",
       "    <tr>\n",
       "      <td>c</td>\n",
       "      <td>0.137999</td>\n",
       "      <td>0.004108</td>\n",
       "      <td>0.844575</td>\n",
       "      <td>0.219809</td>\n",
       "      <td>-0.044260</td>\n",
       "    </tr>\n",
       "    <tr>\n",
       "      <td>d</td>\n",
       "      <td>0.417807</td>\n",
       "      <td>-0.040833</td>\n",
       "      <td>0.219809</td>\n",
       "      <td>0.999087</td>\n",
       "      <td>-0.455101</td>\n",
       "    </tr>\n",
       "    <tr>\n",
       "      <td>e</td>\n",
       "      <td>-0.390383</td>\n",
       "      <td>0.088526</td>\n",
       "      <td>-0.044260</td>\n",
       "      <td>-0.455101</td>\n",
       "      <td>0.627457</td>\n",
       "    </tr>\n",
       "  </tbody>\n",
       "</table>\n",
       "</div>"
      ],
      "text/plain": [
       "          a         b         c         d         e\n",
       "a  0.902971  0.624840  0.137999  0.417807 -0.390383\n",
       "b  0.624840  1.021948  0.004108 -0.040833  0.088526\n",
       "c  0.137999  0.004108  0.844575  0.219809 -0.044260\n",
       "d  0.417807 -0.040833  0.219809  0.999087 -0.455101\n",
       "e -0.390383  0.088526 -0.044260 -0.455101  0.627457"
      ]
     },
     "execution_count": 1225,
     "metadata": {},
     "output_type": "execute_result"
    }
   ],
   "source": [
    "dfData19.cov()"
   ]
  },
  {
   "cell_type": "code",
   "execution_count": 1226,
   "metadata": {},
   "outputs": [
    {
     "data": {
      "text/plain": [
       "-0.08625900218576614"
      ]
     },
     "execution_count": 1226,
     "metadata": {},
     "output_type": "execute_result"
    }
   ],
   "source": [
    "# applying Correlation\n",
    "\n",
    "dfData20 = pd.DataFrame(np.random.randn(10, 5), columns=['a', 'b', 'c', 'd', 'e'])\n",
    "dfData20['a'].corr(dfData20['b'])"
   ]
  },
  {
   "cell_type": "code",
   "execution_count": 1227,
   "metadata": {},
   "outputs": [
    {
     "data": {
      "text/html": [
       "<div>\n",
       "<style scoped>\n",
       "    .dataframe tbody tr th:only-of-type {\n",
       "        vertical-align: middle;\n",
       "    }\n",
       "\n",
       "    .dataframe tbody tr th {\n",
       "        vertical-align: top;\n",
       "    }\n",
       "\n",
       "    .dataframe thead th {\n",
       "        text-align: right;\n",
       "    }\n",
       "</style>\n",
       "<table border=\"1\" class=\"dataframe\">\n",
       "  <thead>\n",
       "    <tr style=\"text-align: right;\">\n",
       "      <th></th>\n",
       "      <th>a</th>\n",
       "      <th>b</th>\n",
       "      <th>c</th>\n",
       "      <th>d</th>\n",
       "      <th>e</th>\n",
       "    </tr>\n",
       "  </thead>\n",
       "  <tbody>\n",
       "    <tr>\n",
       "      <td>a</td>\n",
       "      <td>1.000000</td>\n",
       "      <td>-0.086259</td>\n",
       "      <td>0.268589</td>\n",
       "      <td>-0.477036</td>\n",
       "      <td>0.229369</td>\n",
       "    </tr>\n",
       "    <tr>\n",
       "      <td>b</td>\n",
       "      <td>-0.086259</td>\n",
       "      <td>1.000000</td>\n",
       "      <td>0.000962</td>\n",
       "      <td>-0.036488</td>\n",
       "      <td>-0.436415</td>\n",
       "    </tr>\n",
       "    <tr>\n",
       "      <td>c</td>\n",
       "      <td>0.268589</td>\n",
       "      <td>0.000962</td>\n",
       "      <td>1.000000</td>\n",
       "      <td>-0.307132</td>\n",
       "      <td>0.785487</td>\n",
       "    </tr>\n",
       "    <tr>\n",
       "      <td>d</td>\n",
       "      <td>-0.477036</td>\n",
       "      <td>-0.036488</td>\n",
       "      <td>-0.307132</td>\n",
       "      <td>1.000000</td>\n",
       "      <td>-0.348055</td>\n",
       "    </tr>\n",
       "    <tr>\n",
       "      <td>e</td>\n",
       "      <td>0.229369</td>\n",
       "      <td>-0.436415</td>\n",
       "      <td>0.785487</td>\n",
       "      <td>-0.348055</td>\n",
       "      <td>1.000000</td>\n",
       "    </tr>\n",
       "  </tbody>\n",
       "</table>\n",
       "</div>"
      ],
      "text/plain": [
       "          a         b         c         d         e\n",
       "a  1.000000 -0.086259  0.268589 -0.477036  0.229369\n",
       "b -0.086259  1.000000  0.000962 -0.036488 -0.436415\n",
       "c  0.268589  0.000962  1.000000 -0.307132  0.785487\n",
       "d -0.477036 -0.036488 -0.307132  1.000000 -0.348055\n",
       "e  0.229369 -0.436415  0.785487 -0.348055  1.000000"
      ]
     },
     "execution_count": 1227,
     "metadata": {},
     "output_type": "execute_result"
    }
   ],
   "source": [
    "dfData20.corr()"
   ]
  },
  {
   "cell_type": "markdown",
   "metadata": {},
   "source": [
    "## Presenting Results\n",
    "\n",
    "### Plotting\n",
    "\n",
    "pandas integrates with Matplotlib, facilitating the ability to plot directly off DataFrames and Series.\n",
    "pandas `.plot()` calls self as a function.\n",
    "\n",
    "**Plotting Tips**\n",
    "- For categorical variables utilize Bar Charts and Boxplots\n",
    "- For continuous variables utilize Histograms, Scatterplots, Line graphs, and Boxplots\n",
    "\n",
    "\n",
    "\n",
    "_**See examples below:**_\n"
   ]
  },
  {
   "cell_type": "code",
   "execution_count": 1228,
   "metadata": {},
   "outputs": [
    {
     "data": {
      "text/plain": [
       "<matplotlib.axes._subplots.AxesSubplot at 0x1702835e308>"
      ]
     },
     "execution_count": 1228,
     "metadata": {},
     "output_type": "execute_result"
    },
    {
     "data": {
      "image/png": "[encoded data removed]",
      "text/plain": [
       "<Figure size 432x288 with 1 Axes>"
      ]
     },
     "metadata": {
      "needs_background": "light"
     },
     "output_type": "display_data"
    }
   ],
   "source": [
    "dfData16 = pd.Series(np.random.randn(1000), index=pd.date_range('1/1/2000', periods=1000))\n",
    "dfData16 = dfData16.cumsum()\n",
    "dfData16.plot()"
   ]
  },
  {
   "cell_type": "code",
   "execution_count": 1229,
   "metadata": {},
   "outputs": [
    {
     "data": {
      "text/plain": [
       "<matplotlib.legend.Legend at 0x17028426c08>"
      ]
     },
     "execution_count": 1229,
     "metadata": {},
     "output_type": "execute_result"
    },
    {
     "data": {
      "text/plain": [
       "<Figure size 432x288 with 0 Axes>"
      ]
     },
     "metadata": {},
     "output_type": "display_data"
    },
    {
     "data": {
      "image/png": "[encoded data removed]",
      "text/plain": [
       "<Figure size 432x288 with 1 Axes>"
      ]
     },
     "metadata": {
      "needs_background": "light"
     },
     "output_type": "display_data"
    }
   ],
   "source": [
    "dfData17 = pd.DataFrame(np.random.randn(1000, 4), index=ts.index,\n",
    "                  columns=['A', 'B', 'C', 'D'])\n",
    "\n",
    "dfData17 = dfData17.cumsum()\n",
    "\n",
    "plt.figure(); dfData17.plot(); plt.legend(loc='best')"
   ]
  },
  {
   "cell_type": "code",
   "execution_count": 1230,
   "metadata": {},
   "outputs": [
    {
     "data": {
      "text/plain": [
       "<matplotlib.axes._subplots.AxesSubplot at 0x170294f8c88>"
      ]
     },
     "execution_count": 1230,
     "metadata": {},
     "output_type": "execute_result"
    },
    {
     "data": {
      "image/png": "[encoded data removed]",
      "text/plain": [
       "<Figure size 432x288 with 1 Axes>"
      ]
     },
     "metadata": {
      "needs_background": "light"
     },
     "output_type": "display_data"
    }
   ],
   "source": [
    "# Plotting a Histogram\n",
    "\n",
    "dfData17['A'].plot(kind='hist', title='Rating')"
   ]
  },
  {
   "cell_type": "code",
   "execution_count": 1231,
   "metadata": {},
   "outputs": [
    {
     "data": {
      "text/plain": [
       "<matplotlib.axes._subplots.AxesSubplot at 0x170295a5fc8>"
      ]
     },
     "execution_count": 1231,
     "metadata": {},
     "output_type": "execute_result"
    },
    {
     "data": {
      "image/png": "[encoded data removed]",
      "text/plain": [
       "<Figure size 432x288 with 1 Axes>"
      ]
     },
     "metadata": {
      "needs_background": "light"
     },
     "output_type": "display_data"
    }
   ],
   "source": [
    "# Plotting a Box\n",
    "\n",
    "dfData17['A'].plot(kind='box', title='Rating')"
   ]
  },
  {
   "cell_type": "markdown",
   "metadata": {},
   "source": [
    "![Flow Data Box.gif](images/Flow Data Box.gif)"
   ]
  },
  {
   "cell_type": "code",
   "execution_count": 1232,
   "metadata": {},
   "outputs": [
    {
     "data": {
      "text/plain": [
       "<matplotlib.axes._subplots.AxesSubplot at 0x1702956d248>"
      ]
     },
     "execution_count": 1232,
     "metadata": {},
     "output_type": "execute_result"
    },
    {
     "data": {
      "image/png": "[encoded data removed]",
      "text/plain": [
       "<Figure size 432x288 with 1 Axes>"
      ]
     },
     "metadata": {
      "needs_background": "light"
     },
     "output_type": "display_data"
    }
   ],
   "source": [
    "# Creating new Box plot by combining categorical and continuous data\n",
    "\n",
    "dfData15.boxplot(column='LearnerID', by='Grade')\n"
   ]
  },
  {
   "cell_type": "markdown",
   "metadata": {},
   "source": [
    "### File IO\n",
    "\n",
    "#### .csv Files\n",
    "\n",
    "Writing to Reading from HDFStores."
   ]
  },
  {
   "cell_type": "code",
   "execution_count": 1233,
   "metadata": {},
   "outputs": [],
   "source": [
    "# Writig to a .csv file\n",
    "\n",
    "dfData2.to_csv('foo.csv')"
   ]
  },
  {
   "cell_type": "code",
   "execution_count": 1234,
   "metadata": {},
   "outputs": [
    {
     "data": {
      "text/html": [
       "<div>\n",
       "<style scoped>\n",
       "    .dataframe tbody tr th:only-of-type {\n",
       "        vertical-align: middle;\n",
       "    }\n",
       "\n",
       "    .dataframe tbody tr th {\n",
       "        vertical-align: top;\n",
       "    }\n",
       "\n",
       "    .dataframe thead th {\n",
       "        text-align: right;\n",
       "    }\n",
       "</style>\n",
       "<table border=\"1\" class=\"dataframe\">\n",
       "  <thead>\n",
       "    <tr style=\"text-align: right;\">\n",
       "      <th></th>\n",
       "      <th>Unnamed: 0</th>\n",
       "      <th>StartValue</th>\n",
       "      <th>StartDate</th>\n",
       "      <th>EndValue</th>\n",
       "      <th>Activity</th>\n",
       "      <th>Action</th>\n",
       "      <th>Response</th>\n",
       "    </tr>\n",
       "  </thead>\n",
       "  <tbody>\n",
       "    <tr>\n",
       "      <td>0</td>\n",
       "      <td>0</td>\n",
       "      <td>1.0</td>\n",
       "      <td>2019-01-02</td>\n",
       "      <td>1.0</td>\n",
       "      <td>3</td>\n",
       "      <td>test</td>\n",
       "      <td>foo</td>\n",
       "    </tr>\n",
       "    <tr>\n",
       "      <td>1</td>\n",
       "      <td>1</td>\n",
       "      <td>1.0</td>\n",
       "      <td>2019-01-02</td>\n",
       "      <td>1.0</td>\n",
       "      <td>3</td>\n",
       "      <td>train</td>\n",
       "      <td>foo</td>\n",
       "    </tr>\n",
       "    <tr>\n",
       "      <td>2</td>\n",
       "      <td>2</td>\n",
       "      <td>1.0</td>\n",
       "      <td>2019-01-02</td>\n",
       "      <td>1.0</td>\n",
       "      <td>3</td>\n",
       "      <td>test</td>\n",
       "      <td>foo</td>\n",
       "    </tr>\n",
       "    <tr>\n",
       "      <td>3</td>\n",
       "      <td>3</td>\n",
       "      <td>1.0</td>\n",
       "      <td>2019-01-02</td>\n",
       "      <td>1.0</td>\n",
       "      <td>3</td>\n",
       "      <td>train</td>\n",
       "      <td>foo</td>\n",
       "    </tr>\n",
       "  </tbody>\n",
       "</table>\n",
       "</div>"
      ],
      "text/plain": [
       "   Unnamed: 0  StartValue   StartDate  EndValue  Activity Action Response\n",
       "0           0         1.0  2019-01-02       1.0         3   test      foo\n",
       "1           1         1.0  2019-01-02       1.0         3  train      foo\n",
       "2           2         1.0  2019-01-02       1.0         3   test      foo\n",
       "3           3         1.0  2019-01-02       1.0         3  train      foo"
      ]
     },
     "execution_count": 1234,
     "metadata": {},
     "output_type": "execute_result"
    }
   ],
   "source": [
    "# Reading from a .csv file\n",
    "\n",
    "pd.read_csv('foo.csv')"
   ]
  },
  {
   "cell_type": "markdown",
   "metadata": {},
   "source": [
    "#### HDF5\n",
    "\n",
    "Writing to Reading from HDFStores."
   ]
  },
  {
   "cell_type": "code",
   "execution_count": 1235,
   "metadata": {},
   "outputs": [],
   "source": [
    "# Writing to a HDF5 Store\n",
    "\n",
    "dfData1.to_hdf('foo.h5','dfData1')"
   ]
  },
  {
   "cell_type": "code",
   "execution_count": 1236,
   "metadata": {},
   "outputs": [
    {
     "data": {
      "text/html": [
       "<div>\n",
       "<style scoped>\n",
       "    .dataframe tbody tr th:only-of-type {\n",
       "        vertical-align: middle;\n",
       "    }\n",
       "\n",
       "    .dataframe tbody tr th {\n",
       "        vertical-align: top;\n",
       "    }\n",
       "\n",
       "    .dataframe thead th {\n",
       "        text-align: right;\n",
       "    }\n",
       "</style>\n",
       "<table border=\"1\" class=\"dataframe\">\n",
       "  <thead>\n",
       "    <tr style=\"text-align: right;\">\n",
       "      <th></th>\n",
       "      <th>A</th>\n",
       "      <th>B</th>\n",
       "      <th>C</th>\n",
       "      <th>D</th>\n",
       "    </tr>\n",
       "  </thead>\n",
       "  <tbody>\n",
       "    <tr>\n",
       "      <td>2019-01-01</td>\n",
       "      <td>-0.018862</td>\n",
       "      <td>0.506884</td>\n",
       "      <td>0.002931</td>\n",
       "      <td>-0.134582</td>\n",
       "    </tr>\n",
       "    <tr>\n",
       "      <td>2019-01-02</td>\n",
       "      <td>0.160282</td>\n",
       "      <td>1.263459</td>\n",
       "      <td>-0.304879</td>\n",
       "      <td>0.063906</td>\n",
       "    </tr>\n",
       "    <tr>\n",
       "      <td>2019-01-03</td>\n",
       "      <td>-0.489581</td>\n",
       "      <td>-0.140495</td>\n",
       "      <td>-1.804682</td>\n",
       "      <td>-0.830140</td>\n",
       "    </tr>\n",
       "    <tr>\n",
       "      <td>2019-01-04</td>\n",
       "      <td>0.533439</td>\n",
       "      <td>1.288184</td>\n",
       "      <td>0.830266</td>\n",
       "      <td>0.693305</td>\n",
       "    </tr>\n",
       "    <tr>\n",
       "      <td>2019-01-05</td>\n",
       "      <td>0.392912</td>\n",
       "      <td>-0.643530</td>\n",
       "      <td>1.619957</td>\n",
       "      <td>0.316364</td>\n",
       "    </tr>\n",
       "    <tr>\n",
       "      <td>2019-01-06</td>\n",
       "      <td>0.297479</td>\n",
       "      <td>-0.755912</td>\n",
       "      <td>2.391173</td>\n",
       "      <td>2.099550</td>\n",
       "    </tr>\n",
       "  </tbody>\n",
       "</table>\n",
       "</div>"
      ],
      "text/plain": [
       "                   A         B         C         D\n",
       "2019-01-01 -0.018862  0.506884  0.002931 -0.134582\n",
       "2019-01-02  0.160282  1.263459 -0.304879  0.063906\n",
       "2019-01-03 -0.489581 -0.140495 -1.804682 -0.830140\n",
       "2019-01-04  0.533439  1.288184  0.830266  0.693305\n",
       "2019-01-05  0.392912 -0.643530  1.619957  0.316364\n",
       "2019-01-06  0.297479 -0.755912  2.391173  2.099550"
      ]
     },
     "execution_count": 1236,
     "metadata": {},
     "output_type": "execute_result"
    }
   ],
   "source": [
    "# Reading from a HDF5 Store\n",
    "\n",
    "pd.read_hdf('foo.h5','dfData1')"
   ]
  },
  {
   "cell_type": "markdown",
   "metadata": {},
   "source": [
    "#### Excel\n",
    "\n",
    "Reading and writing to a MSExcel file."
   ]
  },
  {
   "cell_type": "code",
   "execution_count": 1237,
   "metadata": {},
   "outputs": [],
   "source": [
    "# Writing to a MSExcel file\n",
    "\n",
    "dfData2.to_excel('foo.xlsx', sheet_name='Sheet1')"
   ]
  },
  {
   "cell_type": "code",
   "execution_count": 1238,
   "metadata": {},
   "outputs": [
    {
     "data": {
      "text/html": [
       "<div>\n",
       "<style scoped>\n",
       "    .dataframe tbody tr th:only-of-type {\n",
       "        vertical-align: middle;\n",
       "    }\n",
       "\n",
       "    .dataframe tbody tr th {\n",
       "        vertical-align: top;\n",
       "    }\n",
       "\n",
       "    .dataframe thead th {\n",
       "        text-align: right;\n",
       "    }\n",
       "</style>\n",
       "<table border=\"1\" class=\"dataframe\">\n",
       "  <thead>\n",
       "    <tr style=\"text-align: right;\">\n",
       "      <th></th>\n",
       "      <th>Unnamed: 0</th>\n",
       "      <th>StartValue</th>\n",
       "      <th>StartDate</th>\n",
       "      <th>EndValue</th>\n",
       "      <th>Activity</th>\n",
       "      <th>Action</th>\n",
       "      <th>Response</th>\n",
       "    </tr>\n",
       "  </thead>\n",
       "  <tbody>\n",
       "    <tr>\n",
       "      <td>0</td>\n",
       "      <td>0</td>\n",
       "      <td>1</td>\n",
       "      <td>2019-01-02</td>\n",
       "      <td>1</td>\n",
       "      <td>3</td>\n",
       "      <td>test</td>\n",
       "      <td>foo</td>\n",
       "    </tr>\n",
       "    <tr>\n",
       "      <td>1</td>\n",
       "      <td>1</td>\n",
       "      <td>1</td>\n",
       "      <td>2019-01-02</td>\n",
       "      <td>1</td>\n",
       "      <td>3</td>\n",
       "      <td>train</td>\n",
       "      <td>foo</td>\n",
       "    </tr>\n",
       "    <tr>\n",
       "      <td>2</td>\n",
       "      <td>2</td>\n",
       "      <td>1</td>\n",
       "      <td>2019-01-02</td>\n",
       "      <td>1</td>\n",
       "      <td>3</td>\n",
       "      <td>test</td>\n",
       "      <td>foo</td>\n",
       "    </tr>\n",
       "    <tr>\n",
       "      <td>3</td>\n",
       "      <td>3</td>\n",
       "      <td>1</td>\n",
       "      <td>2019-01-02</td>\n",
       "      <td>1</td>\n",
       "      <td>3</td>\n",
       "      <td>train</td>\n",
       "      <td>foo</td>\n",
       "    </tr>\n",
       "  </tbody>\n",
       "</table>\n",
       "</div>"
      ],
      "text/plain": [
       "   Unnamed: 0  StartValue  StartDate  EndValue  Activity Action Response\n",
       "0           0           1 2019-01-02         1         3   test      foo\n",
       "1           1           1 2019-01-02         1         3  train      foo\n",
       "2           2           1 2019-01-02         1         3   test      foo\n",
       "3           3           1 2019-01-02         1         3  train      foo"
      ]
     },
     "execution_count": 1238,
     "metadata": {},
     "output_type": "execute_result"
    }
   ],
   "source": [
    "# Reading from a MSExcel file\n",
    "\n",
    "pd.read_excel('foo.xlsx', 'Sheet1', index_col=None, na_values=['NA'])"
   ]
  },
  {
   "cell_type": "markdown",
   "metadata": {},
   "source": [
    "## Gotchas\n",
    "\n",
    "pandas follows the numpy convention of raising an ValueError when trying to convert a value to a Boolean.\n",
    "This is applicable to the Boolean operations: and, or, or not.\n",
    "\n",
    "INPUT\n",
    "`if pd.Series([False, True, False]):\n",
    "    print(\"I was true\")`\n",
    "\n",
    "OUTPUT\n",
    "ValueError: The truth value of a Series is ambiguous. \n",
    "Use a.empty, a.bool() a.item(),a.any() or a.all()."
   ]
  },
  {
   "cell_type": "markdown",
   "metadata": {},
   "source": [
    "## Index of common pandas DataFrame methods\n",
    "\n",
    "- `.add()` : Method returns addition of dataframe and other, element-wise (binary operator add)\n",
    "- `.astype()` : Method converts the data types in a Series\n",
    "- `.axes()` : Method returns a list representing the axes of the DataFrame\n",
    "- `.between()` : Method extracts rows where a column value falls in between a predefined range\n",
    "- `.columns()` : Method is an alternative attribute to change the coloumn name\n",
    "- `.columns()` : Method returns the column labels of the DataFrame\n",
    "- `.copy()` : Method creates an independent copy of a pandas object\n",
    "- `.div()` : Method returns floating division of dataframe and other, element-wise (binary operator truediv)\n",
    "- `.drop()` : Method is used to delete rows or columns from a DataFrame\n",
    "- `.drop_duplicates()` : Method is an alternative option to identifying duplicate rows and removing them through filtering\n",
    "- `.dropna()` : Method allows the user to analyze and drop Rows/Columns with Null values in different ways\n",
    "- `.dtypes()` : Method returns a Series with the data type of each column. The result’s index is the original DataFrame’s columns\n",
    "- `.duplicated()` : Method creates a Boolean Series and uses it to extract rows that have duplicate values\n",
    "- `.fillna()` : Method manages and let the user replace NaN values with some value of their own\n",
    "- `.iloc[]` : Method retrieves rows based on index position\n",
    "- `.index()` : Method returns index (row labels) of the DataFrame\n",
    "- `.insert()` : Method inserts a column into a DataFrame\n",
    "- `.isin()` : Method extracts rows from a DataFrame where a column value exists in a predefined collection\n",
    "- `.isnull()` : Method creates a Boolean Series for extracting rows with null values\n",
    "- `.ix[]` : Method retrieves DataFrame rows based on either index label or index position. This method combines the best features of the .loc[] and .iloc[] methods\n",
    "- `.loc[]` : Method retrieves rows based on index label\n",
    "- `.mul()` : Method returns multiplication of dataframe and other, element-wise (binary operator mul)\n",
    "- `.ndim()` : Method returns an ‘int’ representing the number of axes / array dimensions.\n",
    "- `.nlargest()` : Method pulls out the rows with the largest values in a column\n",
    "- `.notnull()` : Method creates a Boolean Series for extracting rows with non-null values\n",
    "- `.nsmallest()` : Method pulls out the rows with the smallest values in a column\n",
    "- `.nunique()` : Method returns count of the unique values in the dataframe\n",
    "- `.pop()` : Method is used to delete rows or columns from a DataFrame\n",
    "- `.query()` : Method is an alternate string-based syntax for extracting a subset from a DataFrame\n",
    "- `.rank()` : Values in a Series can be ranked in order with this method\n",
    "- `.rename()` : Method is called on a DataFrame to change the names of the index labels or column names\n",
    "- `.reset_index()` : Method resets index of a Data Frame. This method sets a list of integer ranging from 0 to length of data as index\n",
    "- `.sample()` : Method pulls out a random sample of rows or columns from a DataFrame\n",
    "- `.set_index()` : Method sets the DataFrame index (row labels) using one or more existing columns\n",
    "- `.shape()` : Method returns a tuple representing the dimensionality of the DataFrame\n",
    "- `.sort_index()` : Method sorts the values in a DataFrame based on their index positions or labels instead of their values but sometimes a data frame is made out of two or more data frames and hence later index can be changed using this method\n",
    "- `.sort_values()- Set1, Set2` : Method sorts a data frame in Ascending or Descending order of passed Column\n",
    "- `.unique()` : Method extracts the unique values in the dataframe\n",
    "- `.value_counts()` : Method counts the number of times each unique value occurs within the Series\n",
    "- `.values()` : Method returns a Numpy representation of the DataFrame i.e. only the values in the DataFrame will be returned, the axes labels will be removed\n",
    "- `.where()` : Method is used to check a Data Frame for one or more condition and return the result accordingly. By default, the rows not satisfying the condition are filled with NaN value\n"
   ]
  },
  {
   "cell_type": "markdown",
   "metadata": {},
   "source": [
    "## References\n",
    "\n",
    "- https://pandas.pydata.org/\n",
    "- https://pbpython.com/\n",
    "- https://towardsdatascience.com/a-guide-to-pandas-and-matplotlib-for-data-exploration-56fad95f951c\n",
    "- https://www.geeksforgeeks.org/python-pandas-dataframe/\n",
    "- https://towardsdatascience.com/21-pandas-operations-for-absolute-beginners-5653e54f4cda\n",
    "- https://www.learndatasci.com/tutorials/python-pandas-tutorial-complete-introduction-for-beginners/\n",
    "- https://www.shanelynn.ie/select-pandas-dataframe-rows-and-columns-using-iloc-loc-and-ix/\n",
    "- https://www.dataquest.io/blog/tutorial-time-series-analysis-with-pandas/\n",
    "- https://www.tutorialspoint.com/python_pandas/index.htm\n",
    "- https://jakevdp.github.io/PythonDataScienceHandbook/"
   ]
  }
 ],
 "metadata": {
  "kernelspec": {
   "display_name": "Python 3",
   "language": "python",
   "name": "python3"
  },
  "language_info": {
   "codemirror_mode": {
    "name": "ipython",
    "version": 3
   },
   "file_extension": ".py",
   "mimetype": "text/x-python",
   "name": "python",
   "nbconvert_exporter": "python",
   "pygments_lexer": "ipython3",
   "version": "3.7.4"
  }
 },
 "nbformat": 4,
 "nbformat_minor": 4
}
