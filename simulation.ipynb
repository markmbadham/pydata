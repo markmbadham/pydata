{
 "cells": [
  {
   "cell_type": "markdown",
   "metadata": {
    "slideshow": {
     "slide_type": "slide"
    }
   },
   "source": [
    "# Monte Carlo Simulation\n",
    "\n",
    "Random walk simulation from socratica"
   ]
  },
  {
   "cell_type": "code",
   "execution_count": 7,
   "metadata": {
    "slideshow": {
     "slide_type": "fragment"
    }
   },
   "outputs": [],
   "source": [
    "import random\n",
    "def random_walk(n):\n",
    "    x = 0\n",
    "    y = 0\n",
    "    for i in range(n):\n",
    "        step = random.choice(['N','S','E','W'])\n",
    "        if step == 'N':\n",
    "            y = y+ 1\n",
    "        elif step == 'S':\n",
    "            y = y - 1\n",
    "        elif step == 'E':\n",
    "            x = x + 1\n",
    "        else: \n",
    "            x = x - 1\n",
    "    return x, y"
   ]
  },
  {
   "cell_type": "code",
   "execution_count": 8,
   "metadata": {
    "slideshow": {
     "slide_type": "subslide"
    }
   },
   "outputs": [
    {
     "name": "stdout",
     "output_type": "stream",
     "text": [
      "(1, 3) Distance from home =  4\n",
      "(-2, 0) Distance from home =  2\n",
      "(1, -3) Distance from home =  4\n",
      "(3, 1) Distance from home =  4\n",
      "(0, -4) Distance from home =  4\n",
      "(1, -1) Distance from home =  2\n",
      "(-3, -1) Distance from home =  2\n",
      "(-1, -3) Distance from home =  2\n",
      "(-2, -2) Distance from home =  0\n",
      "(2, 0) Distance from home =  2\n",
      "(1, 5) Distance from home =  6\n",
      "(3, 3) Distance from home =  6\n",
      "(-2, 0) Distance from home =  2\n",
      "(-3, -3) Distance from home =  0\n",
      "(1, 3) Distance from home =  4\n",
      "(1, -3) Distance from home =  4\n",
      "(0, 0) Distance from home =  0\n",
      "(-1, 3) Distance from home =  2\n",
      "(-1, -3) Distance from home =  2\n",
      "(0, 0) Distance from home =  0\n",
      "(2, 2) Distance from home =  4\n",
      "(4, -2) Distance from home =  6\n",
      "(3, 3) Distance from home =  6\n",
      "(4, 0) Distance from home =  4\n",
      "(-4, -4) Distance from home =  0\n"
     ]
    }
   ],
   "source": [
    "for i in range(25):\n",
    "    walk = random_walk(10)\n",
    "    print(walk, \"Distance from home = \", abs(walk[0] + abs(walk[1])))"
   ]
  },
  {
   "cell_type": "code",
   "execution_count": null,
   "metadata": {},
   "outputs": [],
   "source": []
  }
 ],
 "metadata": {
  "kernelspec": {
   "display_name": "Python 3",
   "language": "python",
   "name": "python3"
  },
  "language_info": {
   "codemirror_mode": {
    "name": "ipython",
    "version": 3
   },
   "file_extension": ".py",
   "mimetype": "text/x-python",
   "name": "python",
   "nbconvert_exporter": "python",
   "pygments_lexer": "ipython3",
   "version": "3.7.3"
  }
 },
 "nbformat": 4,
 "nbformat_minor": 2
}
