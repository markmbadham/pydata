{
 "cells": [
  {
   "cell_type": "markdown",
   "metadata": {},
   "source": [
    "# pandas Exercise\n",
    "\n",
    "Using the data collected, you have been asked to present a Report based on three Survey Results, and location/address details of the Respondents\n",
    "\n",
    "- To identify trends in customer experience\t\t\t\t\t\t\t\t\n",
    "- To identify areas that need improvement\t\t\t\t\t\t\t\t\n",
    "- To identify strengths in customer experience\n",
    "\n",
    "Considerations for your Report could possibly include\n",
    "\n",
    "- identify if there is any duplicate Data in the data sets \n",
    "- identify the correlation between the Ordering Habits and Age\n",
    "- identify the covariance between the Frequency of Visits and if the outlet would be Recommended\n",
    "- identify the percentage change in those prepared to Recommend over the time series\n",
    "- identify the average customer profile, and if different across the Counties\n",
    "- identify the average outlet profile, and if different across the Counties\n",
    "- identify the popularity of the various Burgers, and if different across the Counties\n"
   ]
  },
  {
   "cell_type": "markdown",
   "metadata": {},
   "source": [
    "These were the Categories applied to the data:\n",
    "\n",
    "**Q2 AgeGroup**\n",
    "- 1\t: 18 – 25 years\n",
    "- 2\t: 26 – 35 years\n",
    "- 3\t: 36 – 45 years\n",
    "- 4\t: 46 – 55 years\n",
    "- 5\t: 56+ years\n",
    "\n",
    "**Q3 TimesBought**\n",
    "- 1 : Once\n",
    "- 2\t: 2 – 3 times\n",
    "- 3\t: 4 – 5 times\n",
    "- 4 :6+ times\n",
    "\n",
    "**Q4 Ordered**\n",
    "- 1 : In-restaurant ordering and sitting down\n",
    "- 2 : In-restaurant ordering and eating elsewhere\n",
    "- 3 : Ordering at the drive thru\n",
    "\n",
    "**Q5 (Friendly staff; Quality food; Value for money; Quick service)**\n",
    "- 1 : Very Poor\n",
    "- 2 : Poor\n",
    "- 3 : Neither good nor poor\n",
    "- 4 : Good\n",
    "- 5 : Very Good\n",
    "\n",
    "**Q6 Burger**\n",
    "- 1 : Beef burger\n",
    "- 2 : Cheese burger\n",
    "- 3 : Mushroom burger\n",
    "- 4 : Chicken burger\n",
    "\n",
    "**Q7 Recommend**\n",
    "- 1 : Highly Unlikely\n",
    "- 2 : Unlikely\n",
    "- 3 : Maybe\n",
    "- 4 : Likely\n",
    "- 5 : Highly Likely\n",
    "\n"
   ]
  },
  {
   "cell_type": "markdown",
   "metadata": {},
   "source": [
    "The data sets are available in .csv files as follows:\n",
    "\n",
    "- SurveyResults_Mar2017.csv\n",
    "- SurveyResults_Sep2017.csv\n",
    "- SurveyResults_Sep2018.csv\n",
    "- uk-500.csv\n"
   ]
  },
  {
   "cell_type": "code",
   "execution_count": null,
   "metadata": {},
   "outputs": [],
   "source": []
  }
 ],
 "metadata": {
  "kernelspec": {
   "display_name": "Python 3",
   "language": "python",
   "name": "python3"
  },
  "language_info": {
   "codemirror_mode": {
    "name": "ipython",
    "version": 3
   },
   "file_extension": ".py",
   "mimetype": "text/x-python",
   "name": "python",
   "nbconvert_exporter": "python",
   "pygments_lexer": "ipython3",
   "version": "3.7.3"
  }
 },
 "nbformat": 4,
 "nbformat_minor": 2
}
